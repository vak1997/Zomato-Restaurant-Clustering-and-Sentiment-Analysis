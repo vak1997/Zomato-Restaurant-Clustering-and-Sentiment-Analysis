{
  "nbformat": 4,
  "nbformat_minor": 0,
  "metadata": {
    "colab": {
      "provenance": [],
      "collapsed_sections": [
        "mDgbUHAGgjLW",
        "7hBIi_osiCS2",
        "JlHwYmJAmNHm",
        "35m5QtbWiB9F",
        "PoPl-ycgm1ru",
        "H0kj-8xxnORC",
        "nA9Y7ga8ng1Z",
        "PBTbrJXOngz2",
        "u3PMJOP6ngxN",
        "dauF4eBmngu3",
        "bKJF3rekwFvQ",
        "MSa1f5Uengrz",
        "GF8Ens_Soomf",
        "0wOQAZs5pc--",
        "K5QZ13OEpz2H",
        "lQ7QKXXCp7Bj",
        "448CDAPjqfQr",
        "KSlN3yHqYklG",
        "t6dVpIINYklI",
        "ijmpgYnKYklI",
        "-JiQyfWJYklI",
        "EM7whBJCYoAo",
        "fge-S5ZAYoAp",
        "85gYPyotYoAp",
        "RoGjAbkUYoAp",
        "4Of9eVA-YrdM",
        "iky9q4vBYrdO",
        "F6T5p64dYrdO",
        "y-Ehk30pYrdP",
        "bamQiAODYuh1",
        "QHF8YVU7Yuh3",
        "GwzvFGzlYuh3",
        "qYpmQ266Yuh3",
        "OH-pJp9IphqM",
        "bbFf2-_FphqN",
        "_ouA3fa0phqN",
        "Seke61FWphqN",
        "PIIx-8_IphqN",
        "t27r6nlMphqO",
        "r2jJGEOYphqO",
        "b0JNsNcRphqO",
        "BZR9WyysphqO",
        "jj7wYXLtphqO",
        "eZrbJ2SmphqO",
        "rFu4xreNphqO",
        "YJ55k-q6phqO",
        "gCFgpxoyphqP",
        "OVtJsKN_phqQ",
        "lssrdh5qphqQ",
        "U2RJ9gkRphqQ",
        "1M8mcRywphqQ",
        "tgIPom80phqQ",
        "JMzcOPDDphqR",
        "x-EpHcCOp1ci",
        "X_VqEhTip1ck",
        "8zGJKyg5p1ck",
        "PVzmfK_Ep1ck",
        "n3dbpmDWp1ck",
        "ylSl6qgtp1ck",
        "ZWILFDl5p1ck",
        "M7G43BXep1ck",
        "Ag9LCva-p1cl",
        "E6MkPsBcp1cl",
        "2cELzS2fp1cl",
        "3MPXvC8up1cl",
        "NC_X3p0fY2L0",
        "UV0SzAkaZNRQ",
        "YPEH6qLeZNRQ",
        "q29F0dvdveiT",
        "EXh0U9oCveiU",
        "22aHeOlLveiV",
        "g-ATYxFrGrvw",
        "Yfr_Vlr8HBkt",
        "8yEUt7NnHlrM",
        "tEA2Xm5dHt1r",
        "I79__PHVH19G",
        "Ou-I18pAyIpj",
        "fF3858GYyt-u",
        "4_0_7-oCpUZd",
        "hwyV_J3ipUZe",
        "3yB-zSqbpUZe",
        "dEUvejAfpUZe",
        "Fd15vwWVpUZf",
        "bn_IUdTipZyH",
        "49K5P_iCpZyH",
        "Nff-vKELpZyI",
        "kLW572S8pZyI",
        "dWbDXHzopZyI",
        "yLjJCtPM0KBk",
        "xiyOF9F70UgQ",
        "7wuGOrhz0itI",
        "id1riN9m0vUs",
        "578E2V7j08f6",
        "89xtkJwZ18nB",
        "67NQN5KX2AMe",
        "Iwf50b-R2tYG",
        "GMQiZwjn3iu7",
        "WVIkgGqN3qsr",
        "XkPnILGE3zoT",
        "Hlsf0x5436Go",
        "mT9DMSJo4nBL",
        "c49ITxTc407N",
        "OeJFEK0N496M",
        "9ExmJH0g5HBk",
        "cJNqERVU536h",
        "k5UmGsbsOxih",
        "T0VqWOYE6DLQ",
        "qBMux9mC6MCf",
        "-oLEiFgy-5Pf",
        "C74aWNz2AliB",
        "2DejudWSA-a0",
        "pEMng2IbBLp7",
        "rAdphbQ9Bhjc",
        "TNVZ9zx19K6k",
        "nqoHp30x9hH9",
        "rMDnDkt2B6du",
        "yiiVWRdJDDil",
        "1UUpS68QDMuG",
        "kexQrXU-DjzY",
        "T5CmagL3EC8N",
        "BhH2vgX9EjGr",
        "qjKvONjwE8ra",
        "P1XJ9OREExlT",
        "VFOzZv6IFROw",
        "TIqpNgepFxVj",
        "VfCC591jGiD4",
        "OB4l2ZhMeS1U",
        "ArJBuiUVfxKd",
        "4qY1EAkEfxKe",
        "PiV4Ypx8fxKe",
        "TfvqoZmBfxKf",
        "dJ2tPlVmpsJ0",
        "JWYfwnehpsJ1",
        "-jK_YjpMpsJ2",
        "HAih1iBOpsJ2",
        "zVGeBEFhpsJ2",
        "bmKjuQ-FpsJ3",
        "Fze-IPXLpx6K",
        "7AN1z2sKpx6M",
        "9PIHJqyupx6M",
        "_-qAgymDpx6N",
        "Z-hykwinpx6N",
        "h_CCil-SKHpo",
        "cBFFvTBNJzUa",
        "HvGl1hHyA_VK",
        "EyNgTHvd2WFk",
        "KH5McJBi2d8v",
        "iW_Lq9qf2h6X",
        "-Kee-DAl2viO",
        "gCX9965dhzqZ",
        "gIfDvo9L0UH2"
      ],
      "include_colab_link": true
    },
    "kernelspec": {
      "name": "python3",
      "display_name": "Python 3"
    },
    "language_info": {
      "name": "python"
    },
    "gpuClass": "standard"
  },
  "cells": [
    {
      "cell_type": "markdown",
      "metadata": {
        "id": "view-in-github",
        "colab_type": "text"
      },
      "source": [
        "<a href=\"https://colab.research.google.com/github/vak1997/Zomato-Restaurant-Clustering-and-Sentiment-Analysis/blob/main/Zomato_Restaurant_Clustering_and_Sentiment_Analysis.ipynb\" target=\"_parent\"><img src=\"https://colab.research.google.com/assets/colab-badge.svg\" alt=\"Open In Colab\"/></a>"
      ]
    },
    {
      "cell_type": "markdown",
      "source": [
        "# **Project Name**    - **Zomato Restaurant Clustering and Sentiment Analysis**\n",
        "\n",
        "\n"
      ],
      "metadata": {
        "id": "vncDsAP0Gaoa"
      }
    },
    {
      "cell_type": "markdown",
      "source": [
        "##### **Project Type**    - Unsupervised ML\n",
        "##### **Contribution**    - Individual\n",
        "##### **Team Member 1 - Arun Kumar V**\n"
      ],
      "metadata": {
        "id": "beRrZCGUAJYm"
      }
    },
    {
      "cell_type": "markdown",
      "source": [
        "# **Project Summary -**"
      ],
      "metadata": {
        "id": "FJNUwmbgGyua"
      }
    },
    {
      "cell_type": "markdown",
      "source": [
        "Zomato is an Indian restaurant aggregator and food delivery start-up founded by Deepinder Goyal and Pankaj Chaddah in 2008. Zomato provides information, menus and user-reviews of restaurants, and also has food delivery options from partner restaurants in select cities.\n",
        "\n",
        "India is quite famous for its diverse multi cuisine available in a large number of restaurants and hotel resorts, which is reminiscent of unity in diversity. Restaurant business in India is always evolving. More Indians are warming up to the idea of eating restaurant food whether by dining outside or getting food delivered. The growing number of restaurants in every state of India has been a motivation to inspect the data to get some insights, interesting facts and figures about the Indian food industry in each city. So, this project focuses on analysing the Zomato restaurant data for each city in India.\n",
        "\n",
        " "
      ],
      "metadata": {
        "id": "F6v_1wHtG2nS"
      }
    },
    {
      "cell_type": "markdown",
      "source": [
        "# **GitHub Link -**"
      ],
      "metadata": {
        "id": "w6K7xa23Elo4"
      }
    },
    {
      "cell_type": "markdown",
      "source": [
        "https://github.com/vak1997/Zomato-Restaurant-Clustering-and-Sentiment-Analysis/\n"
      ],
      "metadata": {
        "id": "h1o69JH3Eqqn"
      }
    },
    {
      "cell_type": "markdown",
      "source": [
        "# **Problem Statement**\n"
      ],
      "metadata": {
        "id": "yQaldy8SH6Dl"
      }
    },
    {
      "cell_type": "markdown",
      "source": [
        "The Project focuses on Customers and Company, you have  to analyze the sentiments of the reviews given by the customer in the data and made some useful conclusion in the form of Visualizations. Also, cluster the zomato restaurants into different segments. The data is vizualized as it becomes easy to analyse data at instant. The Analysis also solve some of the business cases that can directly help the customers finding the Best restaurant in their locality and for the company to grow up and work on the fields they are currently lagging in.\n",
        "\n",
        "This could help in clustering the restaurants into segments. Also the data has valuable information around cuisine and costing which can be used in cost vs. benefit analysis\n",
        "\n",
        "Data could be used for sentiment analysis. Also the metadata of reviewers can be used for identifying the critics in the industry."
      ],
      "metadata": {
        "id": "DpeJGUA3kjGy"
      }
    },
    {
      "cell_type": "markdown",
      "source": [
        "# **General Guidelines** : -  "
      ],
      "metadata": {
        "id": "mDgbUHAGgjLW"
      }
    },
    {
      "cell_type": "markdown",
      "source": [
        "1.   Well-structured, formatted, and commented code is required. \n",
        "2.   Exception Handling, Production Grade Code & Deployment Ready Code will be a plus. Those students will be awarded some additional credits. \n",
        "     \n",
        "     The additional credits will have advantages over other students during Star Student selection.\n",
        "       \n",
        "             [ Note: - Deployment Ready Code is defined as, the whole .ipynb notebook should be executable in one go\n",
        "                       without a single error logged. ]\n",
        "\n",
        "3.   Each and every logic should have proper comments.\n",
        "4. You may add as many number of charts you want. Make Sure for each and every chart the following format should be answered.\n",
        "        \n",
        "\n",
        "```\n",
        "# Chart visualization code\n",
        "```\n",
        "            \n",
        "\n",
        "*   Why did you pick the specific chart?\n",
        "*   What is/are the insight(s) found from the chart?\n",
        "* Will the gained insights help creating a positive business impact? \n",
        "Are there any insights that lead to negative growth? Justify with specific reason.\n",
        "\n",
        "5. You have to create at least 15 logical & meaningful charts having important insights.\n",
        "\n",
        "\n",
        "[ Hints : - Do the Vizualization in  a structured way while following \"UBM\" Rule. \n",
        "\n",
        "U - Univariate Analysis,\n",
        "\n",
        "B - Bivariate Analysis (Numerical - Categorical, Numerical - Numerical, Categorical - Categorical)\n",
        "\n",
        "M - Multivariate Analysis\n",
        " ]\n",
        "\n",
        "\n",
        "\n",
        "\n",
        "\n",
        "6. You may add more ml algorithms for model creation. Make sure for each and every algorithm, the following format should be answered.\n",
        "\n",
        "\n",
        "*   Explain the ML Model used and it's performance using Evaluation metric Score Chart.\n",
        "\n",
        "\n",
        "*   Cross- Validation & Hyperparameter Tuning\n",
        "\n",
        "*   Have you seen any improvement? Note down the improvement with updates Evaluation metric Score Chart.\n",
        "\n",
        "*   Explain each evaluation metric's indication towards business and the business impact pf the ML model used.\n",
        "\n",
        "\n",
        "\n",
        "\n",
        "\n",
        "\n",
        "\n",
        "\n",
        "\n",
        "\n",
        "\n",
        "\n",
        "\n",
        "\n",
        "\n",
        "\n",
        "\n",
        "\n"
      ],
      "metadata": {
        "id": "ZrxVaUj-hHfC"
      }
    },
    {
      "cell_type": "markdown",
      "source": [
        "# ***Let's Begin !***"
      ],
      "metadata": {
        "id": "O_i_v8NEhb9l"
      }
    },
    {
      "cell_type": "markdown",
      "source": [
        "## ***1. Know Your Data***"
      ],
      "metadata": {
        "id": "HhfV-JJviCcP"
      }
    },
    {
      "cell_type": "markdown",
      "metadata": {
        "id": "1rDsYX7KtvFb"
      },
      "source": [
        "## **Zomato Restaurant names and Metadata**\n",
        "Use this dataset for clustering part"
      ]
    },
    {
      "cell_type": "markdown",
      "metadata": {
        "id": "3uB3PQRXtz-A"
      },
      "source": [
        "1. Name : Name of Restaurants\n",
        "\n",
        "2. Links : URL Links of Restaurants\n",
        "\n",
        "3. Cost : Per person estimated Cost of dining\n",
        "\n",
        "4. Collection : Tagging of Restaurants w.r.t. Zomato categories\n",
        "\n",
        "5. Cuisines : Cuisines served by Restaurants\n",
        "\n",
        "6. Timings : Restaurant Timings"
      ]
    },
    {
      "cell_type": "markdown",
      "metadata": {
        "id": "Pq7CVNxQuT8i"
      },
      "source": [
        "## **Zomato Restaurant reviews**\n",
        "Merge this dataset with Names and Matadata and then use for sentiment analysis part"
      ]
    },
    {
      "cell_type": "markdown",
      "metadata": {
        "id": "k9E4XoEGuc0G"
      },
      "source": [
        "1. Restaurant : Name of the Restaurant\n",
        "\n",
        "2. Reviewer : Name of the Reviewer\n",
        "\n",
        "3. Review : Review Text\n",
        "\n",
        "4. Rating : Rating Provided by Reviewer\n",
        "\n",
        "5. MetaData : Reviewer Metadata - No. of Reviews and followers\n",
        "\n",
        "6. Time: Date and Time of Review\n",
        "\n",
        "7. Pictures : No. of pictures posted with review"
      ]
    },
    {
      "cell_type": "markdown",
      "source": [
        "### Import Libraries"
      ],
      "metadata": {
        "id": "Y3lxredqlCYt"
      }
    },
    {
      "cell_type": "code",
      "source": [
        "# Import Libraries\n",
        "import pandas as pd\n",
        "import numpy as np\n",
        "import matplotlib as mpl\n",
        "import matplotlib.pyplot as plt\n",
        "%matplotlib inline\n",
        "import seaborn as sns\n",
        "plt.rcParams.update({'figure.figsize':(8,5),'figure.dpi':100})\n",
        "from datetime import datetime\n",
        "\n",
        "import warnings    \n",
        "warnings.filterwarnings('ignore')"
      ],
      "metadata": {
        "id": "M8Vqi-pPk-HR"
      },
      "execution_count": 2,
      "outputs": []
    },
    {
      "cell_type": "markdown",
      "source": [
        "### Dataset Loading"
      ],
      "metadata": {
        "id": "3RnN4peoiCZX"
      }
    },
    {
      "cell_type": "code",
      "source": [
        "#mounting google drive\n",
        "from google.colab import drive\n",
        "drive.mount('/content/drive')"
      ],
      "metadata": {
        "id": "Bb5dAXqd_kd9",
        "colab": {
          "base_uri": "https://localhost:8080/"
        },
        "outputId": "93ebb236-55bb-4251-9c46-9d96cc6c7802"
      },
      "execution_count": 3,
      "outputs": [
        {
          "output_type": "stream",
          "name": "stdout",
          "text": [
            "Mounted at /content/drive\n"
          ]
        }
      ]
    },
    {
      "cell_type": "code",
      "source": [
        "# Load Dataset\n",
        "#reading restaurent names and metadata as rest_df\n",
        "rest_df = pd.read_csv('/content/drive/MyDrive/Zomato Restaurant Clustering and Sentiment Analysis/Zomato Restaurant names and Metadata.csv')\n",
        "\n",
        "#reading restaurent reviews data as reviews_df\n",
        "reviews_df = pd.read_csv('/content/drive/MyDrive/Zomato Restaurant Clustering and Sentiment Analysis/Zomato Restaurant reviews.csv')\n"
      ],
      "metadata": {
        "id": "4CkvbW_SlZ_R"
      },
      "execution_count": 4,
      "outputs": []
    },
    {
      "cell_type": "markdown",
      "source": [
        "### Dataset First View"
      ],
      "metadata": {
        "id": "x71ZqKXriCWQ"
      }
    },
    {
      "cell_type": "code",
      "source": [
        "# Dataset First Look\n",
        "rest_df.head()"
      ],
      "metadata": {
        "id": "LWNFOSvLl09H",
        "colab": {
          "base_uri": "https://localhost:8080/",
          "height": 206
        },
        "outputId": "62527dbc-6a09-41db-9c1d-375010bcf7a1"
      },
      "execution_count": 5,
      "outputs": [
        {
          "output_type": "execute_result",
          "data": {
            "text/plain": [
              "                             Name  \\\n",
              "0                 Beyond Flavours   \n",
              "1                        Paradise   \n",
              "2                        Flechazo   \n",
              "3  Shah Ghouse Hotel & Restaurant   \n",
              "4      Over The Moon Brew Company   \n",
              "\n",
              "                                               Links   Cost  \\\n",
              "0  https://www.zomato.com/hyderabad/beyond-flavou...    800   \n",
              "1  https://www.zomato.com/hyderabad/paradise-gach...    800   \n",
              "2  https://www.zomato.com/hyderabad/flechazo-gach...  1,300   \n",
              "3  https://www.zomato.com/hyderabad/shah-ghouse-h...    800   \n",
              "4  https://www.zomato.com/hyderabad/over-the-moon...  1,200   \n",
              "\n",
              "                                         Collections  \\\n",
              "0  Food Hygiene Rated Restaurants in Hyderabad, C...   \n",
              "1                                Hyderabad's Hottest   \n",
              "2                 Great Buffets, Hyderabad's Hottest   \n",
              "3                             Late Night Restaurants   \n",
              "4  Best Bars & Pubs, Food Hygiene Rated Restauran...   \n",
              "\n",
              "                                            Cuisines  \\\n",
              "0  Chinese, Continental, Kebab, European, South I...   \n",
              "1                     Biryani, North Indian, Chinese   \n",
              "2       Asian, Mediterranean, North Indian, Desserts   \n",
              "3  Biryani, North Indian, Chinese, Seafood, Bever...   \n",
              "4  Asian, Continental, North Indian, Chinese, Med...   \n",
              "\n",
              "                                             Timings  \n",
              "0      12noon to 3:30pm, 6:30pm to 11:30pm (Mon-Sun)  \n",
              "1                                     11 AM to 11 PM  \n",
              "2              11:30 AM to 4:30 PM, 6:30 PM to 11 PM  \n",
              "3                                    12 Noon to 2 AM  \n",
              "4  12noon to 11pm (Mon, Tue, Wed, Thu, Sun), 12no...  "
            ],
            "text/html": [
              "\n",
              "  <div id=\"df-026b6311-7853-4e64-b4a9-6ef23a0ea2ae\">\n",
              "    <div class=\"colab-df-container\">\n",
              "      <div>\n",
              "<style scoped>\n",
              "    .dataframe tbody tr th:only-of-type {\n",
              "        vertical-align: middle;\n",
              "    }\n",
              "\n",
              "    .dataframe tbody tr th {\n",
              "        vertical-align: top;\n",
              "    }\n",
              "\n",
              "    .dataframe thead th {\n",
              "        text-align: right;\n",
              "    }\n",
              "</style>\n",
              "<table border=\"1\" class=\"dataframe\">\n",
              "  <thead>\n",
              "    <tr style=\"text-align: right;\">\n",
              "      <th></th>\n",
              "      <th>Name</th>\n",
              "      <th>Links</th>\n",
              "      <th>Cost</th>\n",
              "      <th>Collections</th>\n",
              "      <th>Cuisines</th>\n",
              "      <th>Timings</th>\n",
              "    </tr>\n",
              "  </thead>\n",
              "  <tbody>\n",
              "    <tr>\n",
              "      <th>0</th>\n",
              "      <td>Beyond Flavours</td>\n",
              "      <td>https://www.zomato.com/hyderabad/beyond-flavou...</td>\n",
              "      <td>800</td>\n",
              "      <td>Food Hygiene Rated Restaurants in Hyderabad, C...</td>\n",
              "      <td>Chinese, Continental, Kebab, European, South I...</td>\n",
              "      <td>12noon to 3:30pm, 6:30pm to 11:30pm (Mon-Sun)</td>\n",
              "    </tr>\n",
              "    <tr>\n",
              "      <th>1</th>\n",
              "      <td>Paradise</td>\n",
              "      <td>https://www.zomato.com/hyderabad/paradise-gach...</td>\n",
              "      <td>800</td>\n",
              "      <td>Hyderabad's Hottest</td>\n",
              "      <td>Biryani, North Indian, Chinese</td>\n",
              "      <td>11 AM to 11 PM</td>\n",
              "    </tr>\n",
              "    <tr>\n",
              "      <th>2</th>\n",
              "      <td>Flechazo</td>\n",
              "      <td>https://www.zomato.com/hyderabad/flechazo-gach...</td>\n",
              "      <td>1,300</td>\n",
              "      <td>Great Buffets, Hyderabad's Hottest</td>\n",
              "      <td>Asian, Mediterranean, North Indian, Desserts</td>\n",
              "      <td>11:30 AM to 4:30 PM, 6:30 PM to 11 PM</td>\n",
              "    </tr>\n",
              "    <tr>\n",
              "      <th>3</th>\n",
              "      <td>Shah Ghouse Hotel &amp; Restaurant</td>\n",
              "      <td>https://www.zomato.com/hyderabad/shah-ghouse-h...</td>\n",
              "      <td>800</td>\n",
              "      <td>Late Night Restaurants</td>\n",
              "      <td>Biryani, North Indian, Chinese, Seafood, Bever...</td>\n",
              "      <td>12 Noon to 2 AM</td>\n",
              "    </tr>\n",
              "    <tr>\n",
              "      <th>4</th>\n",
              "      <td>Over The Moon Brew Company</td>\n",
              "      <td>https://www.zomato.com/hyderabad/over-the-moon...</td>\n",
              "      <td>1,200</td>\n",
              "      <td>Best Bars &amp; Pubs, Food Hygiene Rated Restauran...</td>\n",
              "      <td>Asian, Continental, North Indian, Chinese, Med...</td>\n",
              "      <td>12noon to 11pm (Mon, Tue, Wed, Thu, Sun), 12no...</td>\n",
              "    </tr>\n",
              "  </tbody>\n",
              "</table>\n",
              "</div>\n",
              "      <button class=\"colab-df-convert\" onclick=\"convertToInteractive('df-026b6311-7853-4e64-b4a9-6ef23a0ea2ae')\"\n",
              "              title=\"Convert this dataframe to an interactive table.\"\n",
              "              style=\"display:none;\">\n",
              "        \n",
              "  <svg xmlns=\"http://www.w3.org/2000/svg\" height=\"24px\"viewBox=\"0 0 24 24\"\n",
              "       width=\"24px\">\n",
              "    <path d=\"M0 0h24v24H0V0z\" fill=\"none\"/>\n",
              "    <path d=\"M18.56 5.44l.94 2.06.94-2.06 2.06-.94-2.06-.94-.94-2.06-.94 2.06-2.06.94zm-11 1L8.5 8.5l.94-2.06 2.06-.94-2.06-.94L8.5 2.5l-.94 2.06-2.06.94zm10 10l.94 2.06.94-2.06 2.06-.94-2.06-.94-.94-2.06-.94 2.06-2.06.94z\"/><path d=\"M17.41 7.96l-1.37-1.37c-.4-.4-.92-.59-1.43-.59-.52 0-1.04.2-1.43.59L10.3 9.45l-7.72 7.72c-.78.78-.78 2.05 0 2.83L4 21.41c.39.39.9.59 1.41.59.51 0 1.02-.2 1.41-.59l7.78-7.78 2.81-2.81c.8-.78.8-2.07 0-2.86zM5.41 20L4 18.59l7.72-7.72 1.47 1.35L5.41 20z\"/>\n",
              "  </svg>\n",
              "      </button>\n",
              "      \n",
              "  <style>\n",
              "    .colab-df-container {\n",
              "      display:flex;\n",
              "      flex-wrap:wrap;\n",
              "      gap: 12px;\n",
              "    }\n",
              "\n",
              "    .colab-df-convert {\n",
              "      background-color: #E8F0FE;\n",
              "      border: none;\n",
              "      border-radius: 50%;\n",
              "      cursor: pointer;\n",
              "      display: none;\n",
              "      fill: #1967D2;\n",
              "      height: 32px;\n",
              "      padding: 0 0 0 0;\n",
              "      width: 32px;\n",
              "    }\n",
              "\n",
              "    .colab-df-convert:hover {\n",
              "      background-color: #E2EBFA;\n",
              "      box-shadow: 0px 1px 2px rgba(60, 64, 67, 0.3), 0px 1px 3px 1px rgba(60, 64, 67, 0.15);\n",
              "      fill: #174EA6;\n",
              "    }\n",
              "\n",
              "    [theme=dark] .colab-df-convert {\n",
              "      background-color: #3B4455;\n",
              "      fill: #D2E3FC;\n",
              "    }\n",
              "\n",
              "    [theme=dark] .colab-df-convert:hover {\n",
              "      background-color: #434B5C;\n",
              "      box-shadow: 0px 1px 3px 1px rgba(0, 0, 0, 0.15);\n",
              "      filter: drop-shadow(0px 1px 2px rgba(0, 0, 0, 0.3));\n",
              "      fill: #FFFFFF;\n",
              "    }\n",
              "  </style>\n",
              "\n",
              "      <script>\n",
              "        const buttonEl =\n",
              "          document.querySelector('#df-026b6311-7853-4e64-b4a9-6ef23a0ea2ae button.colab-df-convert');\n",
              "        buttonEl.style.display =\n",
              "          google.colab.kernel.accessAllowed ? 'block' : 'none';\n",
              "\n",
              "        async function convertToInteractive(key) {\n",
              "          const element = document.querySelector('#df-026b6311-7853-4e64-b4a9-6ef23a0ea2ae');\n",
              "          const dataTable =\n",
              "            await google.colab.kernel.invokeFunction('convertToInteractive',\n",
              "                                                     [key], {});\n",
              "          if (!dataTable) return;\n",
              "\n",
              "          const docLinkHtml = 'Like what you see? Visit the ' +\n",
              "            '<a target=\"_blank\" href=https://colab.research.google.com/notebooks/data_table.ipynb>data table notebook</a>'\n",
              "            + ' to learn more about interactive tables.';\n",
              "          element.innerHTML = '';\n",
              "          dataTable['output_type'] = 'display_data';\n",
              "          await google.colab.output.renderOutput(dataTable, element);\n",
              "          const docLink = document.createElement('div');\n",
              "          docLink.innerHTML = docLinkHtml;\n",
              "          element.appendChild(docLink);\n",
              "        }\n",
              "      </script>\n",
              "    </div>\n",
              "  </div>\n",
              "  "
            ]
          },
          "metadata": {},
          "execution_count": 5
        }
      ]
    },
    {
      "cell_type": "code",
      "source": [
        "#first five rows of reviews dataset\n",
        "reviews_df.head()"
      ],
      "metadata": {
        "id": "4g8-XKAjBR3y",
        "colab": {
          "base_uri": "https://localhost:8080/",
          "height": 206
        },
        "outputId": "a04de87b-21bb-49e3-e917-fc0cd4df27b9"
      },
      "execution_count": 6,
      "outputs": [
        {
          "output_type": "execute_result",
          "data": {
            "text/plain": [
              "        Restaurant              Reviewer  \\\n",
              "0  Beyond Flavours     Rusha Chakraborty   \n",
              "1  Beyond Flavours  Anusha Tirumalaneedi   \n",
              "2  Beyond Flavours       Ashok Shekhawat   \n",
              "3  Beyond Flavours        Swapnil Sarkar   \n",
              "4  Beyond Flavours                Dileep   \n",
              "\n",
              "                                              Review Rating  \\\n",
              "0  The ambience was good, food was quite good . h...      5   \n",
              "1  Ambience is too good for a pleasant evening. S...      5   \n",
              "2  A must try.. great food great ambience. Thnx f...      5   \n",
              "3  Soumen das and Arun was a great guy. Only beca...      5   \n",
              "4  Food is good.we ordered Kodi drumsticks and ba...      5   \n",
              "\n",
              "                  Metadata             Time  Pictures  \n",
              "0   1 Review , 2 Followers  5/25/2019 15:54         0  \n",
              "1  3 Reviews , 2 Followers  5/25/2019 14:20         0  \n",
              "2  2 Reviews , 3 Followers  5/24/2019 22:54         0  \n",
              "3    1 Review , 1 Follower  5/24/2019 22:11         0  \n",
              "4  3 Reviews , 2 Followers  5/24/2019 21:37         0  "
            ],
            "text/html": [
              "\n",
              "  <div id=\"df-a2a27bd7-5744-43f1-a81e-6111d8ea8112\">\n",
              "    <div class=\"colab-df-container\">\n",
              "      <div>\n",
              "<style scoped>\n",
              "    .dataframe tbody tr th:only-of-type {\n",
              "        vertical-align: middle;\n",
              "    }\n",
              "\n",
              "    .dataframe tbody tr th {\n",
              "        vertical-align: top;\n",
              "    }\n",
              "\n",
              "    .dataframe thead th {\n",
              "        text-align: right;\n",
              "    }\n",
              "</style>\n",
              "<table border=\"1\" class=\"dataframe\">\n",
              "  <thead>\n",
              "    <tr style=\"text-align: right;\">\n",
              "      <th></th>\n",
              "      <th>Restaurant</th>\n",
              "      <th>Reviewer</th>\n",
              "      <th>Review</th>\n",
              "      <th>Rating</th>\n",
              "      <th>Metadata</th>\n",
              "      <th>Time</th>\n",
              "      <th>Pictures</th>\n",
              "    </tr>\n",
              "  </thead>\n",
              "  <tbody>\n",
              "    <tr>\n",
              "      <th>0</th>\n",
              "      <td>Beyond Flavours</td>\n",
              "      <td>Rusha Chakraborty</td>\n",
              "      <td>The ambience was good, food was quite good . h...</td>\n",
              "      <td>5</td>\n",
              "      <td>1 Review , 2 Followers</td>\n",
              "      <td>5/25/2019 15:54</td>\n",
              "      <td>0</td>\n",
              "    </tr>\n",
              "    <tr>\n",
              "      <th>1</th>\n",
              "      <td>Beyond Flavours</td>\n",
              "      <td>Anusha Tirumalaneedi</td>\n",
              "      <td>Ambience is too good for a pleasant evening. S...</td>\n",
              "      <td>5</td>\n",
              "      <td>3 Reviews , 2 Followers</td>\n",
              "      <td>5/25/2019 14:20</td>\n",
              "      <td>0</td>\n",
              "    </tr>\n",
              "    <tr>\n",
              "      <th>2</th>\n",
              "      <td>Beyond Flavours</td>\n",
              "      <td>Ashok Shekhawat</td>\n",
              "      <td>A must try.. great food great ambience. Thnx f...</td>\n",
              "      <td>5</td>\n",
              "      <td>2 Reviews , 3 Followers</td>\n",
              "      <td>5/24/2019 22:54</td>\n",
              "      <td>0</td>\n",
              "    </tr>\n",
              "    <tr>\n",
              "      <th>3</th>\n",
              "      <td>Beyond Flavours</td>\n",
              "      <td>Swapnil Sarkar</td>\n",
              "      <td>Soumen das and Arun was a great guy. Only beca...</td>\n",
              "      <td>5</td>\n",
              "      <td>1 Review , 1 Follower</td>\n",
              "      <td>5/24/2019 22:11</td>\n",
              "      <td>0</td>\n",
              "    </tr>\n",
              "    <tr>\n",
              "      <th>4</th>\n",
              "      <td>Beyond Flavours</td>\n",
              "      <td>Dileep</td>\n",
              "      <td>Food is good.we ordered Kodi drumsticks and ba...</td>\n",
              "      <td>5</td>\n",
              "      <td>3 Reviews , 2 Followers</td>\n",
              "      <td>5/24/2019 21:37</td>\n",
              "      <td>0</td>\n",
              "    </tr>\n",
              "  </tbody>\n",
              "</table>\n",
              "</div>\n",
              "      <button class=\"colab-df-convert\" onclick=\"convertToInteractive('df-a2a27bd7-5744-43f1-a81e-6111d8ea8112')\"\n",
              "              title=\"Convert this dataframe to an interactive table.\"\n",
              "              style=\"display:none;\">\n",
              "        \n",
              "  <svg xmlns=\"http://www.w3.org/2000/svg\" height=\"24px\"viewBox=\"0 0 24 24\"\n",
              "       width=\"24px\">\n",
              "    <path d=\"M0 0h24v24H0V0z\" fill=\"none\"/>\n",
              "    <path d=\"M18.56 5.44l.94 2.06.94-2.06 2.06-.94-2.06-.94-.94-2.06-.94 2.06-2.06.94zm-11 1L8.5 8.5l.94-2.06 2.06-.94-2.06-.94L8.5 2.5l-.94 2.06-2.06.94zm10 10l.94 2.06.94-2.06 2.06-.94-2.06-.94-.94-2.06-.94 2.06-2.06.94z\"/><path d=\"M17.41 7.96l-1.37-1.37c-.4-.4-.92-.59-1.43-.59-.52 0-1.04.2-1.43.59L10.3 9.45l-7.72 7.72c-.78.78-.78 2.05 0 2.83L4 21.41c.39.39.9.59 1.41.59.51 0 1.02-.2 1.41-.59l7.78-7.78 2.81-2.81c.8-.78.8-2.07 0-2.86zM5.41 20L4 18.59l7.72-7.72 1.47 1.35L5.41 20z\"/>\n",
              "  </svg>\n",
              "      </button>\n",
              "      \n",
              "  <style>\n",
              "    .colab-df-container {\n",
              "      display:flex;\n",
              "      flex-wrap:wrap;\n",
              "      gap: 12px;\n",
              "    }\n",
              "\n",
              "    .colab-df-convert {\n",
              "      background-color: #E8F0FE;\n",
              "      border: none;\n",
              "      border-radius: 50%;\n",
              "      cursor: pointer;\n",
              "      display: none;\n",
              "      fill: #1967D2;\n",
              "      height: 32px;\n",
              "      padding: 0 0 0 0;\n",
              "      width: 32px;\n",
              "    }\n",
              "\n",
              "    .colab-df-convert:hover {\n",
              "      background-color: #E2EBFA;\n",
              "      box-shadow: 0px 1px 2px rgba(60, 64, 67, 0.3), 0px 1px 3px 1px rgba(60, 64, 67, 0.15);\n",
              "      fill: #174EA6;\n",
              "    }\n",
              "\n",
              "    [theme=dark] .colab-df-convert {\n",
              "      background-color: #3B4455;\n",
              "      fill: #D2E3FC;\n",
              "    }\n",
              "\n",
              "    [theme=dark] .colab-df-convert:hover {\n",
              "      background-color: #434B5C;\n",
              "      box-shadow: 0px 1px 3px 1px rgba(0, 0, 0, 0.15);\n",
              "      filter: drop-shadow(0px 1px 2px rgba(0, 0, 0, 0.3));\n",
              "      fill: #FFFFFF;\n",
              "    }\n",
              "  </style>\n",
              "\n",
              "      <script>\n",
              "        const buttonEl =\n",
              "          document.querySelector('#df-a2a27bd7-5744-43f1-a81e-6111d8ea8112 button.colab-df-convert');\n",
              "        buttonEl.style.display =\n",
              "          google.colab.kernel.accessAllowed ? 'block' : 'none';\n",
              "\n",
              "        async function convertToInteractive(key) {\n",
              "          const element = document.querySelector('#df-a2a27bd7-5744-43f1-a81e-6111d8ea8112');\n",
              "          const dataTable =\n",
              "            await google.colab.kernel.invokeFunction('convertToInteractive',\n",
              "                                                     [key], {});\n",
              "          if (!dataTable) return;\n",
              "\n",
              "          const docLinkHtml = 'Like what you see? Visit the ' +\n",
              "            '<a target=\"_blank\" href=https://colab.research.google.com/notebooks/data_table.ipynb>data table notebook</a>'\n",
              "            + ' to learn more about interactive tables.';\n",
              "          element.innerHTML = '';\n",
              "          dataTable['output_type'] = 'display_data';\n",
              "          await google.colab.output.renderOutput(dataTable, element);\n",
              "          const docLink = document.createElement('div');\n",
              "          docLink.innerHTML = docLinkHtml;\n",
              "          element.appendChild(docLink);\n",
              "        }\n",
              "      </script>\n",
              "    </div>\n",
              "  </div>\n",
              "  "
            ]
          },
          "metadata": {},
          "execution_count": 6
        }
      ]
    },
    {
      "cell_type": "markdown",
      "source": [
        "### Dataset Rows & Columns count"
      ],
      "metadata": {
        "id": "7hBIi_osiCS2"
      }
    },
    {
      "cell_type": "code",
      "source": [
        "# Dataset Rows & Columns count\n",
        "rest_df.shape"
      ],
      "metadata": {
        "id": "Kllu7SJgmLij",
        "colab": {
          "base_uri": "https://localhost:8080/"
        },
        "outputId": "9764127f-e83f-49e4-9117-36d25dac8cac"
      },
      "execution_count": 7,
      "outputs": [
        {
          "output_type": "execute_result",
          "data": {
            "text/plain": [
              "(105, 6)"
            ]
          },
          "metadata": {},
          "execution_count": 7
        }
      ]
    },
    {
      "cell_type": "code",
      "source": [
        "reviews_df.shape"
      ],
      "metadata": {
        "colab": {
          "base_uri": "https://localhost:8080/"
        },
        "id": "Gq-PBSlqnWhi",
        "outputId": "9887e883-7334-4381-e15f-1ae6776b49f8"
      },
      "execution_count": 8,
      "outputs": [
        {
          "output_type": "execute_result",
          "data": {
            "text/plain": [
              "(10000, 7)"
            ]
          },
          "metadata": {},
          "execution_count": 8
        }
      ]
    },
    {
      "cell_type": "markdown",
      "source": [
        "### Dataset Information"
      ],
      "metadata": {
        "id": "JlHwYmJAmNHm"
      }
    },
    {
      "cell_type": "code",
      "source": [
        "# Dataset Info\n",
        "rest_df.info()"
      ],
      "metadata": {
        "id": "e9hRXRi6meOf",
        "colab": {
          "base_uri": "https://localhost:8080/"
        },
        "outputId": "7f32ae44-5f23-49ce-a308-cb3b23fe89bc"
      },
      "execution_count": 9,
      "outputs": [
        {
          "output_type": "stream",
          "name": "stdout",
          "text": [
            "<class 'pandas.core.frame.DataFrame'>\n",
            "RangeIndex: 105 entries, 0 to 104\n",
            "Data columns (total 6 columns):\n",
            " #   Column       Non-Null Count  Dtype \n",
            "---  ------       --------------  ----- \n",
            " 0   Name         105 non-null    object\n",
            " 1   Links        105 non-null    object\n",
            " 2   Cost         105 non-null    object\n",
            " 3   Collections  51 non-null     object\n",
            " 4   Cuisines     105 non-null    object\n",
            " 5   Timings      104 non-null    object\n",
            "dtypes: object(6)\n",
            "memory usage: 5.0+ KB\n"
          ]
        }
      ]
    },
    {
      "cell_type": "markdown",
      "source": [
        "We have 105 rows and 6 columns . with two columns having null values"
      ],
      "metadata": {
        "id": "nZV0ZFY4npJ5"
      }
    },
    {
      "cell_type": "code",
      "source": [
        "reviews_df.info()"
      ],
      "metadata": {
        "colab": {
          "base_uri": "https://localhost:8080/"
        },
        "id": "zQxmYWrHnumt",
        "outputId": "c7b6e85c-c3f9-4016-c512-3413e5095a40"
      },
      "execution_count": 10,
      "outputs": [
        {
          "output_type": "stream",
          "name": "stdout",
          "text": [
            "<class 'pandas.core.frame.DataFrame'>\n",
            "RangeIndex: 10000 entries, 0 to 9999\n",
            "Data columns (total 7 columns):\n",
            " #   Column      Non-Null Count  Dtype \n",
            "---  ------      --------------  ----- \n",
            " 0   Restaurant  10000 non-null  object\n",
            " 1   Reviewer    9962 non-null   object\n",
            " 2   Review      9955 non-null   object\n",
            " 3   Rating      9962 non-null   object\n",
            " 4   Metadata    9962 non-null   object\n",
            " 5   Time        9962 non-null   object\n",
            " 6   Pictures    10000 non-null  int64 \n",
            "dtypes: int64(1), object(6)\n",
            "memory usage: 547.0+ KB\n"
          ]
        }
      ]
    },
    {
      "cell_type": "markdown",
      "source": [
        "We have 10000 rows and 7 columns\n",
        "\n",
        "The \"Review\" column has text that needs to be analyzed to understand the sentiments and without it, the analysis cannot be done."
      ],
      "metadata": {
        "id": "jya8dGpwn0Es"
      }
    },
    {
      "cell_type": "markdown",
      "source": [
        "#### Duplicate Values"
      ],
      "metadata": {
        "id": "35m5QtbWiB9F"
      }
    },
    {
      "cell_type": "code",
      "source": [
        "# Dataset Duplicate Value Count\n",
        "rest_df[rest_df.duplicated()].shape[0]"
      ],
      "metadata": {
        "id": "1sLdpKYkmox0",
        "colab": {
          "base_uri": "https://localhost:8080/"
        },
        "outputId": "9c26bb5c-7120-49b6-e66b-434859f35142"
      },
      "execution_count": 11,
      "outputs": [
        {
          "output_type": "execute_result",
          "data": {
            "text/plain": [
              "0"
            ]
          },
          "metadata": {},
          "execution_count": 11
        }
      ]
    },
    {
      "cell_type": "markdown",
      "source": [
        "No Duplicates in restaurent data"
      ],
      "metadata": {
        "id": "328Wj2Yon6PD"
      }
    },
    {
      "cell_type": "code",
      "source": [
        "reviews_df[reviews_df.duplicated()].shape[0]"
      ],
      "metadata": {
        "colab": {
          "base_uri": "https://localhost:8080/"
        },
        "id": "XPENlAiQn7Zc",
        "outputId": "8fd86ee1-369d-4045-c01e-a3b6a12973b8"
      },
      "execution_count": 12,
      "outputs": [
        {
          "output_type": "execute_result",
          "data": {
            "text/plain": [
              "36"
            ]
          },
          "metadata": {},
          "execution_count": 12
        }
      ]
    },
    {
      "cell_type": "markdown",
      "source": [
        "We have around 36 duplicate rows which have to be removed"
      ],
      "metadata": {
        "id": "nGh6Qu9ToAvl"
      }
    },
    {
      "cell_type": "code",
      "source": [
        "#dropping duplicates from revoews data\n",
        "reviews_df.drop_duplicates(inplace=True)"
      ],
      "metadata": {
        "id": "2qZOQj6roCwV"
      },
      "execution_count": 13,
      "outputs": []
    },
    {
      "cell_type": "markdown",
      "source": [
        "#### Missing Values/Null Values"
      ],
      "metadata": {
        "id": "PoPl-ycgm1ru"
      }
    },
    {
      "cell_type": "code",
      "source": [
        "# Missing Values/Null Values Count\n",
        "rest_df.isnull().sum()"
      ],
      "metadata": {
        "id": "GgHWkxvamxVg",
        "colab": {
          "base_uri": "https://localhost:8080/"
        },
        "outputId": "233e6fca-cc97-4a4e-902c-e404dae2a8e5"
      },
      "execution_count": 14,
      "outputs": [
        {
          "output_type": "execute_result",
          "data": {
            "text/plain": [
              "Name            0\n",
              "Links           0\n",
              "Cost            0\n",
              "Collections    54\n",
              "Cuisines        0\n",
              "Timings         1\n",
              "dtype: int64"
            ]
          },
          "metadata": {},
          "execution_count": 14
        }
      ]
    },
    {
      "cell_type": "code",
      "source": [
        "# Visualizing the missing values\n",
        "rest_df[rest_df.Collections.isna()]"
      ],
      "metadata": {
        "id": "3q5wnI3om9sJ",
        "colab": {
          "base_uri": "https://localhost:8080/",
          "height": 1000
        },
        "outputId": "4e04b54a-3b85-44dc-ce9b-ca291cc4578f"
      },
      "execution_count": 15,
      "outputs": [
        {
          "output_type": "execute_result",
          "data": {
            "text/plain": [
              "                                        Name  \\\n",
              "7                   Shah Ghouse Spl Shawarma   \n",
              "15                                       KFC   \n",
              "16                       NorFest - The Dhaba   \n",
              "17                          Hotel Zara Hi-Fi   \n",
              "23                                      Amul   \n",
              "25                                Tiki Shack   \n",
              "28                           Behrouz Biryani   \n",
              "29                        Hunger Maggi Point   \n",
              "30                                Pot Pourri   \n",
              "33                                Club Rogue   \n",
              "35                 Green Bawarchi Restaurant   \n",
              "37                       Kritunga Restaurant   \n",
              "39                             Deli 9 Bistro   \n",
              "40                               Frio Bistro   \n",
              "41                            Karachi Bakery   \n",
              "42                              Karachi Cafe   \n",
              "45                               Owm Nom Nom   \n",
              "48                            Udipi's Upahar   \n",
              "50                             Gal Punjab Di   \n",
              "51                 Hitech Bawarchi Food Zone   \n",
              "52                         Biryanis And More   \n",
              "54                            Asian Meal Box   \n",
              "57                              Being Hungry   \n",
              "59                                 KS Bakers   \n",
              "62     Shree Santosh Dhaba Family Restaurant   \n",
              "63                              Dine O China   \n",
              "64                           Hyderabad Chefs   \n",
              "66                              Aromas@11SIX   \n",
              "70                Urban Asia - Kitchen & Bar   \n",
              "71                         Eat India Company   \n",
              "73                               Driven Cafe   \n",
              "74                                    Faasos   \n",
              "75                    Royal Spicy Restaurant   \n",
              "76             The Old Madras Baking Company   \n",
              "79                              Olive Garden   \n",
              "81                                  Delhi-39   \n",
              "82                        Al Saba Restaurant   \n",
              "83                                      GD's   \n",
              "84                                   T Grill   \n",
              "85                             Momos Delight   \n",
              "86                        The Chocolate Room   \n",
              "88                            Domino's Pizza   \n",
              "89                       Mohammedia Shawarma   \n",
              "91   Cascade - Radisson Hyderabad Hitec City   \n",
              "93                  Zing's Northeast Kitchen   \n",
              "94                            Dunkin' Donuts   \n",
              "95                                Desi Bytes   \n",
              "97           Zega - Sheraton Hyderabad Hotel   \n",
              "98                                  Triptify   \n",
              "99                          Chinese Pavilion   \n",
              "100                                IndiBlaze   \n",
              "101                             Sweet Basket   \n",
              "102                         Angaara Counts 3   \n",
              "103                              Wich Please   \n",
              "\n",
              "                                                 Links   Cost Collections  \\\n",
              "7    https://www.zomato.com/hyderabad/shah-ghouse-s...    300         NaN   \n",
              "15     https://www.zomato.com/hyderabad/kfc-gachibowli    500         NaN   \n",
              "16   https://www.zomato.com/hyderabad/norfest-the-d...    550         NaN   \n",
              "17   https://www.zomato.com/hyderabad/hotel-zara-ga...    400         NaN   \n",
              "23    https://www.zomato.com/hyderabad/amul-gachibowli    150         NaN   \n",
              "25   https://www.zomato.com/hyderabad/tiki-shack-ga...  1,000         NaN   \n",
              "28   https://www.zomato.com/hyderabad/behrouz-birya...    600         NaN   \n",
              "29   https://www.zomato.com/hyderabad/hunger-maggi-...    200         NaN   \n",
              "30   https://www.zomato.com/hyderabad/pot-pourri-ga...    900         NaN   \n",
              "33   https://www.zomato.com/hyderabad/club-rogue-ga...    900         NaN   \n",
              "35   https://www.zomato.com/hyderabad/green-bawarch...    700         NaN   \n",
              "37   https://www.zomato.com/hyderabad/kritunga-rest...    500         NaN   \n",
              "39   https://www.zomato.com/hyderabad/deli-9-bistro...    700         NaN   \n",
              "40   https://www.zomato.com/hyderabad/frio-bistro-g...  1,200         NaN   \n",
              "41   https://www.zomato.com/hyderabad/karachi-baker...    500         NaN   \n",
              "42   https://www.zomato.com/hyderabad/karachi-cafe-...    600         NaN   \n",
              "45   https://www.zomato.com/hyderabad/owm-nom-nom-g...    900         NaN   \n",
              "48   https://www.zomato.com/hyderabad/udipis-upahar...    500         NaN   \n",
              "50   https://www.zomato.com/hyderabad/gal-punjab-di...    800         NaN   \n",
              "51   https://www.zomato.com/hyderabad/hitech-bawarc...    500         NaN   \n",
              "52   https://www.zomato.com/hyderabad/biryanis-and-...    500         NaN   \n",
              "54   https://www.zomato.com/hyderabad/asian-meal-bo...    200         NaN   \n",
              "57   https://www.zomato.com/hyderabad/being-hungry-...    450         NaN   \n",
              "59   https://www.zomato.com/hyderabad/ks-bakers-gac...    200         NaN   \n",
              "62   https://www.zomato.com/hyderabad/shree-santosh...    500         NaN   \n",
              "63   https://www.zomato.com/hyderabad/dine-o-china-...    850         NaN   \n",
              "64   https://www.zomato.com/hyderabad/hyderabad-che...    600         NaN   \n",
              "66   https://www.zomato.com/hyderabad/aromas11six-g...    750         NaN   \n",
              "70   https://www.zomato.com/hyderabad/urban-asia-ki...  1,100         NaN   \n",
              "71   https://www.zomato.com/hyderabad/eat-india-com...  1,300         NaN   \n",
              "73   https://www.zomato.com/hyderabad/driven-cafe-g...    600         NaN   \n",
              "74   https://www.zomato.com/hyderabad/faasos-gachib...    600         NaN   \n",
              "75   https://www.zomato.com/hyderabad/royal-spicy-r...    700         NaN   \n",
              "76   https://www.zomato.com/hyderabad/the-old-madra...    350         NaN   \n",
              "79   https://www.zomato.com/hyderabad/olive-garden-...    700         NaN   \n",
              "81   https://www.zomato.com/hyderabad/delhi-39-gach...    600         NaN   \n",
              "82   https://www.zomato.com/hyderabad/al-saba-resta...    750         NaN   \n",
              "83     https://www.zomato.com/hyderabad/gds-gachibowli    500         NaN   \n",
              "84   https://www.zomato.com/hyderabad/t-grill-gachi...    700         NaN   \n",
              "85   https://www.zomato.com/hyderabad/momos-delight...    200         NaN   \n",
              "86   https://www.zomato.com/hyderabad/the-chocolate...    600         NaN   \n",
              "88   https://www.zomato.com/hyderabad/dominos-pizza...    400         NaN   \n",
              "89   https://www.zomato.com/hyderabad/mohammedia-sh...    150         NaN   \n",
              "91   https://www.zomato.com/hyderabad/cascade-radis...  1,800         NaN   \n",
              "93   https://www.zomato.com/hyderabad/zings-northea...    550         NaN   \n",
              "94   https://www.zomato.com/hyderabad/dunkin-donuts...    550         NaN   \n",
              "95   https://www.zomato.com/hyderabad/desi-bytes-ga...    400         NaN   \n",
              "97   https://www.zomato.com/hyderabad/zega-sheraton...  1,750         NaN   \n",
              "98   https://www.zomato.com/hyderabad/triptify-gach...    400         NaN   \n",
              "99   https://www.zomato.com/hyderabad/chinese-pavil...  1,000         NaN   \n",
              "100  https://www.zomato.com/hyderabad/indiblaze-gac...    600         NaN   \n",
              "101  https://www.zomato.com/hyderabad/sweet-basket-...    200         NaN   \n",
              "102  https://www.zomato.com/hyderabad/angaara-count...    500         NaN   \n",
              "103  https://www.zomato.com/hyderabad/wich-please-1...    250         NaN   \n",
              "\n",
              "                                              Cuisines  \\\n",
              "7                                             Lebanese   \n",
              "15                                   Burger, Fast Food   \n",
              "16                                        North Indian   \n",
              "17                               Chinese, North Indian   \n",
              "23                                 Ice Cream, Desserts   \n",
              "25                                         Continental   \n",
              "28                                    Mughlai, Biryani   \n",
              "29                                           Fast Food   \n",
              "30                  Andhra, South Indian, North Indian   \n",
              "33                             North Indian, Fast Food   \n",
              "35                      North Indian, Chinese, Biryani   \n",
              "37           Andhra, Biryani, Hyderabadi, North Indian   \n",
              "39                         Cafe, Continental, Desserts   \n",
              "40             European, Italian, Continental, Spanish   \n",
              "41                         Bakery, Fast Food, Desserts   \n",
              "42                           Cafe, Desserts, Fast Food   \n",
              "45              Chinese, Biryani, Andhra, North Indian   \n",
              "48                 South Indian, North Indian, Chinese   \n",
              "50                           North Indian, Continental   \n",
              "51                      Biryani, North Indian, Chinese   \n",
              "52                      North Indian, Biryani, Chinese   \n",
              "54                                               Asian   \n",
              "57                               North Indian, Chinese   \n",
              "59                         Bakery, Desserts, Fast Food   \n",
              "62                    North Indian, Chinese, Fast Food   \n",
              "63                               Chinese, Asian, Momos   \n",
              "64                               North Indian, Chinese   \n",
              "66             North Indian, Chinese, Mughlai, Biryani   \n",
              "70                  Asian, Thai, Chinese, Sushi, Momos   \n",
              "71                    North Indian, Mughlai, Beverages   \n",
              "73                          Cafe, Fast Food, Beverages   \n",
              "74                        Fast Food, Biryani, Desserts   \n",
              "75                          North Indian, South Indian   \n",
              "76                                              Bakery   \n",
              "79         North Indian, Chinese, Continental, Biryani   \n",
              "81                               North Indian, Chinese   \n",
              "82   North Indian, Chinese, Seafood, Biryani, Hyder...   \n",
              "83                                    Burger, American   \n",
              "84              North Indian, Andhra, Biryani, Chinese   \n",
              "85                                               Momos   \n",
              "86                                      Cafe, Desserts   \n",
              "88                                    Fast Food, Pizza   \n",
              "89                                Street Food, Arabian   \n",
              "91           North Indian, Italian, Continental, Asian   \n",
              "93                                North Eastern, Momos   \n",
              "94        Desserts, Cafe, Beverages, Burger, Fast Food   \n",
              "95                               North Indian, Chinese   \n",
              "97                                        Asian, Sushi   \n",
              "98                                        North Indian   \n",
              "99                                    Chinese, Seafood   \n",
              "100                                   Fast Food, Salad   \n",
              "101                                     Bakery, Mithai   \n",
              "102                     North Indian, Biryani, Chinese   \n",
              "103                                          Fast Food   \n",
              "\n",
              "                                               Timings  \n",
              "7                               12 Noon to 12 Midnight  \n",
              "15                                      11 AM to 11 PM  \n",
              "16                                 12 Noon to 10:30 PM  \n",
              "17                                    11:30 AM to 1 AM  \n",
              "23                                       10 AM to 5 AM  \n",
              "25   12Noon to 11PM (Mon-Thu),12Noon to 11:30PM (Fr...  \n",
              "28                                       10 AM to 1 AM  \n",
              "29                                  4:30 PM to 5:30 AM  \n",
              "30                                                 NaN  \n",
              "33                                11 AM to 12 Midnight  \n",
              "35                                    12 Noon to 11 PM  \n",
              "37                      12 Noon to 4 PM, 7 PM to 11 PM  \n",
              "39                                 12 Noon to 10:30 PM  \n",
              "40                            12noon to 11pm (Mon-Sun)  \n",
              "41                                      10 AM to 10 PM  \n",
              "42                                      10 AM to 10 PM  \n",
              "45                         12Noon to 11:30PM (Mon-Sun)  \n",
              "48                                    6 AM to 10:30 PM  \n",
              "50                  11:55 AM to 4 PM, 7 PM to 11:15 PM  \n",
              "51                                    12 Noon to 11 PM  \n",
              "52                                      11 AM to 11 PM  \n",
              "54   12noon to 12midnight (Mon, Tue, Wed, Thu, Sun)...  \n",
              "57                   12 Noon to 3 PM, 7 PM to 11:30 PM  \n",
              "59                                       9 AM to 10 PM  \n",
              "62                                   11 AM to 11:30 PM  \n",
              "63                           11:30AM to 11PM (Mon-Sun)  \n",
              "64                                 12 Noon to 10:30 PM  \n",
              "66                             11:30 AM to 12 Midnight  \n",
              "70                      12 Noon to 3 PM, 7 PM to 11 PM  \n",
              "71                      12 Noon to 3 PM, 7 PM to 11 PM  \n",
              "73                                 4 AM to 12 Midnight  \n",
              "74                                        9 AM to 1 AM  \n",
              "75                                   10:30 AM to 11 PM  \n",
              "76                                       7 AM to 11 PM  \n",
              "79                   12 Noon to 3:30 PM, 7 PM to 11 PM  \n",
              "81                              11am to 11pm (Mon-Sun)  \n",
              "82                                    6 AM to 11:30 PM  \n",
              "83                                    11:30 AM to 5 AM  \n",
              "84                  12:30 PM to 3:30 PM, 7 PM to 11 PM  \n",
              "85                                6pm to 2am (Mon-Sun)  \n",
              "86                                10 AM to 12 Midnight  \n",
              "88                                      11 AM to 11 PM  \n",
              "89                                        1 PM to 1 AM  \n",
              "91                                            24 Hours  \n",
              "93                     11:30 AM to 4 PM, 7 PM to 11 PM  \n",
              "94                                      10 AM to 11 PM  \n",
              "95             1 PM to 2 AM (Mon, Wed-Sun), Tue Closed  \n",
              "97                             12Noon to 2AM (Mon-Sun)  \n",
              "98                                      11 AM to 11 PM  \n",
              "99                   12 Noon to 3:30 PM, 7 PM to 11 PM  \n",
              "100                                     11 AM to 11 PM  \n",
              "101  10 AM to 10 PM (Mon-Thu), 8 AM to 10:30 PM (Fr...  \n",
              "102                                   12 Noon to 11 PM  \n",
              "103                           8am to 12:30AM (Mon-Sun)  "
            ],
            "text/html": [
              "\n",
              "  <div id=\"df-70bc6ada-77bc-4c05-9f55-a122d8947caa\">\n",
              "    <div class=\"colab-df-container\">\n",
              "      <div>\n",
              "<style scoped>\n",
              "    .dataframe tbody tr th:only-of-type {\n",
              "        vertical-align: middle;\n",
              "    }\n",
              "\n",
              "    .dataframe tbody tr th {\n",
              "        vertical-align: top;\n",
              "    }\n",
              "\n",
              "    .dataframe thead th {\n",
              "        text-align: right;\n",
              "    }\n",
              "</style>\n",
              "<table border=\"1\" class=\"dataframe\">\n",
              "  <thead>\n",
              "    <tr style=\"text-align: right;\">\n",
              "      <th></th>\n",
              "      <th>Name</th>\n",
              "      <th>Links</th>\n",
              "      <th>Cost</th>\n",
              "      <th>Collections</th>\n",
              "      <th>Cuisines</th>\n",
              "      <th>Timings</th>\n",
              "    </tr>\n",
              "  </thead>\n",
              "  <tbody>\n",
              "    <tr>\n",
              "      <th>7</th>\n",
              "      <td>Shah Ghouse Spl Shawarma</td>\n",
              "      <td>https://www.zomato.com/hyderabad/shah-ghouse-s...</td>\n",
              "      <td>300</td>\n",
              "      <td>NaN</td>\n",
              "      <td>Lebanese</td>\n",
              "      <td>12 Noon to 12 Midnight</td>\n",
              "    </tr>\n",
              "    <tr>\n",
              "      <th>15</th>\n",
              "      <td>KFC</td>\n",
              "      <td>https://www.zomato.com/hyderabad/kfc-gachibowli</td>\n",
              "      <td>500</td>\n",
              "      <td>NaN</td>\n",
              "      <td>Burger, Fast Food</td>\n",
              "      <td>11 AM to 11 PM</td>\n",
              "    </tr>\n",
              "    <tr>\n",
              "      <th>16</th>\n",
              "      <td>NorFest - The Dhaba</td>\n",
              "      <td>https://www.zomato.com/hyderabad/norfest-the-d...</td>\n",
              "      <td>550</td>\n",
              "      <td>NaN</td>\n",
              "      <td>North Indian</td>\n",
              "      <td>12 Noon to 10:30 PM</td>\n",
              "    </tr>\n",
              "    <tr>\n",
              "      <th>17</th>\n",
              "      <td>Hotel Zara Hi-Fi</td>\n",
              "      <td>https://www.zomato.com/hyderabad/hotel-zara-ga...</td>\n",
              "      <td>400</td>\n",
              "      <td>NaN</td>\n",
              "      <td>Chinese, North Indian</td>\n",
              "      <td>11:30 AM to 1 AM</td>\n",
              "    </tr>\n",
              "    <tr>\n",
              "      <th>23</th>\n",
              "      <td>Amul</td>\n",
              "      <td>https://www.zomato.com/hyderabad/amul-gachibowli</td>\n",
              "      <td>150</td>\n",
              "      <td>NaN</td>\n",
              "      <td>Ice Cream, Desserts</td>\n",
              "      <td>10 AM to 5 AM</td>\n",
              "    </tr>\n",
              "    <tr>\n",
              "      <th>25</th>\n",
              "      <td>Tiki Shack</td>\n",
              "      <td>https://www.zomato.com/hyderabad/tiki-shack-ga...</td>\n",
              "      <td>1,000</td>\n",
              "      <td>NaN</td>\n",
              "      <td>Continental</td>\n",
              "      <td>12Noon to 11PM (Mon-Thu),12Noon to 11:30PM (Fr...</td>\n",
              "    </tr>\n",
              "    <tr>\n",
              "      <th>28</th>\n",
              "      <td>Behrouz Biryani</td>\n",
              "      <td>https://www.zomato.com/hyderabad/behrouz-birya...</td>\n",
              "      <td>600</td>\n",
              "      <td>NaN</td>\n",
              "      <td>Mughlai, Biryani</td>\n",
              "      <td>10 AM to 1 AM</td>\n",
              "    </tr>\n",
              "    <tr>\n",
              "      <th>29</th>\n",
              "      <td>Hunger Maggi Point</td>\n",
              "      <td>https://www.zomato.com/hyderabad/hunger-maggi-...</td>\n",
              "      <td>200</td>\n",
              "      <td>NaN</td>\n",
              "      <td>Fast Food</td>\n",
              "      <td>4:30 PM to 5:30 AM</td>\n",
              "    </tr>\n",
              "    <tr>\n",
              "      <th>30</th>\n",
              "      <td>Pot Pourri</td>\n",
              "      <td>https://www.zomato.com/hyderabad/pot-pourri-ga...</td>\n",
              "      <td>900</td>\n",
              "      <td>NaN</td>\n",
              "      <td>Andhra, South Indian, North Indian</td>\n",
              "      <td>NaN</td>\n",
              "    </tr>\n",
              "    <tr>\n",
              "      <th>33</th>\n",
              "      <td>Club Rogue</td>\n",
              "      <td>https://www.zomato.com/hyderabad/club-rogue-ga...</td>\n",
              "      <td>900</td>\n",
              "      <td>NaN</td>\n",
              "      <td>North Indian, Fast Food</td>\n",
              "      <td>11 AM to 12 Midnight</td>\n",
              "    </tr>\n",
              "    <tr>\n",
              "      <th>35</th>\n",
              "      <td>Green Bawarchi Restaurant</td>\n",
              "      <td>https://www.zomato.com/hyderabad/green-bawarch...</td>\n",
              "      <td>700</td>\n",
              "      <td>NaN</td>\n",
              "      <td>North Indian, Chinese, Biryani</td>\n",
              "      <td>12 Noon to 11 PM</td>\n",
              "    </tr>\n",
              "    <tr>\n",
              "      <th>37</th>\n",
              "      <td>Kritunga Restaurant</td>\n",
              "      <td>https://www.zomato.com/hyderabad/kritunga-rest...</td>\n",
              "      <td>500</td>\n",
              "      <td>NaN</td>\n",
              "      <td>Andhra, Biryani, Hyderabadi, North Indian</td>\n",
              "      <td>12 Noon to 4 PM, 7 PM to 11 PM</td>\n",
              "    </tr>\n",
              "    <tr>\n",
              "      <th>39</th>\n",
              "      <td>Deli 9 Bistro</td>\n",
              "      <td>https://www.zomato.com/hyderabad/deli-9-bistro...</td>\n",
              "      <td>700</td>\n",
              "      <td>NaN</td>\n",
              "      <td>Cafe, Continental, Desserts</td>\n",
              "      <td>12 Noon to 10:30 PM</td>\n",
              "    </tr>\n",
              "    <tr>\n",
              "      <th>40</th>\n",
              "      <td>Frio Bistro</td>\n",
              "      <td>https://www.zomato.com/hyderabad/frio-bistro-g...</td>\n",
              "      <td>1,200</td>\n",
              "      <td>NaN</td>\n",
              "      <td>European, Italian, Continental, Spanish</td>\n",
              "      <td>12noon to 11pm (Mon-Sun)</td>\n",
              "    </tr>\n",
              "    <tr>\n",
              "      <th>41</th>\n",
              "      <td>Karachi Bakery</td>\n",
              "      <td>https://www.zomato.com/hyderabad/karachi-baker...</td>\n",
              "      <td>500</td>\n",
              "      <td>NaN</td>\n",
              "      <td>Bakery, Fast Food, Desserts</td>\n",
              "      <td>10 AM to 10 PM</td>\n",
              "    </tr>\n",
              "    <tr>\n",
              "      <th>42</th>\n",
              "      <td>Karachi Cafe</td>\n",
              "      <td>https://www.zomato.com/hyderabad/karachi-cafe-...</td>\n",
              "      <td>600</td>\n",
              "      <td>NaN</td>\n",
              "      <td>Cafe, Desserts, Fast Food</td>\n",
              "      <td>10 AM to 10 PM</td>\n",
              "    </tr>\n",
              "    <tr>\n",
              "      <th>45</th>\n",
              "      <td>Owm Nom Nom</td>\n",
              "      <td>https://www.zomato.com/hyderabad/owm-nom-nom-g...</td>\n",
              "      <td>900</td>\n",
              "      <td>NaN</td>\n",
              "      <td>Chinese, Biryani, Andhra, North Indian</td>\n",
              "      <td>12Noon to 11:30PM (Mon-Sun)</td>\n",
              "    </tr>\n",
              "    <tr>\n",
              "      <th>48</th>\n",
              "      <td>Udipi's Upahar</td>\n",
              "      <td>https://www.zomato.com/hyderabad/udipis-upahar...</td>\n",
              "      <td>500</td>\n",
              "      <td>NaN</td>\n",
              "      <td>South Indian, North Indian, Chinese</td>\n",
              "      <td>6 AM to 10:30 PM</td>\n",
              "    </tr>\n",
              "    <tr>\n",
              "      <th>50</th>\n",
              "      <td>Gal Punjab Di</td>\n",
              "      <td>https://www.zomato.com/hyderabad/gal-punjab-di...</td>\n",
              "      <td>800</td>\n",
              "      <td>NaN</td>\n",
              "      <td>North Indian, Continental</td>\n",
              "      <td>11:55 AM to 4 PM, 7 PM to 11:15 PM</td>\n",
              "    </tr>\n",
              "    <tr>\n",
              "      <th>51</th>\n",
              "      <td>Hitech Bawarchi Food Zone</td>\n",
              "      <td>https://www.zomato.com/hyderabad/hitech-bawarc...</td>\n",
              "      <td>500</td>\n",
              "      <td>NaN</td>\n",
              "      <td>Biryani, North Indian, Chinese</td>\n",
              "      <td>12 Noon to 11 PM</td>\n",
              "    </tr>\n",
              "    <tr>\n",
              "      <th>52</th>\n",
              "      <td>Biryanis And More</td>\n",
              "      <td>https://www.zomato.com/hyderabad/biryanis-and-...</td>\n",
              "      <td>500</td>\n",
              "      <td>NaN</td>\n",
              "      <td>North Indian, Biryani, Chinese</td>\n",
              "      <td>11 AM to 11 PM</td>\n",
              "    </tr>\n",
              "    <tr>\n",
              "      <th>54</th>\n",
              "      <td>Asian Meal Box</td>\n",
              "      <td>https://www.zomato.com/hyderabad/asian-meal-bo...</td>\n",
              "      <td>200</td>\n",
              "      <td>NaN</td>\n",
              "      <td>Asian</td>\n",
              "      <td>12noon to 12midnight (Mon, Tue, Wed, Thu, Sun)...</td>\n",
              "    </tr>\n",
              "    <tr>\n",
              "      <th>57</th>\n",
              "      <td>Being Hungry</td>\n",
              "      <td>https://www.zomato.com/hyderabad/being-hungry-...</td>\n",
              "      <td>450</td>\n",
              "      <td>NaN</td>\n",
              "      <td>North Indian, Chinese</td>\n",
              "      <td>12 Noon to 3 PM, 7 PM to 11:30 PM</td>\n",
              "    </tr>\n",
              "    <tr>\n",
              "      <th>59</th>\n",
              "      <td>KS Bakers</td>\n",
              "      <td>https://www.zomato.com/hyderabad/ks-bakers-gac...</td>\n",
              "      <td>200</td>\n",
              "      <td>NaN</td>\n",
              "      <td>Bakery, Desserts, Fast Food</td>\n",
              "      <td>9 AM to 10 PM</td>\n",
              "    </tr>\n",
              "    <tr>\n",
              "      <th>62</th>\n",
              "      <td>Shree Santosh Dhaba Family Restaurant</td>\n",
              "      <td>https://www.zomato.com/hyderabad/shree-santosh...</td>\n",
              "      <td>500</td>\n",
              "      <td>NaN</td>\n",
              "      <td>North Indian, Chinese, Fast Food</td>\n",
              "      <td>11 AM to 11:30 PM</td>\n",
              "    </tr>\n",
              "    <tr>\n",
              "      <th>63</th>\n",
              "      <td>Dine O China</td>\n",
              "      <td>https://www.zomato.com/hyderabad/dine-o-china-...</td>\n",
              "      <td>850</td>\n",
              "      <td>NaN</td>\n",
              "      <td>Chinese, Asian, Momos</td>\n",
              "      <td>11:30AM to 11PM (Mon-Sun)</td>\n",
              "    </tr>\n",
              "    <tr>\n",
              "      <th>64</th>\n",
              "      <td>Hyderabad Chefs</td>\n",
              "      <td>https://www.zomato.com/hyderabad/hyderabad-che...</td>\n",
              "      <td>600</td>\n",
              "      <td>NaN</td>\n",
              "      <td>North Indian, Chinese</td>\n",
              "      <td>12 Noon to 10:30 PM</td>\n",
              "    </tr>\n",
              "    <tr>\n",
              "      <th>66</th>\n",
              "      <td>Aromas@11SIX</td>\n",
              "      <td>https://www.zomato.com/hyderabad/aromas11six-g...</td>\n",
              "      <td>750</td>\n",
              "      <td>NaN</td>\n",
              "      <td>North Indian, Chinese, Mughlai, Biryani</td>\n",
              "      <td>11:30 AM to 12 Midnight</td>\n",
              "    </tr>\n",
              "    <tr>\n",
              "      <th>70</th>\n",
              "      <td>Urban Asia - Kitchen &amp; Bar</td>\n",
              "      <td>https://www.zomato.com/hyderabad/urban-asia-ki...</td>\n",
              "      <td>1,100</td>\n",
              "      <td>NaN</td>\n",
              "      <td>Asian, Thai, Chinese, Sushi, Momos</td>\n",
              "      <td>12 Noon to 3 PM, 7 PM to 11 PM</td>\n",
              "    </tr>\n",
              "    <tr>\n",
              "      <th>71</th>\n",
              "      <td>Eat India Company</td>\n",
              "      <td>https://www.zomato.com/hyderabad/eat-india-com...</td>\n",
              "      <td>1,300</td>\n",
              "      <td>NaN</td>\n",
              "      <td>North Indian, Mughlai, Beverages</td>\n",
              "      <td>12 Noon to 3 PM, 7 PM to 11 PM</td>\n",
              "    </tr>\n",
              "    <tr>\n",
              "      <th>73</th>\n",
              "      <td>Driven Cafe</td>\n",
              "      <td>https://www.zomato.com/hyderabad/driven-cafe-g...</td>\n",
              "      <td>600</td>\n",
              "      <td>NaN</td>\n",
              "      <td>Cafe, Fast Food, Beverages</td>\n",
              "      <td>4 AM to 12 Midnight</td>\n",
              "    </tr>\n",
              "    <tr>\n",
              "      <th>74</th>\n",
              "      <td>Faasos</td>\n",
              "      <td>https://www.zomato.com/hyderabad/faasos-gachib...</td>\n",
              "      <td>600</td>\n",
              "      <td>NaN</td>\n",
              "      <td>Fast Food, Biryani, Desserts</td>\n",
              "      <td>9 AM to 1 AM</td>\n",
              "    </tr>\n",
              "    <tr>\n",
              "      <th>75</th>\n",
              "      <td>Royal Spicy Restaurant</td>\n",
              "      <td>https://www.zomato.com/hyderabad/royal-spicy-r...</td>\n",
              "      <td>700</td>\n",
              "      <td>NaN</td>\n",
              "      <td>North Indian, South Indian</td>\n",
              "      <td>10:30 AM to 11 PM</td>\n",
              "    </tr>\n",
              "    <tr>\n",
              "      <th>76</th>\n",
              "      <td>The Old Madras Baking Company</td>\n",
              "      <td>https://www.zomato.com/hyderabad/the-old-madra...</td>\n",
              "      <td>350</td>\n",
              "      <td>NaN</td>\n",
              "      <td>Bakery</td>\n",
              "      <td>7 AM to 11 PM</td>\n",
              "    </tr>\n",
              "    <tr>\n",
              "      <th>79</th>\n",
              "      <td>Olive Garden</td>\n",
              "      <td>https://www.zomato.com/hyderabad/olive-garden-...</td>\n",
              "      <td>700</td>\n",
              "      <td>NaN</td>\n",
              "      <td>North Indian, Chinese, Continental, Biryani</td>\n",
              "      <td>12 Noon to 3:30 PM, 7 PM to 11 PM</td>\n",
              "    </tr>\n",
              "    <tr>\n",
              "      <th>81</th>\n",
              "      <td>Delhi-39</td>\n",
              "      <td>https://www.zomato.com/hyderabad/delhi-39-gach...</td>\n",
              "      <td>600</td>\n",
              "      <td>NaN</td>\n",
              "      <td>North Indian, Chinese</td>\n",
              "      <td>11am to 11pm (Mon-Sun)</td>\n",
              "    </tr>\n",
              "    <tr>\n",
              "      <th>82</th>\n",
              "      <td>Al Saba Restaurant</td>\n",
              "      <td>https://www.zomato.com/hyderabad/al-saba-resta...</td>\n",
              "      <td>750</td>\n",
              "      <td>NaN</td>\n",
              "      <td>North Indian, Chinese, Seafood, Biryani, Hyder...</td>\n",
              "      <td>6 AM to 11:30 PM</td>\n",
              "    </tr>\n",
              "    <tr>\n",
              "      <th>83</th>\n",
              "      <td>GD's</td>\n",
              "      <td>https://www.zomato.com/hyderabad/gds-gachibowli</td>\n",
              "      <td>500</td>\n",
              "      <td>NaN</td>\n",
              "      <td>Burger, American</td>\n",
              "      <td>11:30 AM to 5 AM</td>\n",
              "    </tr>\n",
              "    <tr>\n",
              "      <th>84</th>\n",
              "      <td>T Grill</td>\n",
              "      <td>https://www.zomato.com/hyderabad/t-grill-gachi...</td>\n",
              "      <td>700</td>\n",
              "      <td>NaN</td>\n",
              "      <td>North Indian, Andhra, Biryani, Chinese</td>\n",
              "      <td>12:30 PM to 3:30 PM, 7 PM to 11 PM</td>\n",
              "    </tr>\n",
              "    <tr>\n",
              "      <th>85</th>\n",
              "      <td>Momos Delight</td>\n",
              "      <td>https://www.zomato.com/hyderabad/momos-delight...</td>\n",
              "      <td>200</td>\n",
              "      <td>NaN</td>\n",
              "      <td>Momos</td>\n",
              "      <td>6pm to 2am (Mon-Sun)</td>\n",
              "    </tr>\n",
              "    <tr>\n",
              "      <th>86</th>\n",
              "      <td>The Chocolate Room</td>\n",
              "      <td>https://www.zomato.com/hyderabad/the-chocolate...</td>\n",
              "      <td>600</td>\n",
              "      <td>NaN</td>\n",
              "      <td>Cafe, Desserts</td>\n",
              "      <td>10 AM to 12 Midnight</td>\n",
              "    </tr>\n",
              "    <tr>\n",
              "      <th>88</th>\n",
              "      <td>Domino's Pizza</td>\n",
              "      <td>https://www.zomato.com/hyderabad/dominos-pizza...</td>\n",
              "      <td>400</td>\n",
              "      <td>NaN</td>\n",
              "      <td>Fast Food, Pizza</td>\n",
              "      <td>11 AM to 11 PM</td>\n",
              "    </tr>\n",
              "    <tr>\n",
              "      <th>89</th>\n",
              "      <td>Mohammedia Shawarma</td>\n",
              "      <td>https://www.zomato.com/hyderabad/mohammedia-sh...</td>\n",
              "      <td>150</td>\n",
              "      <td>NaN</td>\n",
              "      <td>Street Food, Arabian</td>\n",
              "      <td>1 PM to 1 AM</td>\n",
              "    </tr>\n",
              "    <tr>\n",
              "      <th>91</th>\n",
              "      <td>Cascade - Radisson Hyderabad Hitec City</td>\n",
              "      <td>https://www.zomato.com/hyderabad/cascade-radis...</td>\n",
              "      <td>1,800</td>\n",
              "      <td>NaN</td>\n",
              "      <td>North Indian, Italian, Continental, Asian</td>\n",
              "      <td>24 Hours</td>\n",
              "    </tr>\n",
              "    <tr>\n",
              "      <th>93</th>\n",
              "      <td>Zing's Northeast Kitchen</td>\n",
              "      <td>https://www.zomato.com/hyderabad/zings-northea...</td>\n",
              "      <td>550</td>\n",
              "      <td>NaN</td>\n",
              "      <td>North Eastern, Momos</td>\n",
              "      <td>11:30 AM to 4 PM, 7 PM to 11 PM</td>\n",
              "    </tr>\n",
              "    <tr>\n",
              "      <th>94</th>\n",
              "      <td>Dunkin' Donuts</td>\n",
              "      <td>https://www.zomato.com/hyderabad/dunkin-donuts...</td>\n",
              "      <td>550</td>\n",
              "      <td>NaN</td>\n",
              "      <td>Desserts, Cafe, Beverages, Burger, Fast Food</td>\n",
              "      <td>10 AM to 11 PM</td>\n",
              "    </tr>\n",
              "    <tr>\n",
              "      <th>95</th>\n",
              "      <td>Desi Bytes</td>\n",
              "      <td>https://www.zomato.com/hyderabad/desi-bytes-ga...</td>\n",
              "      <td>400</td>\n",
              "      <td>NaN</td>\n",
              "      <td>North Indian, Chinese</td>\n",
              "      <td>1 PM to 2 AM (Mon, Wed-Sun), Tue Closed</td>\n",
              "    </tr>\n",
              "    <tr>\n",
              "      <th>97</th>\n",
              "      <td>Zega - Sheraton Hyderabad Hotel</td>\n",
              "      <td>https://www.zomato.com/hyderabad/zega-sheraton...</td>\n",
              "      <td>1,750</td>\n",
              "      <td>NaN</td>\n",
              "      <td>Asian, Sushi</td>\n",
              "      <td>12Noon to 2AM (Mon-Sun)</td>\n",
              "    </tr>\n",
              "    <tr>\n",
              "      <th>98</th>\n",
              "      <td>Triptify</td>\n",
              "      <td>https://www.zomato.com/hyderabad/triptify-gach...</td>\n",
              "      <td>400</td>\n",
              "      <td>NaN</td>\n",
              "      <td>North Indian</td>\n",
              "      <td>11 AM to 11 PM</td>\n",
              "    </tr>\n",
              "    <tr>\n",
              "      <th>99</th>\n",
              "      <td>Chinese Pavilion</td>\n",
              "      <td>https://www.zomato.com/hyderabad/chinese-pavil...</td>\n",
              "      <td>1,000</td>\n",
              "      <td>NaN</td>\n",
              "      <td>Chinese, Seafood</td>\n",
              "      <td>12 Noon to 3:30 PM, 7 PM to 11 PM</td>\n",
              "    </tr>\n",
              "    <tr>\n",
              "      <th>100</th>\n",
              "      <td>IndiBlaze</td>\n",
              "      <td>https://www.zomato.com/hyderabad/indiblaze-gac...</td>\n",
              "      <td>600</td>\n",
              "      <td>NaN</td>\n",
              "      <td>Fast Food, Salad</td>\n",
              "      <td>11 AM to 11 PM</td>\n",
              "    </tr>\n",
              "    <tr>\n",
              "      <th>101</th>\n",
              "      <td>Sweet Basket</td>\n",
              "      <td>https://www.zomato.com/hyderabad/sweet-basket-...</td>\n",
              "      <td>200</td>\n",
              "      <td>NaN</td>\n",
              "      <td>Bakery, Mithai</td>\n",
              "      <td>10 AM to 10 PM (Mon-Thu), 8 AM to 10:30 PM (Fr...</td>\n",
              "    </tr>\n",
              "    <tr>\n",
              "      <th>102</th>\n",
              "      <td>Angaara Counts 3</td>\n",
              "      <td>https://www.zomato.com/hyderabad/angaara-count...</td>\n",
              "      <td>500</td>\n",
              "      <td>NaN</td>\n",
              "      <td>North Indian, Biryani, Chinese</td>\n",
              "      <td>12 Noon to 11 PM</td>\n",
              "    </tr>\n",
              "    <tr>\n",
              "      <th>103</th>\n",
              "      <td>Wich Please</td>\n",
              "      <td>https://www.zomato.com/hyderabad/wich-please-1...</td>\n",
              "      <td>250</td>\n",
              "      <td>NaN</td>\n",
              "      <td>Fast Food</td>\n",
              "      <td>8am to 12:30AM (Mon-Sun)</td>\n",
              "    </tr>\n",
              "  </tbody>\n",
              "</table>\n",
              "</div>\n",
              "      <button class=\"colab-df-convert\" onclick=\"convertToInteractive('df-70bc6ada-77bc-4c05-9f55-a122d8947caa')\"\n",
              "              title=\"Convert this dataframe to an interactive table.\"\n",
              "              style=\"display:none;\">\n",
              "        \n",
              "  <svg xmlns=\"http://www.w3.org/2000/svg\" height=\"24px\"viewBox=\"0 0 24 24\"\n",
              "       width=\"24px\">\n",
              "    <path d=\"M0 0h24v24H0V0z\" fill=\"none\"/>\n",
              "    <path d=\"M18.56 5.44l.94 2.06.94-2.06 2.06-.94-2.06-.94-.94-2.06-.94 2.06-2.06.94zm-11 1L8.5 8.5l.94-2.06 2.06-.94-2.06-.94L8.5 2.5l-.94 2.06-2.06.94zm10 10l.94 2.06.94-2.06 2.06-.94-2.06-.94-.94-2.06-.94 2.06-2.06.94z\"/><path d=\"M17.41 7.96l-1.37-1.37c-.4-.4-.92-.59-1.43-.59-.52 0-1.04.2-1.43.59L10.3 9.45l-7.72 7.72c-.78.78-.78 2.05 0 2.83L4 21.41c.39.39.9.59 1.41.59.51 0 1.02-.2 1.41-.59l7.78-7.78 2.81-2.81c.8-.78.8-2.07 0-2.86zM5.41 20L4 18.59l7.72-7.72 1.47 1.35L5.41 20z\"/>\n",
              "  </svg>\n",
              "      </button>\n",
              "      \n",
              "  <style>\n",
              "    .colab-df-container {\n",
              "      display:flex;\n",
              "      flex-wrap:wrap;\n",
              "      gap: 12px;\n",
              "    }\n",
              "\n",
              "    .colab-df-convert {\n",
              "      background-color: #E8F0FE;\n",
              "      border: none;\n",
              "      border-radius: 50%;\n",
              "      cursor: pointer;\n",
              "      display: none;\n",
              "      fill: #1967D2;\n",
              "      height: 32px;\n",
              "      padding: 0 0 0 0;\n",
              "      width: 32px;\n",
              "    }\n",
              "\n",
              "    .colab-df-convert:hover {\n",
              "      background-color: #E2EBFA;\n",
              "      box-shadow: 0px 1px 2px rgba(60, 64, 67, 0.3), 0px 1px 3px 1px rgba(60, 64, 67, 0.15);\n",
              "      fill: #174EA6;\n",
              "    }\n",
              "\n",
              "    [theme=dark] .colab-df-convert {\n",
              "      background-color: #3B4455;\n",
              "      fill: #D2E3FC;\n",
              "    }\n",
              "\n",
              "    [theme=dark] .colab-df-convert:hover {\n",
              "      background-color: #434B5C;\n",
              "      box-shadow: 0px 1px 3px 1px rgba(0, 0, 0, 0.15);\n",
              "      filter: drop-shadow(0px 1px 2px rgba(0, 0, 0, 0.3));\n",
              "      fill: #FFFFFF;\n",
              "    }\n",
              "  </style>\n",
              "\n",
              "      <script>\n",
              "        const buttonEl =\n",
              "          document.querySelector('#df-70bc6ada-77bc-4c05-9f55-a122d8947caa button.colab-df-convert');\n",
              "        buttonEl.style.display =\n",
              "          google.colab.kernel.accessAllowed ? 'block' : 'none';\n",
              "\n",
              "        async function convertToInteractive(key) {\n",
              "          const element = document.querySelector('#df-70bc6ada-77bc-4c05-9f55-a122d8947caa');\n",
              "          const dataTable =\n",
              "            await google.colab.kernel.invokeFunction('convertToInteractive',\n",
              "                                                     [key], {});\n",
              "          if (!dataTable) return;\n",
              "\n",
              "          const docLinkHtml = 'Like what you see? Visit the ' +\n",
              "            '<a target=\"_blank\" href=https://colab.research.google.com/notebooks/data_table.ipynb>data table notebook</a>'\n",
              "            + ' to learn more about interactive tables.';\n",
              "          element.innerHTML = '';\n",
              "          dataTable['output_type'] = 'display_data';\n",
              "          await google.colab.output.renderOutput(dataTable, element);\n",
              "          const docLink = document.createElement('div');\n",
              "          docLink.innerHTML = docLinkHtml;\n",
              "          element.appendChild(docLink);\n",
              "        }\n",
              "      </script>\n",
              "    </div>\n",
              "  </div>\n",
              "  "
            ]
          },
          "metadata": {},
          "execution_count": 15
        }
      ]
    },
    {
      "cell_type": "markdown",
      "source": [
        "Around 50% of the data is missing in the categorical column \"Collections\", which are basically just tags given by zomato for better search results.\n",
        "\n",
        "Even when imputed with various categorical data imputing measures, it would be pretty difficult to match similar tags as the restaurants and then even more difficult to then convert them into a meaningful numerical feature afterward. If the information contained in the variable is not that high, it is better to drop the variable if it has 50% or more missing values."
      ],
      "metadata": {
        "id": "XVgGYnLKoOC9"
      }
    },
    {
      "cell_type": "code",
      "source": [
        "#drop collections\n",
        "rest_df.drop('Collections', axis=1, inplace=True)"
      ],
      "metadata": {
        "id": "mvhdCxj1oRfb"
      },
      "execution_count": 16,
      "outputs": []
    },
    {
      "cell_type": "code",
      "source": [
        "#Impute one missing timing row with the mode\n",
        "rest_df['Timings'].fillna(rest_df['Timings'].mode()[0],inplace=True)"
      ],
      "metadata": {
        "id": "VoSnPRC4ofbN"
      },
      "execution_count": 17,
      "outputs": []
    },
    {
      "cell_type": "code",
      "source": [
        "#checking of nulls\n",
        "rest_df.isnull().sum()"
      ],
      "metadata": {
        "colab": {
          "base_uri": "https://localhost:8080/"
        },
        "id": "zFPuCNUOoqYl",
        "outputId": "fb8903ac-47b2-4714-f874-37f3db57c1b4"
      },
      "execution_count": 18,
      "outputs": [
        {
          "output_type": "execute_result",
          "data": {
            "text/plain": [
              "Name        0\n",
              "Links       0\n",
              "Cost        0\n",
              "Cuisines    0\n",
              "Timings     0\n",
              "dtype: int64"
            ]
          },
          "metadata": {},
          "execution_count": 18
        }
      ]
    },
    {
      "cell_type": "code",
      "source": [
        "# Missing Values/Null Values Count\n",
        "reviews_df.isnull().sum()"
      ],
      "metadata": {
        "colab": {
          "base_uri": "https://localhost:8080/"
        },
        "id": "AcS39erKpGYl",
        "outputId": "0eab4e7e-f576-413b-ac94-3b15a6b9e795"
      },
      "execution_count": 19,
      "outputs": [
        {
          "output_type": "execute_result",
          "data": {
            "text/plain": [
              "Restaurant    0\n",
              "Reviewer      2\n",
              "Review        9\n",
              "Rating        2\n",
              "Metadata      2\n",
              "Time          2\n",
              "Pictures      0\n",
              "dtype: int64"
            ]
          },
          "metadata": {},
          "execution_count": 19
        }
      ]
    },
    {
      "cell_type": "code",
      "source": [
        "# Visualizing the missing values\n",
        "reviews_df[reviews_df.Review.isna()]"
      ],
      "metadata": {
        "colab": {
          "base_uri": "https://localhost:8080/",
          "height": 332
        },
        "id": "iiJBrSXcpJiE",
        "outputId": "3f358319-06a0-4ca7-d40b-24603bfda261"
      },
      "execution_count": 20,
      "outputs": [
        {
          "output_type": "execute_result",
          "data": {
            "text/plain": [
              "               Restaurant                Reviewer Review Rating  \\\n",
              "2360                 Amul        Lakshmi Narayana    NaN      5   \n",
              "5799         Being Hungry                   Surya    NaN      5   \n",
              "6449      Hyderabad Chefs          Madhurimanne97    NaN      5   \n",
              "6489      Hyderabad Chefs                  Harsha    NaN      5   \n",
              "7954         Olive Garden  ARUGULLA PRAVEEN KUMAR    NaN      3   \n",
              "8228   Al Saba Restaurant                  Suresh    NaN      5   \n",
              "8777  American Wild Wings                     NaN    NaN    NaN   \n",
              "8844       Domino's Pizza             Sayan Gupta    NaN      5   \n",
              "9085         Arena Eleven                     NaN    NaN    NaN   \n",
              "\n",
              "                     Metadata             Time  Pictures  \n",
              "2360                0 Reviews  7/29/2018 18:00         0  \n",
              "5799  4 Reviews , 4 Followers  7/19/2018 23:55         0  \n",
              "6449                 1 Review  7/23/2018 16:29         0  \n",
              "6489                 1 Review   7/8/2018 21:19         0  \n",
              "7954    1 Review , 1 Follower   8/9/2018 23:25         0  \n",
              "8228                 1 Review  7/20/2018 22:42         0  \n",
              "8777                      NaN              NaN         0  \n",
              "8844  2 Reviews , 2 Followers   8/9/2018 21:41         0  \n",
              "9085                      NaN              NaN         0  "
            ],
            "text/html": [
              "\n",
              "  <div id=\"df-68678148-5834-4c00-a64a-5b22dc0455ee\">\n",
              "    <div class=\"colab-df-container\">\n",
              "      <div>\n",
              "<style scoped>\n",
              "    .dataframe tbody tr th:only-of-type {\n",
              "        vertical-align: middle;\n",
              "    }\n",
              "\n",
              "    .dataframe tbody tr th {\n",
              "        vertical-align: top;\n",
              "    }\n",
              "\n",
              "    .dataframe thead th {\n",
              "        text-align: right;\n",
              "    }\n",
              "</style>\n",
              "<table border=\"1\" class=\"dataframe\">\n",
              "  <thead>\n",
              "    <tr style=\"text-align: right;\">\n",
              "      <th></th>\n",
              "      <th>Restaurant</th>\n",
              "      <th>Reviewer</th>\n",
              "      <th>Review</th>\n",
              "      <th>Rating</th>\n",
              "      <th>Metadata</th>\n",
              "      <th>Time</th>\n",
              "      <th>Pictures</th>\n",
              "    </tr>\n",
              "  </thead>\n",
              "  <tbody>\n",
              "    <tr>\n",
              "      <th>2360</th>\n",
              "      <td>Amul</td>\n",
              "      <td>Lakshmi Narayana</td>\n",
              "      <td>NaN</td>\n",
              "      <td>5</td>\n",
              "      <td>0 Reviews</td>\n",
              "      <td>7/29/2018 18:00</td>\n",
              "      <td>0</td>\n",
              "    </tr>\n",
              "    <tr>\n",
              "      <th>5799</th>\n",
              "      <td>Being Hungry</td>\n",
              "      <td>Surya</td>\n",
              "      <td>NaN</td>\n",
              "      <td>5</td>\n",
              "      <td>4 Reviews , 4 Followers</td>\n",
              "      <td>7/19/2018 23:55</td>\n",
              "      <td>0</td>\n",
              "    </tr>\n",
              "    <tr>\n",
              "      <th>6449</th>\n",
              "      <td>Hyderabad Chefs</td>\n",
              "      <td>Madhurimanne97</td>\n",
              "      <td>NaN</td>\n",
              "      <td>5</td>\n",
              "      <td>1 Review</td>\n",
              "      <td>7/23/2018 16:29</td>\n",
              "      <td>0</td>\n",
              "    </tr>\n",
              "    <tr>\n",
              "      <th>6489</th>\n",
              "      <td>Hyderabad Chefs</td>\n",
              "      <td>Harsha</td>\n",
              "      <td>NaN</td>\n",
              "      <td>5</td>\n",
              "      <td>1 Review</td>\n",
              "      <td>7/8/2018 21:19</td>\n",
              "      <td>0</td>\n",
              "    </tr>\n",
              "    <tr>\n",
              "      <th>7954</th>\n",
              "      <td>Olive Garden</td>\n",
              "      <td>ARUGULLA PRAVEEN KUMAR</td>\n",
              "      <td>NaN</td>\n",
              "      <td>3</td>\n",
              "      <td>1 Review , 1 Follower</td>\n",
              "      <td>8/9/2018 23:25</td>\n",
              "      <td>0</td>\n",
              "    </tr>\n",
              "    <tr>\n",
              "      <th>8228</th>\n",
              "      <td>Al Saba Restaurant</td>\n",
              "      <td>Suresh</td>\n",
              "      <td>NaN</td>\n",
              "      <td>5</td>\n",
              "      <td>1 Review</td>\n",
              "      <td>7/20/2018 22:42</td>\n",
              "      <td>0</td>\n",
              "    </tr>\n",
              "    <tr>\n",
              "      <th>8777</th>\n",
              "      <td>American Wild Wings</td>\n",
              "      <td>NaN</td>\n",
              "      <td>NaN</td>\n",
              "      <td>NaN</td>\n",
              "      <td>NaN</td>\n",
              "      <td>NaN</td>\n",
              "      <td>0</td>\n",
              "    </tr>\n",
              "    <tr>\n",
              "      <th>8844</th>\n",
              "      <td>Domino's Pizza</td>\n",
              "      <td>Sayan Gupta</td>\n",
              "      <td>NaN</td>\n",
              "      <td>5</td>\n",
              "      <td>2 Reviews , 2 Followers</td>\n",
              "      <td>8/9/2018 21:41</td>\n",
              "      <td>0</td>\n",
              "    </tr>\n",
              "    <tr>\n",
              "      <th>9085</th>\n",
              "      <td>Arena Eleven</td>\n",
              "      <td>NaN</td>\n",
              "      <td>NaN</td>\n",
              "      <td>NaN</td>\n",
              "      <td>NaN</td>\n",
              "      <td>NaN</td>\n",
              "      <td>0</td>\n",
              "    </tr>\n",
              "  </tbody>\n",
              "</table>\n",
              "</div>\n",
              "      <button class=\"colab-df-convert\" onclick=\"convertToInteractive('df-68678148-5834-4c00-a64a-5b22dc0455ee')\"\n",
              "              title=\"Convert this dataframe to an interactive table.\"\n",
              "              style=\"display:none;\">\n",
              "        \n",
              "  <svg xmlns=\"http://www.w3.org/2000/svg\" height=\"24px\"viewBox=\"0 0 24 24\"\n",
              "       width=\"24px\">\n",
              "    <path d=\"M0 0h24v24H0V0z\" fill=\"none\"/>\n",
              "    <path d=\"M18.56 5.44l.94 2.06.94-2.06 2.06-.94-2.06-.94-.94-2.06-.94 2.06-2.06.94zm-11 1L8.5 8.5l.94-2.06 2.06-.94-2.06-.94L8.5 2.5l-.94 2.06-2.06.94zm10 10l.94 2.06.94-2.06 2.06-.94-2.06-.94-.94-2.06-.94 2.06-2.06.94z\"/><path d=\"M17.41 7.96l-1.37-1.37c-.4-.4-.92-.59-1.43-.59-.52 0-1.04.2-1.43.59L10.3 9.45l-7.72 7.72c-.78.78-.78 2.05 0 2.83L4 21.41c.39.39.9.59 1.41.59.51 0 1.02-.2 1.41-.59l7.78-7.78 2.81-2.81c.8-.78.8-2.07 0-2.86zM5.41 20L4 18.59l7.72-7.72 1.47 1.35L5.41 20z\"/>\n",
              "  </svg>\n",
              "      </button>\n",
              "      \n",
              "  <style>\n",
              "    .colab-df-container {\n",
              "      display:flex;\n",
              "      flex-wrap:wrap;\n",
              "      gap: 12px;\n",
              "    }\n",
              "\n",
              "    .colab-df-convert {\n",
              "      background-color: #E8F0FE;\n",
              "      border: none;\n",
              "      border-radius: 50%;\n",
              "      cursor: pointer;\n",
              "      display: none;\n",
              "      fill: #1967D2;\n",
              "      height: 32px;\n",
              "      padding: 0 0 0 0;\n",
              "      width: 32px;\n",
              "    }\n",
              "\n",
              "    .colab-df-convert:hover {\n",
              "      background-color: #E2EBFA;\n",
              "      box-shadow: 0px 1px 2px rgba(60, 64, 67, 0.3), 0px 1px 3px 1px rgba(60, 64, 67, 0.15);\n",
              "      fill: #174EA6;\n",
              "    }\n",
              "\n",
              "    [theme=dark] .colab-df-convert {\n",
              "      background-color: #3B4455;\n",
              "      fill: #D2E3FC;\n",
              "    }\n",
              "\n",
              "    [theme=dark] .colab-df-convert:hover {\n",
              "      background-color: #434B5C;\n",
              "      box-shadow: 0px 1px 3px 1px rgba(0, 0, 0, 0.15);\n",
              "      filter: drop-shadow(0px 1px 2px rgba(0, 0, 0, 0.3));\n",
              "      fill: #FFFFFF;\n",
              "    }\n",
              "  </style>\n",
              "\n",
              "      <script>\n",
              "        const buttonEl =\n",
              "          document.querySelector('#df-68678148-5834-4c00-a64a-5b22dc0455ee button.colab-df-convert');\n",
              "        buttonEl.style.display =\n",
              "          google.colab.kernel.accessAllowed ? 'block' : 'none';\n",
              "\n",
              "        async function convertToInteractive(key) {\n",
              "          const element = document.querySelector('#df-68678148-5834-4c00-a64a-5b22dc0455ee');\n",
              "          const dataTable =\n",
              "            await google.colab.kernel.invokeFunction('convertToInteractive',\n",
              "                                                     [key], {});\n",
              "          if (!dataTable) return;\n",
              "\n",
              "          const docLinkHtml = 'Like what you see? Visit the ' +\n",
              "            '<a target=\"_blank\" href=https://colab.research.google.com/notebooks/data_table.ipynb>data table notebook</a>'\n",
              "            + ' to learn more about interactive tables.';\n",
              "          element.innerHTML = '';\n",
              "          dataTable['output_type'] = 'display_data';\n",
              "          await google.colab.output.renderOutput(dataTable, element);\n",
              "          const docLink = document.createElement('div');\n",
              "          docLink.innerHTML = docLinkHtml;\n",
              "          element.appendChild(docLink);\n",
              "        }\n",
              "      </script>\n",
              "    </div>\n",
              "  </div>\n",
              "  "
            ]
          },
          "metadata": {},
          "execution_count": 20
        }
      ]
    },
    {
      "cell_type": "markdown",
      "source": [
        "It can also be seen that some of the null values in the review column also have nulls in other corresponding columns such as Reviewer, Rating, Metadata, and Time.\n",
        "\n",
        "So we can drop this null rows, to make analysis more clear."
      ],
      "metadata": {
        "id": "yq5oqqt8pN6D"
      }
    },
    {
      "cell_type": "code",
      "source": [
        "#dropping null rows in reviews first\n",
        "reviews_df.dropna(subset = [\"Review\"], inplace=True)"
      ],
      "metadata": {
        "id": "NvIhh4EQpQ57"
      },
      "execution_count": 21,
      "outputs": []
    },
    {
      "cell_type": "code",
      "source": [
        "#checking of nulls\n",
        "reviews_df.isnull().sum()"
      ],
      "metadata": {
        "colab": {
          "base_uri": "https://localhost:8080/"
        },
        "id": "lx3wGWVZpS5U",
        "outputId": "858bc76a-b776-4bbc-8f2b-1132ef78bbae"
      },
      "execution_count": 22,
      "outputs": [
        {
          "output_type": "execute_result",
          "data": {
            "text/plain": [
              "Restaurant    0\n",
              "Reviewer      0\n",
              "Review        0\n",
              "Rating        0\n",
              "Metadata      0\n",
              "Time          0\n",
              "Pictures      0\n",
              "dtype: int64"
            ]
          },
          "metadata": {},
          "execution_count": 22
        }
      ]
    },
    {
      "cell_type": "markdown",
      "source": [
        "### What did you know about your dataset?"
      ],
      "metadata": {
        "id": "H0kj-8xxnORC"
      }
    },
    {
      "cell_type": "markdown",
      "source": [
        "Answer Here"
      ],
      "metadata": {
        "id": "gfoNAAC-nUe_"
      }
    },
    {
      "cell_type": "markdown",
      "source": [
        "## ***2. Understanding Your Variables***"
      ],
      "metadata": {
        "id": "nA9Y7ga8ng1Z"
      }
    },
    {
      "cell_type": "code",
      "source": [
        "# Dataset Columns\n",
        "rest_df.columns"
      ],
      "metadata": {
        "id": "j7xfkqrt5Ag5",
        "colab": {
          "base_uri": "https://localhost:8080/"
        },
        "outputId": "54e6e0cd-233c-472a-d417-cbea1fb262be"
      },
      "execution_count": 23,
      "outputs": [
        {
          "output_type": "execute_result",
          "data": {
            "text/plain": [
              "Index(['Name', 'Links', 'Cost', 'Cuisines', 'Timings'], dtype='object')"
            ]
          },
          "metadata": {},
          "execution_count": 23
        }
      ]
    },
    {
      "cell_type": "code",
      "source": [
        "# Dataset Describe\n",
        "rest_df.describe()"
      ],
      "metadata": {
        "id": "DnOaZdaE5Q5t",
        "colab": {
          "base_uri": "https://localhost:8080/",
          "height": 175
        },
        "outputId": "4e4ad54e-08bb-4f19-db78-cce6d4ce621a"
      },
      "execution_count": 24,
      "outputs": [
        {
          "output_type": "execute_result",
          "data": {
            "text/plain": [
              "                   Name                                              Links  \\\n",
              "count               105                                                105   \n",
              "unique              105                                                105   \n",
              "top     Beyond Flavours  https://www.zomato.com/hyderabad/beyond-flavou...   \n",
              "freq                  1                                                  1   \n",
              "\n",
              "       Cost               Cuisines         Timings  \n",
              "count   105                    105             105  \n",
              "unique   29                     92              77  \n",
              "top     500  North Indian, Chinese  11 AM to 11 PM  \n",
              "freq     13                      4               7  "
            ],
            "text/html": [
              "\n",
              "  <div id=\"df-251f8c9f-7864-4ca3-b2ca-85691f9dd939\">\n",
              "    <div class=\"colab-df-container\">\n",
              "      <div>\n",
              "<style scoped>\n",
              "    .dataframe tbody tr th:only-of-type {\n",
              "        vertical-align: middle;\n",
              "    }\n",
              "\n",
              "    .dataframe tbody tr th {\n",
              "        vertical-align: top;\n",
              "    }\n",
              "\n",
              "    .dataframe thead th {\n",
              "        text-align: right;\n",
              "    }\n",
              "</style>\n",
              "<table border=\"1\" class=\"dataframe\">\n",
              "  <thead>\n",
              "    <tr style=\"text-align: right;\">\n",
              "      <th></th>\n",
              "      <th>Name</th>\n",
              "      <th>Links</th>\n",
              "      <th>Cost</th>\n",
              "      <th>Cuisines</th>\n",
              "      <th>Timings</th>\n",
              "    </tr>\n",
              "  </thead>\n",
              "  <tbody>\n",
              "    <tr>\n",
              "      <th>count</th>\n",
              "      <td>105</td>\n",
              "      <td>105</td>\n",
              "      <td>105</td>\n",
              "      <td>105</td>\n",
              "      <td>105</td>\n",
              "    </tr>\n",
              "    <tr>\n",
              "      <th>unique</th>\n",
              "      <td>105</td>\n",
              "      <td>105</td>\n",
              "      <td>29</td>\n",
              "      <td>92</td>\n",
              "      <td>77</td>\n",
              "    </tr>\n",
              "    <tr>\n",
              "      <th>top</th>\n",
              "      <td>Beyond Flavours</td>\n",
              "      <td>https://www.zomato.com/hyderabad/beyond-flavou...</td>\n",
              "      <td>500</td>\n",
              "      <td>North Indian, Chinese</td>\n",
              "      <td>11 AM to 11 PM</td>\n",
              "    </tr>\n",
              "    <tr>\n",
              "      <th>freq</th>\n",
              "      <td>1</td>\n",
              "      <td>1</td>\n",
              "      <td>13</td>\n",
              "      <td>4</td>\n",
              "      <td>7</td>\n",
              "    </tr>\n",
              "  </tbody>\n",
              "</table>\n",
              "</div>\n",
              "      <button class=\"colab-df-convert\" onclick=\"convertToInteractive('df-251f8c9f-7864-4ca3-b2ca-85691f9dd939')\"\n",
              "              title=\"Convert this dataframe to an interactive table.\"\n",
              "              style=\"display:none;\">\n",
              "        \n",
              "  <svg xmlns=\"http://www.w3.org/2000/svg\" height=\"24px\"viewBox=\"0 0 24 24\"\n",
              "       width=\"24px\">\n",
              "    <path d=\"M0 0h24v24H0V0z\" fill=\"none\"/>\n",
              "    <path d=\"M18.56 5.44l.94 2.06.94-2.06 2.06-.94-2.06-.94-.94-2.06-.94 2.06-2.06.94zm-11 1L8.5 8.5l.94-2.06 2.06-.94-2.06-.94L8.5 2.5l-.94 2.06-2.06.94zm10 10l.94 2.06.94-2.06 2.06-.94-2.06-.94-.94-2.06-.94 2.06-2.06.94z\"/><path d=\"M17.41 7.96l-1.37-1.37c-.4-.4-.92-.59-1.43-.59-.52 0-1.04.2-1.43.59L10.3 9.45l-7.72 7.72c-.78.78-.78 2.05 0 2.83L4 21.41c.39.39.9.59 1.41.59.51 0 1.02-.2 1.41-.59l7.78-7.78 2.81-2.81c.8-.78.8-2.07 0-2.86zM5.41 20L4 18.59l7.72-7.72 1.47 1.35L5.41 20z\"/>\n",
              "  </svg>\n",
              "      </button>\n",
              "      \n",
              "  <style>\n",
              "    .colab-df-container {\n",
              "      display:flex;\n",
              "      flex-wrap:wrap;\n",
              "      gap: 12px;\n",
              "    }\n",
              "\n",
              "    .colab-df-convert {\n",
              "      background-color: #E8F0FE;\n",
              "      border: none;\n",
              "      border-radius: 50%;\n",
              "      cursor: pointer;\n",
              "      display: none;\n",
              "      fill: #1967D2;\n",
              "      height: 32px;\n",
              "      padding: 0 0 0 0;\n",
              "      width: 32px;\n",
              "    }\n",
              "\n",
              "    .colab-df-convert:hover {\n",
              "      background-color: #E2EBFA;\n",
              "      box-shadow: 0px 1px 2px rgba(60, 64, 67, 0.3), 0px 1px 3px 1px rgba(60, 64, 67, 0.15);\n",
              "      fill: #174EA6;\n",
              "    }\n",
              "\n",
              "    [theme=dark] .colab-df-convert {\n",
              "      background-color: #3B4455;\n",
              "      fill: #D2E3FC;\n",
              "    }\n",
              "\n",
              "    [theme=dark] .colab-df-convert:hover {\n",
              "      background-color: #434B5C;\n",
              "      box-shadow: 0px 1px 3px 1px rgba(0, 0, 0, 0.15);\n",
              "      filter: drop-shadow(0px 1px 2px rgba(0, 0, 0, 0.3));\n",
              "      fill: #FFFFFF;\n",
              "    }\n",
              "  </style>\n",
              "\n",
              "      <script>\n",
              "        const buttonEl =\n",
              "          document.querySelector('#df-251f8c9f-7864-4ca3-b2ca-85691f9dd939 button.colab-df-convert');\n",
              "        buttonEl.style.display =\n",
              "          google.colab.kernel.accessAllowed ? 'block' : 'none';\n",
              "\n",
              "        async function convertToInteractive(key) {\n",
              "          const element = document.querySelector('#df-251f8c9f-7864-4ca3-b2ca-85691f9dd939');\n",
              "          const dataTable =\n",
              "            await google.colab.kernel.invokeFunction('convertToInteractive',\n",
              "                                                     [key], {});\n",
              "          if (!dataTable) return;\n",
              "\n",
              "          const docLinkHtml = 'Like what you see? Visit the ' +\n",
              "            '<a target=\"_blank\" href=https://colab.research.google.com/notebooks/data_table.ipynb>data table notebook</a>'\n",
              "            + ' to learn more about interactive tables.';\n",
              "          element.innerHTML = '';\n",
              "          dataTable['output_type'] = 'display_data';\n",
              "          await google.colab.output.renderOutput(dataTable, element);\n",
              "          const docLink = document.createElement('div');\n",
              "          docLink.innerHTML = docLinkHtml;\n",
              "          element.appendChild(docLink);\n",
              "        }\n",
              "      </script>\n",
              "    </div>\n",
              "  </div>\n",
              "  "
            ]
          },
          "metadata": {},
          "execution_count": 24
        }
      ]
    },
    {
      "cell_type": "markdown",
      "source": [
        "Cost have to be in number format, but duw to comma it is taking as string we need to change it"
      ],
      "metadata": {
        "id": "wnL9N4Ywqqfu"
      }
    },
    {
      "cell_type": "code",
      "source": [
        "# changing cost datatype\n",
        "rest_df['Cost'] = rest_df['Cost'].str.replace(',','')\n",
        "rest_df['Cost'] = rest_df['Cost'].astype('int')"
      ],
      "metadata": {
        "id": "yLOPnUX7qlyE"
      },
      "execution_count": 25,
      "outputs": []
    },
    {
      "cell_type": "code",
      "source": [
        "#checking dtypes\n",
        "reviews_df.dtypes"
      ],
      "metadata": {
        "colab": {
          "base_uri": "https://localhost:8080/"
        },
        "id": "v21PB97hq1xQ",
        "outputId": "f23e9aab-829f-4177-95b9-ba69cc0dd4a6"
      },
      "execution_count": 26,
      "outputs": [
        {
          "output_type": "execute_result",
          "data": {
            "text/plain": [
              "Restaurant    object\n",
              "Reviewer      object\n",
              "Review        object\n",
              "Rating        object\n",
              "Metadata      object\n",
              "Time          object\n",
              "Pictures       int64\n",
              "dtype: object"
            ]
          },
          "metadata": {},
          "execution_count": 26
        }
      ]
    },
    {
      "cell_type": "code",
      "source": [
        "#Data Set Describe\n",
        "reviews_df.describe()"
      ],
      "metadata": {
        "colab": {
          "base_uri": "https://localhost:8080/",
          "height": 300
        },
        "id": "-RPGXyORrCWx",
        "outputId": "efd6dc55-d6af-4d82-f0ad-1ccd9aa6be1f"
      },
      "execution_count": 27,
      "outputs": [
        {
          "output_type": "execute_result",
          "data": {
            "text/plain": [
              "          Pictures\n",
              "count  9955.000000\n",
              "mean      0.751984\n",
              "std       2.575691\n",
              "min       0.000000\n",
              "25%       0.000000\n",
              "50%       0.000000\n",
              "75%       0.000000\n",
              "max      64.000000"
            ],
            "text/html": [
              "\n",
              "  <div id=\"df-ae0f022a-bcba-4611-acec-0317a670d26c\">\n",
              "    <div class=\"colab-df-container\">\n",
              "      <div>\n",
              "<style scoped>\n",
              "    .dataframe tbody tr th:only-of-type {\n",
              "        vertical-align: middle;\n",
              "    }\n",
              "\n",
              "    .dataframe tbody tr th {\n",
              "        vertical-align: top;\n",
              "    }\n",
              "\n",
              "    .dataframe thead th {\n",
              "        text-align: right;\n",
              "    }\n",
              "</style>\n",
              "<table border=\"1\" class=\"dataframe\">\n",
              "  <thead>\n",
              "    <tr style=\"text-align: right;\">\n",
              "      <th></th>\n",
              "      <th>Pictures</th>\n",
              "    </tr>\n",
              "  </thead>\n",
              "  <tbody>\n",
              "    <tr>\n",
              "      <th>count</th>\n",
              "      <td>9955.000000</td>\n",
              "    </tr>\n",
              "    <tr>\n",
              "      <th>mean</th>\n",
              "      <td>0.751984</td>\n",
              "    </tr>\n",
              "    <tr>\n",
              "      <th>std</th>\n",
              "      <td>2.575691</td>\n",
              "    </tr>\n",
              "    <tr>\n",
              "      <th>min</th>\n",
              "      <td>0.000000</td>\n",
              "    </tr>\n",
              "    <tr>\n",
              "      <th>25%</th>\n",
              "      <td>0.000000</td>\n",
              "    </tr>\n",
              "    <tr>\n",
              "      <th>50%</th>\n",
              "      <td>0.000000</td>\n",
              "    </tr>\n",
              "    <tr>\n",
              "      <th>75%</th>\n",
              "      <td>0.000000</td>\n",
              "    </tr>\n",
              "    <tr>\n",
              "      <th>max</th>\n",
              "      <td>64.000000</td>\n",
              "    </tr>\n",
              "  </tbody>\n",
              "</table>\n",
              "</div>\n",
              "      <button class=\"colab-df-convert\" onclick=\"convertToInteractive('df-ae0f022a-bcba-4611-acec-0317a670d26c')\"\n",
              "              title=\"Convert this dataframe to an interactive table.\"\n",
              "              style=\"display:none;\">\n",
              "        \n",
              "  <svg xmlns=\"http://www.w3.org/2000/svg\" height=\"24px\"viewBox=\"0 0 24 24\"\n",
              "       width=\"24px\">\n",
              "    <path d=\"M0 0h24v24H0V0z\" fill=\"none\"/>\n",
              "    <path d=\"M18.56 5.44l.94 2.06.94-2.06 2.06-.94-2.06-.94-.94-2.06-.94 2.06-2.06.94zm-11 1L8.5 8.5l.94-2.06 2.06-.94-2.06-.94L8.5 2.5l-.94 2.06-2.06.94zm10 10l.94 2.06.94-2.06 2.06-.94-2.06-.94-.94-2.06-.94 2.06-2.06.94z\"/><path d=\"M17.41 7.96l-1.37-1.37c-.4-.4-.92-.59-1.43-.59-.52 0-1.04.2-1.43.59L10.3 9.45l-7.72 7.72c-.78.78-.78 2.05 0 2.83L4 21.41c.39.39.9.59 1.41.59.51 0 1.02-.2 1.41-.59l7.78-7.78 2.81-2.81c.8-.78.8-2.07 0-2.86zM5.41 20L4 18.59l7.72-7.72 1.47 1.35L5.41 20z\"/>\n",
              "  </svg>\n",
              "      </button>\n",
              "      \n",
              "  <style>\n",
              "    .colab-df-container {\n",
              "      display:flex;\n",
              "      flex-wrap:wrap;\n",
              "      gap: 12px;\n",
              "    }\n",
              "\n",
              "    .colab-df-convert {\n",
              "      background-color: #E8F0FE;\n",
              "      border: none;\n",
              "      border-radius: 50%;\n",
              "      cursor: pointer;\n",
              "      display: none;\n",
              "      fill: #1967D2;\n",
              "      height: 32px;\n",
              "      padding: 0 0 0 0;\n",
              "      width: 32px;\n",
              "    }\n",
              "\n",
              "    .colab-df-convert:hover {\n",
              "      background-color: #E2EBFA;\n",
              "      box-shadow: 0px 1px 2px rgba(60, 64, 67, 0.3), 0px 1px 3px 1px rgba(60, 64, 67, 0.15);\n",
              "      fill: #174EA6;\n",
              "    }\n",
              "\n",
              "    [theme=dark] .colab-df-convert {\n",
              "      background-color: #3B4455;\n",
              "      fill: #D2E3FC;\n",
              "    }\n",
              "\n",
              "    [theme=dark] .colab-df-convert:hover {\n",
              "      background-color: #434B5C;\n",
              "      box-shadow: 0px 1px 3px 1px rgba(0, 0, 0, 0.15);\n",
              "      filter: drop-shadow(0px 1px 2px rgba(0, 0, 0, 0.3));\n",
              "      fill: #FFFFFF;\n",
              "    }\n",
              "  </style>\n",
              "\n",
              "      <script>\n",
              "        const buttonEl =\n",
              "          document.querySelector('#df-ae0f022a-bcba-4611-acec-0317a670d26c button.colab-df-convert');\n",
              "        buttonEl.style.display =\n",
              "          google.colab.kernel.accessAllowed ? 'block' : 'none';\n",
              "\n",
              "        async function convertToInteractive(key) {\n",
              "          const element = document.querySelector('#df-ae0f022a-bcba-4611-acec-0317a670d26c');\n",
              "          const dataTable =\n",
              "            await google.colab.kernel.invokeFunction('convertToInteractive',\n",
              "                                                     [key], {});\n",
              "          if (!dataTable) return;\n",
              "\n",
              "          const docLinkHtml = 'Like what you see? Visit the ' +\n",
              "            '<a target=\"_blank\" href=https://colab.research.google.com/notebooks/data_table.ipynb>data table notebook</a>'\n",
              "            + ' to learn more about interactive tables.';\n",
              "          element.innerHTML = '';\n",
              "          dataTable['output_type'] = 'display_data';\n",
              "          await google.colab.output.renderOutput(dataTable, element);\n",
              "          const docLink = document.createElement('div');\n",
              "          docLink.innerHTML = docLinkHtml;\n",
              "          element.appendChild(docLink);\n",
              "        }\n",
              "      </script>\n",
              "    </div>\n",
              "  </div>\n",
              "  "
            ]
          },
          "metadata": {},
          "execution_count": 27
        }
      ]
    },
    {
      "cell_type": "code",
      "source": [
        "#rating is in object type\n",
        "reviews_df['Rating'].unique()"
      ],
      "metadata": {
        "colab": {
          "base_uri": "https://localhost:8080/"
        },
        "id": "13nIc3o3rS1d",
        "outputId": "a02a3e20-5c42-447d-d29c-c6994986a8ac"
      },
      "execution_count": 28,
      "outputs": [
        {
          "output_type": "execute_result",
          "data": {
            "text/plain": [
              "array(['5', '4', '1', '3', '2', '3.5', '4.5', '2.5', '1.5', 'Like'],\n",
              "      dtype=object)"
            ]
          },
          "metadata": {},
          "execution_count": 28
        }
      ]
    },
    {
      "cell_type": "markdown",
      "source": [
        "like should not be here, It will affect our analysis"
      ],
      "metadata": {
        "id": "43rXAGRMrQaw"
      }
    },
    {
      "cell_type": "code",
      "source": [
        "reviews_df.groupby(['Rating']).Reviewer.nunique()"
      ],
      "metadata": {
        "colab": {
          "base_uri": "https://localhost:8080/"
        },
        "id": "9Y5c6eUVrg8v",
        "outputId": "5f3c3578-287d-42c6-9208-771e21a88f49"
      },
      "execution_count": 29,
      "outputs": [
        {
          "output_type": "execute_result",
          "data": {
            "text/plain": [
              "Rating\n",
              "1       1642\n",
              "1.5        9\n",
              "2        648\n",
              "2.5       19\n",
              "3       1019\n",
              "3.5       47\n",
              "4       1865\n",
              "4.5       69\n",
              "5       3407\n",
              "Like       1\n",
              "Name: Reviewer, dtype: int64"
            ]
          },
          "metadata": {},
          "execution_count": 29
        }
      ]
    },
    {
      "cell_type": "markdown",
      "source": [
        "The Like have only one review is an outlier, so we can fille it simply with max Rating"
      ],
      "metadata": {
        "id": "uXtXRisgr3vM"
      }
    },
    {
      "cell_type": "code",
      "source": [
        "# correcting and changing the datatype\n",
        "reviews_df['Rating'] = reviews_df['Rating'].replace('Like','5')\n",
        "reviews_df['Rating'] = reviews_df['Rating'].astype('float')"
      ],
      "metadata": {
        "id": "yBcaJgburXMl"
      },
      "execution_count": 30,
      "outputs": []
    },
    {
      "cell_type": "markdown",
      "source": [
        "## 3. ***Data Wrangling***"
      ],
      "metadata": {
        "id": "dauF4eBmngu3"
      }
    },
    {
      "cell_type": "markdown",
      "source": [
        "### Data Wrangling Code"
      ],
      "metadata": {
        "id": "bKJF3rekwFvQ"
      }
    },
    {
      "cell_type": "markdown",
      "source": [
        "**Zomato Restaurant names and Metadata**\n",
        "\n",
        "First, the restaurants dataset has columns such as Links, Cuisine, and Timings which aren't directly interpretable. The location of the restaurant can be extracted by the Links column. Cuisines can be clubbed and categorized into a few categories and a total number of cuisines served by a particular restaurant. Timings can be categorized into three categories to make analysis a little simpler."
      ],
      "metadata": {
        "id": "3AKCCVBvxL3u"
      }
    },
    {
      "cell_type": "code",
      "source": [
        "# Write your code to make your dataset analysis ready.\n",
        "rest_df['Links']"
      ],
      "metadata": {
        "id": "wk-9a2fpoLcV",
        "colab": {
          "base_uri": "https://localhost:8080/"
        },
        "outputId": "68316f68-fcc0-4c38-fe1a-6c38ff2a5cf0"
      },
      "execution_count": 31,
      "outputs": [
        {
          "output_type": "execute_result",
          "data": {
            "text/plain": [
              "0      https://www.zomato.com/hyderabad/beyond-flavou...\n",
              "1      https://www.zomato.com/hyderabad/paradise-gach...\n",
              "2      https://www.zomato.com/hyderabad/flechazo-gach...\n",
              "3      https://www.zomato.com/hyderabad/shah-ghouse-h...\n",
              "4      https://www.zomato.com/hyderabad/over-the-moon...\n",
              "                             ...                        \n",
              "100    https://www.zomato.com/hyderabad/indiblaze-gac...\n",
              "101    https://www.zomato.com/hyderabad/sweet-basket-...\n",
              "102    https://www.zomato.com/hyderabad/angaara-count...\n",
              "103    https://www.zomato.com/hyderabad/wich-please-1...\n",
              "104    https://www.zomato.com/hyderabad/republic-of-n...\n",
              "Name: Links, Length: 105, dtype: object"
            ]
          },
          "metadata": {},
          "execution_count": 31
        }
      ]
    },
    {
      "cell_type": "code",
      "source": [
        "#function to extract location of the restaurant\n",
        "def location(link):\n",
        "  link_elements = link.split(\"/\")\n",
        "  return link_elements[3]\n",
        "\n",
        "#create a location feature\n",
        "rest_df['Location'] = rest_df['Links'].apply(location)"
      ],
      "metadata": {
        "id": "z919xnufxqlH"
      },
      "execution_count": 32,
      "outputs": []
    },
    {
      "cell_type": "code",
      "source": [
        "# looks like the dataset consists of the restaurants in Hyderabad\n",
        "rest_df.groupby(['Location']).Name.nunique()"
      ],
      "metadata": {
        "colab": {
          "base_uri": "https://localhost:8080/"
        },
        "id": "FnCCw3Y7xuau",
        "outputId": "e9825f33-49a1-43ef-82f2-f0739492b6cf"
      },
      "execution_count": 33,
      "outputs": [
        {
          "output_type": "execute_result",
          "data": {
            "text/plain": [
              "Location\n",
              "hyderabad             104\n",
              "thetiltbarrepublic      1\n",
              "Name: Name, dtype: int64"
            ]
          },
          "metadata": {},
          "execution_count": 33
        }
      ]
    },
    {
      "cell_type": "markdown",
      "source": [
        "From this we come to know all Location of Restaurent is **Hyderbad**, so this column wont be much useful for analysis"
      ],
      "metadata": {
        "id": "BEgcFQXRxiS3"
      }
    },
    {
      "cell_type": "code",
      "source": [
        "#dropping unnecessary columns\n",
        "rest_df.drop(['Links','Location'],axis=1,inplace=True)"
      ],
      "metadata": {
        "id": "H3y7GnMbxh-u"
      },
      "execution_count": 34,
      "outputs": []
    },
    {
      "cell_type": "code",
      "source": [
        "reviews_df.Time"
      ],
      "metadata": {
        "colab": {
          "base_uri": "https://localhost:8080/"
        },
        "id": "bzohIPrbyW7_",
        "outputId": "8408e5d0-ce90-4697-e435-d27d130b0fb6"
      },
      "execution_count": 35,
      "outputs": [
        {
          "output_type": "execute_result",
          "data": {
            "text/plain": [
              "0       5/25/2019 15:54\n",
              "1       5/25/2019 14:20\n",
              "2       5/24/2019 22:54\n",
              "3       5/24/2019 22:11\n",
              "4       5/24/2019 21:37\n",
              "             ...       \n",
              "9995      6/5/2016 0:08\n",
              "9996     6/4/2016 22:01\n",
              "9997     6/3/2016 10:37\n",
              "9998    5/31/2016 17:22\n",
              "9999    5/31/2016 16:41\n",
              "Name: Time, Length: 9955, dtype: object"
            ]
          },
          "metadata": {},
          "execution_count": 35
        }
      ]
    },
    {
      "cell_type": "markdown",
      "source": [
        "The time of Reviewe is not much important for sentiment analysis so we can remove it"
      ],
      "metadata": {
        "id": "4ro8jkML0CZe"
      }
    },
    {
      "cell_type": "code",
      "source": [
        "#let's drop time as it would not be required\n",
        "reviews_df.drop(['Time'],axis=1,inplace=True)"
      ],
      "metadata": {
        "id": "CvVmYxfjyTsl"
      },
      "execution_count": 36,
      "outputs": []
    },
    {
      "cell_type": "markdown",
      "source": [
        "### **Cuisines**\n",
        "\n",
        "Here, it can be seen that the various cuisines served by every restaurant are in the form of strings and it's important to categorize and create dummy variables for all the cuisines served. The procedure followed in doing this is as follows:\n",
        "\n",
        "First, strings are split to get the cuisines in the list datatype.\n",
        "\n",
        "A frequency dictionary is created to understand the unique cuisines and the frequency in which the cuisine occurs.\n",
        "\n",
        "An attempt is made to the club and categoriz various misspelled cuisines and get a minimized number of unique cuisines.\n",
        "\n",
        "Next, we need these cuisines in the one-hot encoded form. To get these a data frame is created with the unique cuisines as columns and if a particular restaurant has this cuisine available we get a positive."
      ],
      "metadata": {
        "id": "Xd-DLheo0wa2"
      }
    },
    {
      "cell_type": "code",
      "source": [
        "#splitting to create list instead of strings\n",
        "rest_df['Cuisines'] = rest_df['Cuisines'].apply(lambda x : x.split(','))"
      ],
      "metadata": {
        "id": "6q44e5Dj43ed"
      },
      "execution_count": 37,
      "outputs": []
    },
    {
      "cell_type": "code",
      "source": [
        "#creating a list of all cuisine lists for different restaurants\n",
        "cuisine_list = []\n",
        "for idx in rest_df.index:\n",
        "  cuisine_list.append(rest_df['Cuisines'][idx])"
      ],
      "metadata": {
        "id": "Lp_B9x5B48VX"
      },
      "execution_count": 38,
      "outputs": []
    },
    {
      "cell_type": "code",
      "source": [
        "#creating a flat list\n",
        "cuisine_list = [item for sublist in cuisine_list for item in sublist]"
      ],
      "metadata": {
        "id": "4mUA1c20_oym"
      },
      "execution_count": 39,
      "outputs": []
    },
    {
      "cell_type": "code",
      "source": [
        "#frequency dict\n",
        "frequency_dict = {}\n",
        "for elem in cuisine_list:\n",
        "  if elem not in frequency_dict.keys():\n",
        "    frequency_dict[elem] = cuisine_list.count(elem)\n",
        "  else:\n",
        "    pass"
      ],
      "metadata": {
        "id": "df6zb38l_F7L"
      },
      "execution_count": 40,
      "outputs": []
    },
    {
      "cell_type": "code",
      "source": [
        "#frequency dictionary\n",
        "frequency_dict"
      ],
      "metadata": {
        "id": "_LMMh3CW_sEO",
        "outputId": "d47f2ad3-7fe1-45ee-fae0-004e1073eb1b",
        "colab": {
          "base_uri": "https://localhost:8080/"
        }
      },
      "execution_count": 41,
      "outputs": [
        {
          "output_type": "execute_result",
          "data": {
            "text/plain": [
              "{'Chinese': 7,\n",
              " ' Continental': 17,\n",
              " ' Kebab': 5,\n",
              " ' European': 2,\n",
              " ' South Indian': 7,\n",
              " ' North Indian': 28,\n",
              " 'Biryani': 4,\n",
              " ' Chinese': 36,\n",
              " 'Asian': 5,\n",
              " ' Mediterranean': 4,\n",
              " ' Desserts': 11,\n",
              " ' Seafood': 3,\n",
              " ' Beverages': 5,\n",
              " 'Seafood': 1,\n",
              " ' Goan': 1,\n",
              " ' Asian': 10,\n",
              " 'Healthy Food': 1,\n",
              " 'Lebanese': 1,\n",
              " 'American': 4,\n",
              " 'Ice Cream': 2,\n",
              " 'Street Food': 2,\n",
              " ' Fast Food': 10,\n",
              " 'Mediterranean': 1,\n",
              " ' BBQ': 1,\n",
              " 'Continental': 4,\n",
              " ' American': 2,\n",
              " 'North Indian': 33,\n",
              " ' Italian': 12,\n",
              " ' Finger Food': 1,\n",
              " 'European': 2,\n",
              " 'Burger': 2,\n",
              " ' Biryani': 12,\n",
              " ' Japanese': 2,\n",
              " ' Salad': 5,\n",
              " ' Sushi': 4,\n",
              " 'Mexican': 1,\n",
              " 'Mughlai': 1,\n",
              " 'Fast Food': 5,\n",
              " 'Andhra': 3,\n",
              " 'Bakery': 6,\n",
              " ' Mughlai': 5,\n",
              " ' Juices': 1,\n",
              " 'Arabian': 1,\n",
              " 'Italian': 2,\n",
              " ' Andhra': 3,\n",
              " ' Hyderabadi': 3,\n",
              " 'Cafe': 5,\n",
              " ' Spanish': 1,\n",
              " ' Wraps': 1,\n",
              " 'Finger Food': 1,\n",
              " ' Thai': 2,\n",
              " ' Indonesian': 1,\n",
              " 'South Indian': 2,\n",
              " ' Bakery': 1,\n",
              " 'Modern Indian': 1,\n",
              " 'Desserts': 2,\n",
              " 'Kebab': 1,\n",
              " ' Momos': 3,\n",
              " 'BBQ': 1,\n",
              " ' Modern Indian': 1,\n",
              " ' Burger': 3,\n",
              " 'Momos': 1,\n",
              " ' Pizza': 1,\n",
              " ' Arabian': 1,\n",
              " 'North Eastern': 1,\n",
              " ' Cafe': 1,\n",
              " 'Hyderabadi': 1,\n",
              " ' Mithai': 1,\n",
              " 'Thai': 1,\n",
              " ' Malaysian': 1}"
            ]
          },
          "metadata": {},
          "execution_count": 41
        }
      ]
    },
    {
      "cell_type": "markdown",
      "source": [
        "It is observable that many of the cuisines are misspelled in terms of an extra space added at the beginning of the string. For example, there are two categories for North Indian food - 'North Indian' and ' North Indian'.\n",
        "\n",
        "Another point to note is there are various unnecessary categories made. For example, there are 'Chinese' and ' Momos' both in the dataset as different cuisines. Let's try to club and correct them."
      ],
      "metadata": {
        "id": "f9OrriU56dd9"
      }
    },
    {
      "cell_type": "code",
      "source": [
        "#minimising the number of cuisines by sorting and categorizing them out\n",
        "cuisine_dict = {'Chinese':['Chinese',' Chinese','Momos',' Momos'],'North Indian':['North Indian',' North Indian',' BBQ','BBQ',' Biryani','Biryani','Kebab',' Kebab'],'Continental':['Continental',' Continental',' American','American',' BBQ','BBQ','Burger',' Burger','Finger Food',' Finger Food', ' Juices',' Pizza',' Salad',' Wraps'],\n",
        "                'Andhra':['Andhra',' Andhra'],'Arabian':['Arabian',' Arabian'],'Asian': ['Asian',' Asian'],'Bakery':['Bakery',' Bakery'],\n",
        "                'Beverages':['Beverages',' Beverages'],'Cafe':['Cafe',' Cafe'],'Desserts':['Desserts',' Desserts',' Mithai','Ice Cream'],\n",
        "                'European':['European',' European',' Spanish'],'Fast Food':['Fast Food',' Fast Food','Burger',' Burger'],'Goan':[' Goan',' Goan'],\n",
        "                'Hyderabadi':['Hyderabadi',' Hyderabadi',' Biryani','Biryani'],'Indonesian':['Indonesian',' Indonesian'],'Italian':['Italian',' Italian',' Pizza'],\n",
        "                'Japanese':['Japanese',' Japanese',' Sushi'],'Malaysian':['Malaysian',' Malaysian'],'Mediterranean':['Mediterranean',' Mediterranean'],\n",
        "                'Modern Indian':['Modern Indian',' Modern Indian',' Salad'],'Mughlai':['Mughlai',' Mughlai',' BBQ','BBQ','Kebab',' Kebab'],\n",
        "                'Seafood':['Seafood',' Seafood'],'South Indian':['South Indian',' South Indian'],\n",
        "                'Thai':['Thai',' Thai'],'Healthy Food':['Healthy Food'],'Lebanese':['Lebanese'],'Mexican':['Mexican'],'North Eastern':['North Eastern'],\n",
        "                'Street Food':['Street Food']}"
      ],
      "metadata": {
        "id": "CsLZFa9E6j0B"
      },
      "execution_count": 42,
      "outputs": []
    },
    {
      "cell_type": "code",
      "source": [
        "# just in case \n",
        "names_df = rest_df.copy()"
      ],
      "metadata": {
        "id": "NK0WXzb76xI5"
      },
      "execution_count": 43,
      "outputs": []
    },
    {
      "cell_type": "code",
      "source": [
        "#the function returns a list of error free and mapped cuisines according to the dictionary created\n",
        "def cuisine_corrector(cuisine):\n",
        "  list1 = []\n",
        "  # for every cuisine in the list of a particular row\n",
        "  for elem in cuisine:\n",
        "    # and for every key value in the dict\n",
        "    for key,value in cuisine_dict.items():\n",
        "      # if cuisine is correct and matches with one of the unique keys we append to the list and break\n",
        "      if elem == key:\n",
        "        list1.append(key)\n",
        "        break\n",
        "      # next if the other elem doesnot match if search and value and append the key for that value\n",
        "      if elem in value:\n",
        "        list1.append(key)\n",
        "      \n",
        "  return list(set(list1)) # returns a unique cuisines list"
      ],
      "metadata": {
        "id": "8W7-M_XZ6z05"
      },
      "execution_count": 44,
      "outputs": []
    },
    {
      "cell_type": "code",
      "source": [
        "#correcting and getting the desired lists as row values for cuisines column\n",
        "names_df['Cuisines'] = names_df['Cuisines'].apply(cuisine_corrector)"
      ],
      "metadata": {
        "id": "9fsmAxsK61g8"
      },
      "execution_count": 45,
      "outputs": []
    },
    {
      "cell_type": "code",
      "source": [
        "#check\n",
        "names_df.head(3)"
      ],
      "metadata": {
        "colab": {
          "base_uri": "https://localhost:8080/",
          "height": 144
        },
        "id": "XJa2GQc163LL",
        "outputId": "e627ddc7-0f5f-4e9f-eb9f-276920f26638"
      },
      "execution_count": 46,
      "outputs": [
        {
          "output_type": "execute_result",
          "data": {
            "text/plain": [
              "              Name  Cost                                           Cuisines  \\\n",
              "0  Beyond Flavours   800  [Mughlai, Chinese, South Indian, European, Nor...   \n",
              "1         Paradise   800                [North Indian, Chinese, Hyderabadi]   \n",
              "2         Flechazo  1300     [North Indian, Mediterranean, Desserts, Asian]   \n",
              "\n",
              "                                         Timings  \n",
              "0  12noon to 3:30pm, 6:30pm to 11:30pm (Mon-Sun)  \n",
              "1                                 11 AM to 11 PM  \n",
              "2          11:30 AM to 4:30 PM, 6:30 PM to 11 PM  "
            ],
            "text/html": [
              "\n",
              "  <div id=\"df-d93d73e3-dbbd-4064-bb91-68af81a009d3\">\n",
              "    <div class=\"colab-df-container\">\n",
              "      <div>\n",
              "<style scoped>\n",
              "    .dataframe tbody tr th:only-of-type {\n",
              "        vertical-align: middle;\n",
              "    }\n",
              "\n",
              "    .dataframe tbody tr th {\n",
              "        vertical-align: top;\n",
              "    }\n",
              "\n",
              "    .dataframe thead th {\n",
              "        text-align: right;\n",
              "    }\n",
              "</style>\n",
              "<table border=\"1\" class=\"dataframe\">\n",
              "  <thead>\n",
              "    <tr style=\"text-align: right;\">\n",
              "      <th></th>\n",
              "      <th>Name</th>\n",
              "      <th>Cost</th>\n",
              "      <th>Cuisines</th>\n",
              "      <th>Timings</th>\n",
              "    </tr>\n",
              "  </thead>\n",
              "  <tbody>\n",
              "    <tr>\n",
              "      <th>0</th>\n",
              "      <td>Beyond Flavours</td>\n",
              "      <td>800</td>\n",
              "      <td>[Mughlai, Chinese, South Indian, European, Nor...</td>\n",
              "      <td>12noon to 3:30pm, 6:30pm to 11:30pm (Mon-Sun)</td>\n",
              "    </tr>\n",
              "    <tr>\n",
              "      <th>1</th>\n",
              "      <td>Paradise</td>\n",
              "      <td>800</td>\n",
              "      <td>[North Indian, Chinese, Hyderabadi]</td>\n",
              "      <td>11 AM to 11 PM</td>\n",
              "    </tr>\n",
              "    <tr>\n",
              "      <th>2</th>\n",
              "      <td>Flechazo</td>\n",
              "      <td>1300</td>\n",
              "      <td>[North Indian, Mediterranean, Desserts, Asian]</td>\n",
              "      <td>11:30 AM to 4:30 PM, 6:30 PM to 11 PM</td>\n",
              "    </tr>\n",
              "  </tbody>\n",
              "</table>\n",
              "</div>\n",
              "      <button class=\"colab-df-convert\" onclick=\"convertToInteractive('df-d93d73e3-dbbd-4064-bb91-68af81a009d3')\"\n",
              "              title=\"Convert this dataframe to an interactive table.\"\n",
              "              style=\"display:none;\">\n",
              "        \n",
              "  <svg xmlns=\"http://www.w3.org/2000/svg\" height=\"24px\"viewBox=\"0 0 24 24\"\n",
              "       width=\"24px\">\n",
              "    <path d=\"M0 0h24v24H0V0z\" fill=\"none\"/>\n",
              "    <path d=\"M18.56 5.44l.94 2.06.94-2.06 2.06-.94-2.06-.94-.94-2.06-.94 2.06-2.06.94zm-11 1L8.5 8.5l.94-2.06 2.06-.94-2.06-.94L8.5 2.5l-.94 2.06-2.06.94zm10 10l.94 2.06.94-2.06 2.06-.94-2.06-.94-.94-2.06-.94 2.06-2.06.94z\"/><path d=\"M17.41 7.96l-1.37-1.37c-.4-.4-.92-.59-1.43-.59-.52 0-1.04.2-1.43.59L10.3 9.45l-7.72 7.72c-.78.78-.78 2.05 0 2.83L4 21.41c.39.39.9.59 1.41.59.51 0 1.02-.2 1.41-.59l7.78-7.78 2.81-2.81c.8-.78.8-2.07 0-2.86zM5.41 20L4 18.59l7.72-7.72 1.47 1.35L5.41 20z\"/>\n",
              "  </svg>\n",
              "      </button>\n",
              "      \n",
              "  <style>\n",
              "    .colab-df-container {\n",
              "      display:flex;\n",
              "      flex-wrap:wrap;\n",
              "      gap: 12px;\n",
              "    }\n",
              "\n",
              "    .colab-df-convert {\n",
              "      background-color: #E8F0FE;\n",
              "      border: none;\n",
              "      border-radius: 50%;\n",
              "      cursor: pointer;\n",
              "      display: none;\n",
              "      fill: #1967D2;\n",
              "      height: 32px;\n",
              "      padding: 0 0 0 0;\n",
              "      width: 32px;\n",
              "    }\n",
              "\n",
              "    .colab-df-convert:hover {\n",
              "      background-color: #E2EBFA;\n",
              "      box-shadow: 0px 1px 2px rgba(60, 64, 67, 0.3), 0px 1px 3px 1px rgba(60, 64, 67, 0.15);\n",
              "      fill: #174EA6;\n",
              "    }\n",
              "\n",
              "    [theme=dark] .colab-df-convert {\n",
              "      background-color: #3B4455;\n",
              "      fill: #D2E3FC;\n",
              "    }\n",
              "\n",
              "    [theme=dark] .colab-df-convert:hover {\n",
              "      background-color: #434B5C;\n",
              "      box-shadow: 0px 1px 3px 1px rgba(0, 0, 0, 0.15);\n",
              "      filter: drop-shadow(0px 1px 2px rgba(0, 0, 0, 0.3));\n",
              "      fill: #FFFFFF;\n",
              "    }\n",
              "  </style>\n",
              "\n",
              "      <script>\n",
              "        const buttonEl =\n",
              "          document.querySelector('#df-d93d73e3-dbbd-4064-bb91-68af81a009d3 button.colab-df-convert');\n",
              "        buttonEl.style.display =\n",
              "          google.colab.kernel.accessAllowed ? 'block' : 'none';\n",
              "\n",
              "        async function convertToInteractive(key) {\n",
              "          const element = document.querySelector('#df-d93d73e3-dbbd-4064-bb91-68af81a009d3');\n",
              "          const dataTable =\n",
              "            await google.colab.kernel.invokeFunction('convertToInteractive',\n",
              "                                                     [key], {});\n",
              "          if (!dataTable) return;\n",
              "\n",
              "          const docLinkHtml = 'Like what you see? Visit the ' +\n",
              "            '<a target=\"_blank\" href=https://colab.research.google.com/notebooks/data_table.ipynb>data table notebook</a>'\n",
              "            + ' to learn more about interactive tables.';\n",
              "          element.innerHTML = '';\n",
              "          dataTable['output_type'] = 'display_data';\n",
              "          await google.colab.output.renderOutput(dataTable, element);\n",
              "          const docLink = document.createElement('div');\n",
              "          docLink.innerHTML = docLinkHtml;\n",
              "          element.appendChild(docLink);\n",
              "        }\n",
              "      </script>\n",
              "    </div>\n",
              "  </div>\n",
              "  "
            ]
          },
          "metadata": {},
          "execution_count": 46
        }
      ]
    },
    {
      "cell_type": "code",
      "source": [
        "# concatenate new columns with the dataset\n",
        "names_df = pd.concat([names_df,pd.DataFrame(columns=list(cuisine_dict.keys()))])"
      ],
      "metadata": {
        "id": "2kGAMCGE7Has"
      },
      "execution_count": 47,
      "outputs": []
    },
    {
      "cell_type": "code",
      "source": [
        "# iterating for every row in the dataframe\n",
        "for i, row in names_df.iterrows():\n",
        "  # and for every row we iterate over the new columns only\n",
        "  for column in list(names_df.columns):\n",
        "      if column not in ['Name','Cost','Cuisines','Timings']:\n",
        "        # and check if the column is in the list of cuisines available for that row\n",
        "        if column in row['Cuisines']:\n",
        "          #then assign it as 1 else 0\n",
        "          names_df.loc[i,column] = 1\n",
        "        else:\n",
        "          names_df.loc[i,column] = 0"
      ],
      "metadata": {
        "id": "jT7dwH467Knq"
      },
      "execution_count": 48,
      "outputs": []
    },
    {
      "cell_type": "code",
      "source": [
        "#let's check\n",
        "names_df.head(2)"
      ],
      "metadata": {
        "colab": {
          "base_uri": "https://localhost:8080/",
          "height": 220
        },
        "id": "nZcS1E7d7M0S",
        "outputId": "93f4f413-fd17-4231-ecdf-fd01b4bf571e"
      },
      "execution_count": 49,
      "outputs": [
        {
          "output_type": "execute_result",
          "data": {
            "text/plain": [
              "              Name   Cost                                           Cuisines  \\\n",
              "0  Beyond Flavours  800.0  [Mughlai, Chinese, South Indian, European, Nor...   \n",
              "1         Paradise  800.0                [North Indian, Chinese, Hyderabadi]   \n",
              "\n",
              "                                         Timings Chinese North Indian  \\\n",
              "0  12noon to 3:30pm, 6:30pm to 11:30pm (Mon-Sun)       1            1   \n",
              "1                                 11 AM to 11 PM       1            1   \n",
              "\n",
              "  Continental Andhra Arabian Asian  ... Modern Indian Mughlai Seafood  \\\n",
              "0           1      0       0     0  ...             0       1       0   \n",
              "1           0      0       0     0  ...             0       0       0   \n",
              "\n",
              "  South Indian Thai Healthy Food Lebanese Mexican North Eastern Street Food  \n",
              "0            1    0            0        0       0             0           0  \n",
              "1            0    0            0        0       0             0           0  \n",
              "\n",
              "[2 rows x 33 columns]"
            ],
            "text/html": [
              "\n",
              "  <div id=\"df-80971331-a552-4040-86f5-b67a7bad2e53\">\n",
              "    <div class=\"colab-df-container\">\n",
              "      <div>\n",
              "<style scoped>\n",
              "    .dataframe tbody tr th:only-of-type {\n",
              "        vertical-align: middle;\n",
              "    }\n",
              "\n",
              "    .dataframe tbody tr th {\n",
              "        vertical-align: top;\n",
              "    }\n",
              "\n",
              "    .dataframe thead th {\n",
              "        text-align: right;\n",
              "    }\n",
              "</style>\n",
              "<table border=\"1\" class=\"dataframe\">\n",
              "  <thead>\n",
              "    <tr style=\"text-align: right;\">\n",
              "      <th></th>\n",
              "      <th>Name</th>\n",
              "      <th>Cost</th>\n",
              "      <th>Cuisines</th>\n",
              "      <th>Timings</th>\n",
              "      <th>Chinese</th>\n",
              "      <th>North Indian</th>\n",
              "      <th>Continental</th>\n",
              "      <th>Andhra</th>\n",
              "      <th>Arabian</th>\n",
              "      <th>Asian</th>\n",
              "      <th>...</th>\n",
              "      <th>Modern Indian</th>\n",
              "      <th>Mughlai</th>\n",
              "      <th>Seafood</th>\n",
              "      <th>South Indian</th>\n",
              "      <th>Thai</th>\n",
              "      <th>Healthy Food</th>\n",
              "      <th>Lebanese</th>\n",
              "      <th>Mexican</th>\n",
              "      <th>North Eastern</th>\n",
              "      <th>Street Food</th>\n",
              "    </tr>\n",
              "  </thead>\n",
              "  <tbody>\n",
              "    <tr>\n",
              "      <th>0</th>\n",
              "      <td>Beyond Flavours</td>\n",
              "      <td>800.0</td>\n",
              "      <td>[Mughlai, Chinese, South Indian, European, Nor...</td>\n",
              "      <td>12noon to 3:30pm, 6:30pm to 11:30pm (Mon-Sun)</td>\n",
              "      <td>1</td>\n",
              "      <td>1</td>\n",
              "      <td>1</td>\n",
              "      <td>0</td>\n",
              "      <td>0</td>\n",
              "      <td>0</td>\n",
              "      <td>...</td>\n",
              "      <td>0</td>\n",
              "      <td>1</td>\n",
              "      <td>0</td>\n",
              "      <td>1</td>\n",
              "      <td>0</td>\n",
              "      <td>0</td>\n",
              "      <td>0</td>\n",
              "      <td>0</td>\n",
              "      <td>0</td>\n",
              "      <td>0</td>\n",
              "    </tr>\n",
              "    <tr>\n",
              "      <th>1</th>\n",
              "      <td>Paradise</td>\n",
              "      <td>800.0</td>\n",
              "      <td>[North Indian, Chinese, Hyderabadi]</td>\n",
              "      <td>11 AM to 11 PM</td>\n",
              "      <td>1</td>\n",
              "      <td>1</td>\n",
              "      <td>0</td>\n",
              "      <td>0</td>\n",
              "      <td>0</td>\n",
              "      <td>0</td>\n",
              "      <td>...</td>\n",
              "      <td>0</td>\n",
              "      <td>0</td>\n",
              "      <td>0</td>\n",
              "      <td>0</td>\n",
              "      <td>0</td>\n",
              "      <td>0</td>\n",
              "      <td>0</td>\n",
              "      <td>0</td>\n",
              "      <td>0</td>\n",
              "      <td>0</td>\n",
              "    </tr>\n",
              "  </tbody>\n",
              "</table>\n",
              "<p>2 rows × 33 columns</p>\n",
              "</div>\n",
              "      <button class=\"colab-df-convert\" onclick=\"convertToInteractive('df-80971331-a552-4040-86f5-b67a7bad2e53')\"\n",
              "              title=\"Convert this dataframe to an interactive table.\"\n",
              "              style=\"display:none;\">\n",
              "        \n",
              "  <svg xmlns=\"http://www.w3.org/2000/svg\" height=\"24px\"viewBox=\"0 0 24 24\"\n",
              "       width=\"24px\">\n",
              "    <path d=\"M0 0h24v24H0V0z\" fill=\"none\"/>\n",
              "    <path d=\"M18.56 5.44l.94 2.06.94-2.06 2.06-.94-2.06-.94-.94-2.06-.94 2.06-2.06.94zm-11 1L8.5 8.5l.94-2.06 2.06-.94-2.06-.94L8.5 2.5l-.94 2.06-2.06.94zm10 10l.94 2.06.94-2.06 2.06-.94-2.06-.94-.94-2.06-.94 2.06-2.06.94z\"/><path d=\"M17.41 7.96l-1.37-1.37c-.4-.4-.92-.59-1.43-.59-.52 0-1.04.2-1.43.59L10.3 9.45l-7.72 7.72c-.78.78-.78 2.05 0 2.83L4 21.41c.39.39.9.59 1.41.59.51 0 1.02-.2 1.41-.59l7.78-7.78 2.81-2.81c.8-.78.8-2.07 0-2.86zM5.41 20L4 18.59l7.72-7.72 1.47 1.35L5.41 20z\"/>\n",
              "  </svg>\n",
              "      </button>\n",
              "      \n",
              "  <style>\n",
              "    .colab-df-container {\n",
              "      display:flex;\n",
              "      flex-wrap:wrap;\n",
              "      gap: 12px;\n",
              "    }\n",
              "\n",
              "    .colab-df-convert {\n",
              "      background-color: #E8F0FE;\n",
              "      border: none;\n",
              "      border-radius: 50%;\n",
              "      cursor: pointer;\n",
              "      display: none;\n",
              "      fill: #1967D2;\n",
              "      height: 32px;\n",
              "      padding: 0 0 0 0;\n",
              "      width: 32px;\n",
              "    }\n",
              "\n",
              "    .colab-df-convert:hover {\n",
              "      background-color: #E2EBFA;\n",
              "      box-shadow: 0px 1px 2px rgba(60, 64, 67, 0.3), 0px 1px 3px 1px rgba(60, 64, 67, 0.15);\n",
              "      fill: #174EA6;\n",
              "    }\n",
              "\n",
              "    [theme=dark] .colab-df-convert {\n",
              "      background-color: #3B4455;\n",
              "      fill: #D2E3FC;\n",
              "    }\n",
              "\n",
              "    [theme=dark] .colab-df-convert:hover {\n",
              "      background-color: #434B5C;\n",
              "      box-shadow: 0px 1px 3px 1px rgba(0, 0, 0, 0.15);\n",
              "      filter: drop-shadow(0px 1px 2px rgba(0, 0, 0, 0.3));\n",
              "      fill: #FFFFFF;\n",
              "    }\n",
              "  </style>\n",
              "\n",
              "      <script>\n",
              "        const buttonEl =\n",
              "          document.querySelector('#df-80971331-a552-4040-86f5-b67a7bad2e53 button.colab-df-convert');\n",
              "        buttonEl.style.display =\n",
              "          google.colab.kernel.accessAllowed ? 'block' : 'none';\n",
              "\n",
              "        async function convertToInteractive(key) {\n",
              "          const element = document.querySelector('#df-80971331-a552-4040-86f5-b67a7bad2e53');\n",
              "          const dataTable =\n",
              "            await google.colab.kernel.invokeFunction('convertToInteractive',\n",
              "                                                     [key], {});\n",
              "          if (!dataTable) return;\n",
              "\n",
              "          const docLinkHtml = 'Like what you see? Visit the ' +\n",
              "            '<a target=\"_blank\" href=https://colab.research.google.com/notebooks/data_table.ipynb>data table notebook</a>'\n",
              "            + ' to learn more about interactive tables.';\n",
              "          element.innerHTML = '';\n",
              "          dataTable['output_type'] = 'display_data';\n",
              "          await google.colab.output.renderOutput(dataTable, element);\n",
              "          const docLink = document.createElement('div');\n",
              "          docLink.innerHTML = docLinkHtml;\n",
              "          element.appendChild(docLink);\n",
              "        }\n",
              "      </script>\n",
              "    </div>\n",
              "  </div>\n",
              "  "
            ]
          },
          "metadata": {},
          "execution_count": 49
        }
      ]
    },
    {
      "cell_type": "code",
      "source": [
        "# value for 1st restaurant and verifying \n",
        "names_df.loc[0,'Cuisines']"
      ],
      "metadata": {
        "colab": {
          "base_uri": "https://localhost:8080/"
        },
        "id": "6lDh7cu27O8x",
        "outputId": "396c24d8-1e92-49a2-e0e9-e5fea5350a95"
      },
      "execution_count": 50,
      "outputs": [
        {
          "output_type": "execute_result",
          "data": {
            "text/plain": [
              "['Mughlai',\n",
              " 'Chinese',\n",
              " 'South Indian',\n",
              " 'European',\n",
              " 'North Indian',\n",
              " 'Continental']"
            ]
          },
          "metadata": {},
          "execution_count": 50
        }
      ]
    },
    {
      "cell_type": "code",
      "source": [
        "#creating a new column for the total number of cusines served by restaurants\n",
        "names_df['Total Cuisines'] = names_df['Cuisines'].apply(lambda x : len(x))"
      ],
      "metadata": {
        "id": "6MezLCfb7UCB"
      },
      "execution_count": 51,
      "outputs": []
    },
    {
      "cell_type": "code",
      "source": [
        "#check\n",
        "names_df.head(1)"
      ],
      "metadata": {
        "colab": {
          "base_uri": "https://localhost:8080/",
          "height": 189
        },
        "id": "Jf3Mlx4i7prj",
        "outputId": "d2fe7bac-b9a5-4c30-c6ff-aef247bf8d62"
      },
      "execution_count": 52,
      "outputs": [
        {
          "output_type": "execute_result",
          "data": {
            "text/plain": [
              "              Name   Cost                                           Cuisines  \\\n",
              "0  Beyond Flavours  800.0  [Mughlai, Chinese, South Indian, European, Nor...   \n",
              "\n",
              "                                         Timings Chinese North Indian  \\\n",
              "0  12noon to 3:30pm, 6:30pm to 11:30pm (Mon-Sun)       1            1   \n",
              "\n",
              "  Continental Andhra Arabian Asian  ... Mughlai Seafood South Indian Thai  \\\n",
              "0           1      0       0     0  ...       1       0            1    0   \n",
              "\n",
              "  Healthy Food Lebanese Mexican North Eastern Street Food Total Cuisines  \n",
              "0            0        0       0             0           0              6  \n",
              "\n",
              "[1 rows x 34 columns]"
            ],
            "text/html": [
              "\n",
              "  <div id=\"df-fb1c7504-e98f-4340-a853-3dfcc1a4e235\">\n",
              "    <div class=\"colab-df-container\">\n",
              "      <div>\n",
              "<style scoped>\n",
              "    .dataframe tbody tr th:only-of-type {\n",
              "        vertical-align: middle;\n",
              "    }\n",
              "\n",
              "    .dataframe tbody tr th {\n",
              "        vertical-align: top;\n",
              "    }\n",
              "\n",
              "    .dataframe thead th {\n",
              "        text-align: right;\n",
              "    }\n",
              "</style>\n",
              "<table border=\"1\" class=\"dataframe\">\n",
              "  <thead>\n",
              "    <tr style=\"text-align: right;\">\n",
              "      <th></th>\n",
              "      <th>Name</th>\n",
              "      <th>Cost</th>\n",
              "      <th>Cuisines</th>\n",
              "      <th>Timings</th>\n",
              "      <th>Chinese</th>\n",
              "      <th>North Indian</th>\n",
              "      <th>Continental</th>\n",
              "      <th>Andhra</th>\n",
              "      <th>Arabian</th>\n",
              "      <th>Asian</th>\n",
              "      <th>...</th>\n",
              "      <th>Mughlai</th>\n",
              "      <th>Seafood</th>\n",
              "      <th>South Indian</th>\n",
              "      <th>Thai</th>\n",
              "      <th>Healthy Food</th>\n",
              "      <th>Lebanese</th>\n",
              "      <th>Mexican</th>\n",
              "      <th>North Eastern</th>\n",
              "      <th>Street Food</th>\n",
              "      <th>Total Cuisines</th>\n",
              "    </tr>\n",
              "  </thead>\n",
              "  <tbody>\n",
              "    <tr>\n",
              "      <th>0</th>\n",
              "      <td>Beyond Flavours</td>\n",
              "      <td>800.0</td>\n",
              "      <td>[Mughlai, Chinese, South Indian, European, Nor...</td>\n",
              "      <td>12noon to 3:30pm, 6:30pm to 11:30pm (Mon-Sun)</td>\n",
              "      <td>1</td>\n",
              "      <td>1</td>\n",
              "      <td>1</td>\n",
              "      <td>0</td>\n",
              "      <td>0</td>\n",
              "      <td>0</td>\n",
              "      <td>...</td>\n",
              "      <td>1</td>\n",
              "      <td>0</td>\n",
              "      <td>1</td>\n",
              "      <td>0</td>\n",
              "      <td>0</td>\n",
              "      <td>0</td>\n",
              "      <td>0</td>\n",
              "      <td>0</td>\n",
              "      <td>0</td>\n",
              "      <td>6</td>\n",
              "    </tr>\n",
              "  </tbody>\n",
              "</table>\n",
              "<p>1 rows × 34 columns</p>\n",
              "</div>\n",
              "      <button class=\"colab-df-convert\" onclick=\"convertToInteractive('df-fb1c7504-e98f-4340-a853-3dfcc1a4e235')\"\n",
              "              title=\"Convert this dataframe to an interactive table.\"\n",
              "              style=\"display:none;\">\n",
              "        \n",
              "  <svg xmlns=\"http://www.w3.org/2000/svg\" height=\"24px\"viewBox=\"0 0 24 24\"\n",
              "       width=\"24px\">\n",
              "    <path d=\"M0 0h24v24H0V0z\" fill=\"none\"/>\n",
              "    <path d=\"M18.56 5.44l.94 2.06.94-2.06 2.06-.94-2.06-.94-.94-2.06-.94 2.06-2.06.94zm-11 1L8.5 8.5l.94-2.06 2.06-.94-2.06-.94L8.5 2.5l-.94 2.06-2.06.94zm10 10l.94 2.06.94-2.06 2.06-.94-2.06-.94-.94-2.06-.94 2.06-2.06.94z\"/><path d=\"M17.41 7.96l-1.37-1.37c-.4-.4-.92-.59-1.43-.59-.52 0-1.04.2-1.43.59L10.3 9.45l-7.72 7.72c-.78.78-.78 2.05 0 2.83L4 21.41c.39.39.9.59 1.41.59.51 0 1.02-.2 1.41-.59l7.78-7.78 2.81-2.81c.8-.78.8-2.07 0-2.86zM5.41 20L4 18.59l7.72-7.72 1.47 1.35L5.41 20z\"/>\n",
              "  </svg>\n",
              "      </button>\n",
              "      \n",
              "  <style>\n",
              "    .colab-df-container {\n",
              "      display:flex;\n",
              "      flex-wrap:wrap;\n",
              "      gap: 12px;\n",
              "    }\n",
              "\n",
              "    .colab-df-convert {\n",
              "      background-color: #E8F0FE;\n",
              "      border: none;\n",
              "      border-radius: 50%;\n",
              "      cursor: pointer;\n",
              "      display: none;\n",
              "      fill: #1967D2;\n",
              "      height: 32px;\n",
              "      padding: 0 0 0 0;\n",
              "      width: 32px;\n",
              "    }\n",
              "\n",
              "    .colab-df-convert:hover {\n",
              "      background-color: #E2EBFA;\n",
              "      box-shadow: 0px 1px 2px rgba(60, 64, 67, 0.3), 0px 1px 3px 1px rgba(60, 64, 67, 0.15);\n",
              "      fill: #174EA6;\n",
              "    }\n",
              "\n",
              "    [theme=dark] .colab-df-convert {\n",
              "      background-color: #3B4455;\n",
              "      fill: #D2E3FC;\n",
              "    }\n",
              "\n",
              "    [theme=dark] .colab-df-convert:hover {\n",
              "      background-color: #434B5C;\n",
              "      box-shadow: 0px 1px 3px 1px rgba(0, 0, 0, 0.15);\n",
              "      filter: drop-shadow(0px 1px 2px rgba(0, 0, 0, 0.3));\n",
              "      fill: #FFFFFF;\n",
              "    }\n",
              "  </style>\n",
              "\n",
              "      <script>\n",
              "        const buttonEl =\n",
              "          document.querySelector('#df-fb1c7504-e98f-4340-a853-3dfcc1a4e235 button.colab-df-convert');\n",
              "        buttonEl.style.display =\n",
              "          google.colab.kernel.accessAllowed ? 'block' : 'none';\n",
              "\n",
              "        async function convertToInteractive(key) {\n",
              "          const element = document.querySelector('#df-fb1c7504-e98f-4340-a853-3dfcc1a4e235');\n",
              "          const dataTable =\n",
              "            await google.colab.kernel.invokeFunction('convertToInteractive',\n",
              "                                                     [key], {});\n",
              "          if (!dataTable) return;\n",
              "\n",
              "          const docLinkHtml = 'Like what you see? Visit the ' +\n",
              "            '<a target=\"_blank\" href=https://colab.research.google.com/notebooks/data_table.ipynb>data table notebook</a>'\n",
              "            + ' to learn more about interactive tables.';\n",
              "          element.innerHTML = '';\n",
              "          dataTable['output_type'] = 'display_data';\n",
              "          await google.colab.output.renderOutput(dataTable, element);\n",
              "          const docLink = document.createElement('div');\n",
              "          docLink.innerHTML = docLinkHtml;\n",
              "          element.appendChild(docLink);\n",
              "        }\n",
              "      </script>\n",
              "    </div>\n",
              "  </div>\n",
              "  "
            ]
          },
          "metadata": {},
          "execution_count": 52
        }
      ]
    },
    {
      "cell_type": "code",
      "source": [
        "#drop cuisines column\n",
        "names_df.drop(['Cuisines'],axis=1,inplace=True)"
      ],
      "metadata": {
        "id": "2PKP1uFk7noy"
      },
      "execution_count": 53,
      "outputs": []
    },
    {
      "cell_type": "code",
      "source": [
        "#analyse the unique values in Timings\n",
        "names_df['Timings'].unique()"
      ],
      "metadata": {
        "colab": {
          "base_uri": "https://localhost:8080/"
        },
        "id": "JMBAXL8n8EFx",
        "outputId": "a53bb76e-050f-4738-bd52-8f37c6d7f0bb"
      },
      "execution_count": 54,
      "outputs": [
        {
          "output_type": "execute_result",
          "data": {
            "text/plain": [
              "array(['12noon to 3:30pm, 6:30pm to 11:30pm (Mon-Sun)', '11 AM to 11 PM',\n",
              "       '11:30 AM to 4:30 PM, 6:30 PM to 11 PM', '12 Noon to 2 AM',\n",
              "       '12noon to 11pm (Mon, Tue, Wed, Thu, Sun), 12noon to 12midnight (Fri-Sat)',\n",
              "       '12Noon to 3:30PM, 4PM to 6:30PM, 7PM to 11:30PM (Mon, Tue, Wed, Thu, Sun), 12Noon to 3:30PM, 4PM to 6:30PM, 7PM to 12Midnight (Fri-Sat)',\n",
              "       '7 AM to 10 PM', '12 Noon to 12 Midnight',\n",
              "       '10 AM to 1 AM (Mon-Thu), 10 AM to 1:30 AM (Fri-Sun)',\n",
              "       '12 Noon to 3:30 PM, 7 PM to 10:30 PM',\n",
              "       '12 Noon to 3:30 PM, 6:30 PM to 11:30 PM', '11:30 AM to 1 AM',\n",
              "       '12noon to 12midnight (Mon-Sun)',\n",
              "       '12 Noon to 4:30 PM, 6:30 PM to 11:30 PM', '12 Noon to 10:30 PM',\n",
              "       '12 Noon to 11 PM', '12:30 PM to 10 PM (Tue-Sun), Mon Closed',\n",
              "       '11:30 AM to 3 PM, 7 PM to 11 PM',\n",
              "       '11am to 11:30pm (Mon, Tue, Wed, Thu, Sun), 11am to 12midnight (Fri-Sat)',\n",
              "       '10 AM to 5 AM',\n",
              "       '12 Noon to 12 Midnight (Mon-Thu, Sun), 12 Noon to 1 AM (Fri-Sat)',\n",
              "       '12Noon to 11PM (Mon-Thu),12Noon to 11:30PM (Fri-Sun)',\n",
              "       '12 Noon to 11:30 PM (Mon-Wed), 12 Noon to 1 AM (Fri-Sat), 12 Noon to 12 Midnight (Sun), Thu Closed',\n",
              "       '12 Noon to 4 PM, 6:30 PM to 11:30 PM', '10 AM to 1 AM',\n",
              "       '4:30 PM to 5:30 AM', '11 AM to 12 Midnight',\n",
              "       '12noon to 4pm, 7pm to 12midnight (Mon-Sun)',\n",
              "       '6am to 12midnight (Mon-Sun)',\n",
              "       '12:30 PM to 3:30 PM, 7 PM to 10:40 PM',\n",
              "       '12 Noon to 4 PM, 7 PM to 11 PM', '12noon to 11pm (Mon-Sun)',\n",
              "       '10 AM to 10 PM', '7 AM to 1 AM', '12 Noon to 11:30 PM',\n",
              "       '12Noon to 11:30PM (Mon-Sun)', '6 AM to 10:30 PM',\n",
              "       '11:30 AM to 3:30 PM, 6:45 PM to 11:30 PM',\n",
              "       '11:55 AM to 4 PM, 7 PM to 11:15 PM',\n",
              "       '12noon to 4:30pm, 6:30pm to 11:30pm (Mon, Tue, Wed, Fri, Sat), Closed (Thu),12noon to 12midnight (Sun)',\n",
              "       '12noon to 12midnight (Mon, Tue, Wed, Thu, Sun), 12noon to 1am (Fri-Sat)',\n",
              "       '8 AM to 11:30 PM',\n",
              "       '6:30am to 10:30am, 12:30pm to 3pm, 7pm to 11pm (Mon),6:30am to 10:30am, 12:30pm to 3pm, 7:30pm to 11pm (Tue-Sat),6:30am to 10:30am, 12:30pm to 3:30pm, 7pm to 11pm (Sun)',\n",
              "       '12 Noon to 3 PM, 7 PM to 11:30 PM', '9 AM to 10 PM',\n",
              "       '5pm to 12midnight (Mon-Sun)', '11 AM to 11:30 PM',\n",
              "       '11:30AM to 11PM (Mon-Sun)', '1 PM to 11 PM',\n",
              "       '11:30 AM to 12 Midnight', '12 Noon to 3 PM, 7 PM to 11 PM',\n",
              "       '11 AM to 8 PM (Mon-Sat), Sun Closed', '4 AM to 12 Midnight',\n",
              "       '9 AM to 1 AM', '10:30 AM to 11 PM', '7 AM to 11 PM',\n",
              "       '7 AM to 10:30 AM, 12:30 PM to 3:30 PM, 7 PM to 11 PM',\n",
              "       '12 Noon to 3:30 PM, 7 PM to 11:30 PM',\n",
              "       '12 Noon to 3:30 PM, 7 PM to 11 PM', '11am to 11pm (Mon-Sun)',\n",
              "       '6 AM to 11:30 PM', '11:30 AM to 5 AM',\n",
              "       '12:30 PM to 3:30 PM, 7 PM to 11 PM', '6pm to 2am (Mon-Sun)',\n",
              "       '10 AM to 12 Midnight', '12 Noon to 4 AM', '1 PM to 1 AM',\n",
              "       '24 Hours', '24 Hours (Mon-Sun)',\n",
              "       '11:30 AM to 4 PM, 7 PM to 11 PM', '10 AM to 11 PM',\n",
              "       '1 PM to 2 AM (Mon, Wed-Sun), Tue Closed',\n",
              "       '12:30pm to 11:30pm (Mon-Sun)', '12Noon to 2AM (Mon-Sun)',\n",
              "       '10 AM to 10 PM (Mon-Thu), 8 AM to 10:30 PM (Fri-Sun)',\n",
              "       '8am to 12:30AM (Mon-Sun)',\n",
              "       '11:30 AM to 3 PM, 7 PM to 12 Midnight'], dtype=object)"
            ]
          },
          "metadata": {},
          "execution_count": 54
        }
      ]
    },
    {
      "cell_type": "code",
      "source": [
        "#drop timings\n",
        "names_df.drop(['Timings'],axis=1,inplace=True)"
      ],
      "metadata": {
        "id": "Hpuba7OS8pvB"
      },
      "execution_count": 55,
      "outputs": []
    },
    {
      "cell_type": "markdown",
      "source": [
        "Upon analyzing the unique values in the timings columns, it can be concluded that the restaurants are more or less open at the same timings and don't really provide a considerable variation in order to cluster the restaurants."
      ],
      "metadata": {
        "id": "pH2PEn0H8tEK"
      }
    },
    {
      "cell_type": "code",
      "source": [
        "# groupby restaurant and ratings to get average ratings\n",
        "restaurant_ratings = reviews_df.groupby('Restaurant')['Rating'].mean().reset_index()\n",
        "restaurant_ratings.rename(columns={'Restaurant':'Name'},inplace=True)\n",
        "#sort restaurants according to ratings and getting top 5 restaurants\n",
        "restaurant_ratings.sort_values(by='Rating',ascending = False).head(10)"
      ],
      "metadata": {
        "colab": {
          "base_uri": "https://localhost:8080/",
          "height": 363
        },
        "id": "BX4F-lWO89lx",
        "outputId": "3840bb24-8b09-4290-9738-c87fbb124f35"
      },
      "execution_count": 56,
      "outputs": [
        {
          "output_type": "execute_result",
          "data": {
            "text/plain": [
              "                                       Name  Rating\n",
              "3                 AB's - Absolute Barbecues    4.88\n",
              "11                                   B-Dubs    4.81\n",
              "2            3B's - Buddies, Bar & Barbecue    4.76\n",
              "67                                 Paradise    4.70\n",
              "35                                 Flechazo    4.66\n",
              "87                           The Indi Grill    4.60\n",
              "97          Zega - Sheraton Hyderabad Hotel    4.45\n",
              "64               Over The Moon Brew Company    4.34\n",
              "16                          Beyond Flavours    4.28\n",
              "19  Cascade - Radisson Hyderabad Hitec City    4.26"
            ],
            "text/html": [
              "\n",
              "  <div id=\"df-dbec4c8b-48f2-40ea-88ba-de6ff2703429\">\n",
              "    <div class=\"colab-df-container\">\n",
              "      <div>\n",
              "<style scoped>\n",
              "    .dataframe tbody tr th:only-of-type {\n",
              "        vertical-align: middle;\n",
              "    }\n",
              "\n",
              "    .dataframe tbody tr th {\n",
              "        vertical-align: top;\n",
              "    }\n",
              "\n",
              "    .dataframe thead th {\n",
              "        text-align: right;\n",
              "    }\n",
              "</style>\n",
              "<table border=\"1\" class=\"dataframe\">\n",
              "  <thead>\n",
              "    <tr style=\"text-align: right;\">\n",
              "      <th></th>\n",
              "      <th>Name</th>\n",
              "      <th>Rating</th>\n",
              "    </tr>\n",
              "  </thead>\n",
              "  <tbody>\n",
              "    <tr>\n",
              "      <th>3</th>\n",
              "      <td>AB's - Absolute Barbecues</td>\n",
              "      <td>4.88</td>\n",
              "    </tr>\n",
              "    <tr>\n",
              "      <th>11</th>\n",
              "      <td>B-Dubs</td>\n",
              "      <td>4.81</td>\n",
              "    </tr>\n",
              "    <tr>\n",
              "      <th>2</th>\n",
              "      <td>3B's - Buddies, Bar &amp; Barbecue</td>\n",
              "      <td>4.76</td>\n",
              "    </tr>\n",
              "    <tr>\n",
              "      <th>67</th>\n",
              "      <td>Paradise</td>\n",
              "      <td>4.70</td>\n",
              "    </tr>\n",
              "    <tr>\n",
              "      <th>35</th>\n",
              "      <td>Flechazo</td>\n",
              "      <td>4.66</td>\n",
              "    </tr>\n",
              "    <tr>\n",
              "      <th>87</th>\n",
              "      <td>The Indi Grill</td>\n",
              "      <td>4.60</td>\n",
              "    </tr>\n",
              "    <tr>\n",
              "      <th>97</th>\n",
              "      <td>Zega - Sheraton Hyderabad Hotel</td>\n",
              "      <td>4.45</td>\n",
              "    </tr>\n",
              "    <tr>\n",
              "      <th>64</th>\n",
              "      <td>Over The Moon Brew Company</td>\n",
              "      <td>4.34</td>\n",
              "    </tr>\n",
              "    <tr>\n",
              "      <th>16</th>\n",
              "      <td>Beyond Flavours</td>\n",
              "      <td>4.28</td>\n",
              "    </tr>\n",
              "    <tr>\n",
              "      <th>19</th>\n",
              "      <td>Cascade - Radisson Hyderabad Hitec City</td>\n",
              "      <td>4.26</td>\n",
              "    </tr>\n",
              "  </tbody>\n",
              "</table>\n",
              "</div>\n",
              "      <button class=\"colab-df-convert\" onclick=\"convertToInteractive('df-dbec4c8b-48f2-40ea-88ba-de6ff2703429')\"\n",
              "              title=\"Convert this dataframe to an interactive table.\"\n",
              "              style=\"display:none;\">\n",
              "        \n",
              "  <svg xmlns=\"http://www.w3.org/2000/svg\" height=\"24px\"viewBox=\"0 0 24 24\"\n",
              "       width=\"24px\">\n",
              "    <path d=\"M0 0h24v24H0V0z\" fill=\"none\"/>\n",
              "    <path d=\"M18.56 5.44l.94 2.06.94-2.06 2.06-.94-2.06-.94-.94-2.06-.94 2.06-2.06.94zm-11 1L8.5 8.5l.94-2.06 2.06-.94-2.06-.94L8.5 2.5l-.94 2.06-2.06.94zm10 10l.94 2.06.94-2.06 2.06-.94-2.06-.94-.94-2.06-.94 2.06-2.06.94z\"/><path d=\"M17.41 7.96l-1.37-1.37c-.4-.4-.92-.59-1.43-.59-.52 0-1.04.2-1.43.59L10.3 9.45l-7.72 7.72c-.78.78-.78 2.05 0 2.83L4 21.41c.39.39.9.59 1.41.59.51 0 1.02-.2 1.41-.59l7.78-7.78 2.81-2.81c.8-.78.8-2.07 0-2.86zM5.41 20L4 18.59l7.72-7.72 1.47 1.35L5.41 20z\"/>\n",
              "  </svg>\n",
              "      </button>\n",
              "      \n",
              "  <style>\n",
              "    .colab-df-container {\n",
              "      display:flex;\n",
              "      flex-wrap:wrap;\n",
              "      gap: 12px;\n",
              "    }\n",
              "\n",
              "    .colab-df-convert {\n",
              "      background-color: #E8F0FE;\n",
              "      border: none;\n",
              "      border-radius: 50%;\n",
              "      cursor: pointer;\n",
              "      display: none;\n",
              "      fill: #1967D2;\n",
              "      height: 32px;\n",
              "      padding: 0 0 0 0;\n",
              "      width: 32px;\n",
              "    }\n",
              "\n",
              "    .colab-df-convert:hover {\n",
              "      background-color: #E2EBFA;\n",
              "      box-shadow: 0px 1px 2px rgba(60, 64, 67, 0.3), 0px 1px 3px 1px rgba(60, 64, 67, 0.15);\n",
              "      fill: #174EA6;\n",
              "    }\n",
              "\n",
              "    [theme=dark] .colab-df-convert {\n",
              "      background-color: #3B4455;\n",
              "      fill: #D2E3FC;\n",
              "    }\n",
              "\n",
              "    [theme=dark] .colab-df-convert:hover {\n",
              "      background-color: #434B5C;\n",
              "      box-shadow: 0px 1px 3px 1px rgba(0, 0, 0, 0.15);\n",
              "      filter: drop-shadow(0px 1px 2px rgba(0, 0, 0, 0.3));\n",
              "      fill: #FFFFFF;\n",
              "    }\n",
              "  </style>\n",
              "\n",
              "      <script>\n",
              "        const buttonEl =\n",
              "          document.querySelector('#df-dbec4c8b-48f2-40ea-88ba-de6ff2703429 button.colab-df-convert');\n",
              "        buttonEl.style.display =\n",
              "          google.colab.kernel.accessAllowed ? 'block' : 'none';\n",
              "\n",
              "        async function convertToInteractive(key) {\n",
              "          const element = document.querySelector('#df-dbec4c8b-48f2-40ea-88ba-de6ff2703429');\n",
              "          const dataTable =\n",
              "            await google.colab.kernel.invokeFunction('convertToInteractive',\n",
              "                                                     [key], {});\n",
              "          if (!dataTable) return;\n",
              "\n",
              "          const docLinkHtml = 'Like what you see? Visit the ' +\n",
              "            '<a target=\"_blank\" href=https://colab.research.google.com/notebooks/data_table.ipynb>data table notebook</a>'\n",
              "            + ' to learn more about interactive tables.';\n",
              "          element.innerHTML = '';\n",
              "          dataTable['output_type'] = 'display_data';\n",
              "          await google.colab.output.renderOutput(dataTable, element);\n",
              "          const docLink = document.createElement('div');\n",
              "          docLink.innerHTML = docLinkHtml;\n",
              "          element.appendChild(docLink);\n",
              "        }\n",
              "      </script>\n",
              "    </div>\n",
              "  </div>\n",
              "  "
            ]
          },
          "metadata": {},
          "execution_count": 56
        }
      ]
    },
    {
      "cell_type": "code",
      "source": [
        "#adding an average rating feature in restaurant names and metadata dataframe\n",
        "names_df = names_df.merge(restaurant_ratings,on='Name',how='left')\n",
        "names_df.rename(columns={'Rating':'Avg Rating'},inplace=True)\n",
        "names_df.head(5)"
      ],
      "metadata": {
        "colab": {
          "base_uri": "https://localhost:8080/",
          "height": 236
        },
        "id": "dc237l8u8_hJ",
        "outputId": "047e868e-7d14-44dd-f20a-1a536c09934a"
      },
      "execution_count": 57,
      "outputs": [
        {
          "output_type": "execute_result",
          "data": {
            "text/plain": [
              "                             Name    Cost Chinese North Indian Continental  \\\n",
              "0                 Beyond Flavours   800.0       1            1           1   \n",
              "1                        Paradise   800.0       1            1           0   \n",
              "2                        Flechazo  1300.0       0            1           0   \n",
              "3  Shah Ghouse Hotel & Restaurant   800.0       1            1           0   \n",
              "4      Over The Moon Brew Company  1200.0       1            1           1   \n",
              "\n",
              "  Andhra Arabian Asian Bakery Beverages  ... Seafood South Indian Thai  \\\n",
              "0      0       0     0      0         0  ...       0            1    0   \n",
              "1      0       0     0      0         0  ...       0            0    0   \n",
              "2      0       0     1      0         0  ...       0            0    0   \n",
              "3      0       0     0      0         1  ...       1            0    0   \n",
              "4      0       0     1      0         0  ...       0            0    0   \n",
              "\n",
              "  Healthy Food Lebanese Mexican North Eastern Street Food Total Cuisines  \\\n",
              "0            0        0       0             0           0              6   \n",
              "1            0        0       0             0           0              3   \n",
              "2            0        0       0             0           0              4   \n",
              "3            0        0       0             0           0              5   \n",
              "4            0        0       0             0           0              5   \n",
              "\n",
              "  Avg Rating  \n",
              "0       4.28  \n",
              "1       4.70  \n",
              "2       4.66  \n",
              "3       3.21  \n",
              "4       4.34  \n",
              "\n",
              "[5 rows x 33 columns]"
            ],
            "text/html": [
              "\n",
              "  <div id=\"df-b24783ac-a526-4e9b-8b3c-e860fe4102ed\">\n",
              "    <div class=\"colab-df-container\">\n",
              "      <div>\n",
              "<style scoped>\n",
              "    .dataframe tbody tr th:only-of-type {\n",
              "        vertical-align: middle;\n",
              "    }\n",
              "\n",
              "    .dataframe tbody tr th {\n",
              "        vertical-align: top;\n",
              "    }\n",
              "\n",
              "    .dataframe thead th {\n",
              "        text-align: right;\n",
              "    }\n",
              "</style>\n",
              "<table border=\"1\" class=\"dataframe\">\n",
              "  <thead>\n",
              "    <tr style=\"text-align: right;\">\n",
              "      <th></th>\n",
              "      <th>Name</th>\n",
              "      <th>Cost</th>\n",
              "      <th>Chinese</th>\n",
              "      <th>North Indian</th>\n",
              "      <th>Continental</th>\n",
              "      <th>Andhra</th>\n",
              "      <th>Arabian</th>\n",
              "      <th>Asian</th>\n",
              "      <th>Bakery</th>\n",
              "      <th>Beverages</th>\n",
              "      <th>...</th>\n",
              "      <th>Seafood</th>\n",
              "      <th>South Indian</th>\n",
              "      <th>Thai</th>\n",
              "      <th>Healthy Food</th>\n",
              "      <th>Lebanese</th>\n",
              "      <th>Mexican</th>\n",
              "      <th>North Eastern</th>\n",
              "      <th>Street Food</th>\n",
              "      <th>Total Cuisines</th>\n",
              "      <th>Avg Rating</th>\n",
              "    </tr>\n",
              "  </thead>\n",
              "  <tbody>\n",
              "    <tr>\n",
              "      <th>0</th>\n",
              "      <td>Beyond Flavours</td>\n",
              "      <td>800.0</td>\n",
              "      <td>1</td>\n",
              "      <td>1</td>\n",
              "      <td>1</td>\n",
              "      <td>0</td>\n",
              "      <td>0</td>\n",
              "      <td>0</td>\n",
              "      <td>0</td>\n",
              "      <td>0</td>\n",
              "      <td>...</td>\n",
              "      <td>0</td>\n",
              "      <td>1</td>\n",
              "      <td>0</td>\n",
              "      <td>0</td>\n",
              "      <td>0</td>\n",
              "      <td>0</td>\n",
              "      <td>0</td>\n",
              "      <td>0</td>\n",
              "      <td>6</td>\n",
              "      <td>4.28</td>\n",
              "    </tr>\n",
              "    <tr>\n",
              "      <th>1</th>\n",
              "      <td>Paradise</td>\n",
              "      <td>800.0</td>\n",
              "      <td>1</td>\n",
              "      <td>1</td>\n",
              "      <td>0</td>\n",
              "      <td>0</td>\n",
              "      <td>0</td>\n",
              "      <td>0</td>\n",
              "      <td>0</td>\n",
              "      <td>0</td>\n",
              "      <td>...</td>\n",
              "      <td>0</td>\n",
              "      <td>0</td>\n",
              "      <td>0</td>\n",
              "      <td>0</td>\n",
              "      <td>0</td>\n",
              "      <td>0</td>\n",
              "      <td>0</td>\n",
              "      <td>0</td>\n",
              "      <td>3</td>\n",
              "      <td>4.70</td>\n",
              "    </tr>\n",
              "    <tr>\n",
              "      <th>2</th>\n",
              "      <td>Flechazo</td>\n",
              "      <td>1300.0</td>\n",
              "      <td>0</td>\n",
              "      <td>1</td>\n",
              "      <td>0</td>\n",
              "      <td>0</td>\n",
              "      <td>0</td>\n",
              "      <td>1</td>\n",
              "      <td>0</td>\n",
              "      <td>0</td>\n",
              "      <td>...</td>\n",
              "      <td>0</td>\n",
              "      <td>0</td>\n",
              "      <td>0</td>\n",
              "      <td>0</td>\n",
              "      <td>0</td>\n",
              "      <td>0</td>\n",
              "      <td>0</td>\n",
              "      <td>0</td>\n",
              "      <td>4</td>\n",
              "      <td>4.66</td>\n",
              "    </tr>\n",
              "    <tr>\n",
              "      <th>3</th>\n",
              "      <td>Shah Ghouse Hotel &amp; Restaurant</td>\n",
              "      <td>800.0</td>\n",
              "      <td>1</td>\n",
              "      <td>1</td>\n",
              "      <td>0</td>\n",
              "      <td>0</td>\n",
              "      <td>0</td>\n",
              "      <td>0</td>\n",
              "      <td>0</td>\n",
              "      <td>1</td>\n",
              "      <td>...</td>\n",
              "      <td>1</td>\n",
              "      <td>0</td>\n",
              "      <td>0</td>\n",
              "      <td>0</td>\n",
              "      <td>0</td>\n",
              "      <td>0</td>\n",
              "      <td>0</td>\n",
              "      <td>0</td>\n",
              "      <td>5</td>\n",
              "      <td>3.21</td>\n",
              "    </tr>\n",
              "    <tr>\n",
              "      <th>4</th>\n",
              "      <td>Over The Moon Brew Company</td>\n",
              "      <td>1200.0</td>\n",
              "      <td>1</td>\n",
              "      <td>1</td>\n",
              "      <td>1</td>\n",
              "      <td>0</td>\n",
              "      <td>0</td>\n",
              "      <td>1</td>\n",
              "      <td>0</td>\n",
              "      <td>0</td>\n",
              "      <td>...</td>\n",
              "      <td>0</td>\n",
              "      <td>0</td>\n",
              "      <td>0</td>\n",
              "      <td>0</td>\n",
              "      <td>0</td>\n",
              "      <td>0</td>\n",
              "      <td>0</td>\n",
              "      <td>0</td>\n",
              "      <td>5</td>\n",
              "      <td>4.34</td>\n",
              "    </tr>\n",
              "  </tbody>\n",
              "</table>\n",
              "<p>5 rows × 33 columns</p>\n",
              "</div>\n",
              "      <button class=\"colab-df-convert\" onclick=\"convertToInteractive('df-b24783ac-a526-4e9b-8b3c-e860fe4102ed')\"\n",
              "              title=\"Convert this dataframe to an interactive table.\"\n",
              "              style=\"display:none;\">\n",
              "        \n",
              "  <svg xmlns=\"http://www.w3.org/2000/svg\" height=\"24px\"viewBox=\"0 0 24 24\"\n",
              "       width=\"24px\">\n",
              "    <path d=\"M0 0h24v24H0V0z\" fill=\"none\"/>\n",
              "    <path d=\"M18.56 5.44l.94 2.06.94-2.06 2.06-.94-2.06-.94-.94-2.06-.94 2.06-2.06.94zm-11 1L8.5 8.5l.94-2.06 2.06-.94-2.06-.94L8.5 2.5l-.94 2.06-2.06.94zm10 10l.94 2.06.94-2.06 2.06-.94-2.06-.94-.94-2.06-.94 2.06-2.06.94z\"/><path d=\"M17.41 7.96l-1.37-1.37c-.4-.4-.92-.59-1.43-.59-.52 0-1.04.2-1.43.59L10.3 9.45l-7.72 7.72c-.78.78-.78 2.05 0 2.83L4 21.41c.39.39.9.59 1.41.59.51 0 1.02-.2 1.41-.59l7.78-7.78 2.81-2.81c.8-.78.8-2.07 0-2.86zM5.41 20L4 18.59l7.72-7.72 1.47 1.35L5.41 20z\"/>\n",
              "  </svg>\n",
              "      </button>\n",
              "      \n",
              "  <style>\n",
              "    .colab-df-container {\n",
              "      display:flex;\n",
              "      flex-wrap:wrap;\n",
              "      gap: 12px;\n",
              "    }\n",
              "\n",
              "    .colab-df-convert {\n",
              "      background-color: #E8F0FE;\n",
              "      border: none;\n",
              "      border-radius: 50%;\n",
              "      cursor: pointer;\n",
              "      display: none;\n",
              "      fill: #1967D2;\n",
              "      height: 32px;\n",
              "      padding: 0 0 0 0;\n",
              "      width: 32px;\n",
              "    }\n",
              "\n",
              "    .colab-df-convert:hover {\n",
              "      background-color: #E2EBFA;\n",
              "      box-shadow: 0px 1px 2px rgba(60, 64, 67, 0.3), 0px 1px 3px 1px rgba(60, 64, 67, 0.15);\n",
              "      fill: #174EA6;\n",
              "    }\n",
              "\n",
              "    [theme=dark] .colab-df-convert {\n",
              "      background-color: #3B4455;\n",
              "      fill: #D2E3FC;\n",
              "    }\n",
              "\n",
              "    [theme=dark] .colab-df-convert:hover {\n",
              "      background-color: #434B5C;\n",
              "      box-shadow: 0px 1px 3px 1px rgba(0, 0, 0, 0.15);\n",
              "      filter: drop-shadow(0px 1px 2px rgba(0, 0, 0, 0.3));\n",
              "      fill: #FFFFFF;\n",
              "    }\n",
              "  </style>\n",
              "\n",
              "      <script>\n",
              "        const buttonEl =\n",
              "          document.querySelector('#df-b24783ac-a526-4e9b-8b3c-e860fe4102ed button.colab-df-convert');\n",
              "        buttonEl.style.display =\n",
              "          google.colab.kernel.accessAllowed ? 'block' : 'none';\n",
              "\n",
              "        async function convertToInteractive(key) {\n",
              "          const element = document.querySelector('#df-b24783ac-a526-4e9b-8b3c-e860fe4102ed');\n",
              "          const dataTable =\n",
              "            await google.colab.kernel.invokeFunction('convertToInteractive',\n",
              "                                                     [key], {});\n",
              "          if (!dataTable) return;\n",
              "\n",
              "          const docLinkHtml = 'Like what you see? Visit the ' +\n",
              "            '<a target=\"_blank\" href=https://colab.research.google.com/notebooks/data_table.ipynb>data table notebook</a>'\n",
              "            + ' to learn more about interactive tables.';\n",
              "          element.innerHTML = '';\n",
              "          dataTable['output_type'] = 'display_data';\n",
              "          await google.colab.output.renderOutput(dataTable, element);\n",
              "          const docLink = document.createElement('div');\n",
              "          docLink.innerHTML = docLinkHtml;\n",
              "          element.appendChild(docLink);\n",
              "        }\n",
              "      </script>\n",
              "    </div>\n",
              "  </div>\n",
              "  "
            ]
          },
          "metadata": {},
          "execution_count": 57
        }
      ]
    },
    {
      "cell_type": "code",
      "source": [
        "# info on the final dataset\n",
        "names_df.info()"
      ],
      "metadata": {
        "colab": {
          "base_uri": "https://localhost:8080/"
        },
        "id": "oGyU6hyM9BLx",
        "outputId": "548bcdc0-17c2-472f-a351-5ba9fd955fd2"
      },
      "execution_count": 58,
      "outputs": [
        {
          "output_type": "stream",
          "name": "stdout",
          "text": [
            "<class 'pandas.core.frame.DataFrame'>\n",
            "Int64Index: 105 entries, 0 to 104\n",
            "Data columns (total 33 columns):\n",
            " #   Column          Non-Null Count  Dtype  \n",
            "---  ------          --------------  -----  \n",
            " 0   Name            105 non-null    object \n",
            " 1   Cost            105 non-null    float64\n",
            " 2   Chinese         105 non-null    object \n",
            " 3   North Indian    105 non-null    object \n",
            " 4   Continental     105 non-null    object \n",
            " 5   Andhra          105 non-null    object \n",
            " 6   Arabian         105 non-null    object \n",
            " 7   Asian           105 non-null    object \n",
            " 8   Bakery          105 non-null    object \n",
            " 9   Beverages       105 non-null    object \n",
            " 10  Cafe            105 non-null    object \n",
            " 11  Desserts        105 non-null    object \n",
            " 12  European        105 non-null    object \n",
            " 13  Fast Food       105 non-null    object \n",
            " 14  Goan            105 non-null    object \n",
            " 15  Hyderabadi      105 non-null    object \n",
            " 16  Indonesian      105 non-null    object \n",
            " 17  Italian         105 non-null    object \n",
            " 18  Japanese        105 non-null    object \n",
            " 19  Malaysian       105 non-null    object \n",
            " 20  Mediterranean   105 non-null    object \n",
            " 21  Modern Indian   105 non-null    object \n",
            " 22  Mughlai         105 non-null    object \n",
            " 23  Seafood         105 non-null    object \n",
            " 24  South Indian    105 non-null    object \n",
            " 25  Thai            105 non-null    object \n",
            " 26  Healthy Food    105 non-null    object \n",
            " 27  Lebanese        105 non-null    object \n",
            " 28  Mexican         105 non-null    object \n",
            " 29  North Eastern   105 non-null    object \n",
            " 30  Street Food     105 non-null    object \n",
            " 31  Total Cuisines  105 non-null    int64  \n",
            " 32  Avg Rating      100 non-null    float64\n",
            "dtypes: float64(2), int64(1), object(30)\n",
            "memory usage: 27.9+ KB\n"
          ]
        }
      ]
    },
    {
      "cell_type": "code",
      "source": [
        "#five restaurants have not been rated by people yet\n",
        "names_df['Avg Rating'].fillna(0,inplace=True)"
      ],
      "metadata": {
        "id": "9mDoG5_v9D2p"
      },
      "execution_count": 59,
      "outputs": []
    },
    {
      "cell_type": "markdown",
      "source": [
        "## **Zomato Restaurant Reviews**"
      ],
      "metadata": {
        "id": "RJDvyoGL9KZJ"
      }
    },
    {
      "cell_type": "code",
      "source": [
        "#head\n",
        "reviews_df.head(1)"
      ],
      "metadata": {
        "colab": {
          "base_uri": "https://localhost:8080/",
          "height": 81
        },
        "id": "3Nsav7qQ9HIz",
        "outputId": "84683134-2a19-4834-f3e6-d2fd6a7a1a66"
      },
      "execution_count": 60,
      "outputs": [
        {
          "output_type": "execute_result",
          "data": {
            "text/plain": [
              "        Restaurant           Reviewer  \\\n",
              "0  Beyond Flavours  Rusha Chakraborty   \n",
              "\n",
              "                                              Review  Rating  \\\n",
              "0  The ambience was good, food was quite good . h...     5.0   \n",
              "\n",
              "                 Metadata  Pictures  \n",
              "0  1 Review , 2 Followers         0  "
            ],
            "text/html": [
              "\n",
              "  <div id=\"df-ce9a4310-347b-477f-b703-cfe7f46cb82f\">\n",
              "    <div class=\"colab-df-container\">\n",
              "      <div>\n",
              "<style scoped>\n",
              "    .dataframe tbody tr th:only-of-type {\n",
              "        vertical-align: middle;\n",
              "    }\n",
              "\n",
              "    .dataframe tbody tr th {\n",
              "        vertical-align: top;\n",
              "    }\n",
              "\n",
              "    .dataframe thead th {\n",
              "        text-align: right;\n",
              "    }\n",
              "</style>\n",
              "<table border=\"1\" class=\"dataframe\">\n",
              "  <thead>\n",
              "    <tr style=\"text-align: right;\">\n",
              "      <th></th>\n",
              "      <th>Restaurant</th>\n",
              "      <th>Reviewer</th>\n",
              "      <th>Review</th>\n",
              "      <th>Rating</th>\n",
              "      <th>Metadata</th>\n",
              "      <th>Pictures</th>\n",
              "    </tr>\n",
              "  </thead>\n",
              "  <tbody>\n",
              "    <tr>\n",
              "      <th>0</th>\n",
              "      <td>Beyond Flavours</td>\n",
              "      <td>Rusha Chakraborty</td>\n",
              "      <td>The ambience was good, food was quite good . h...</td>\n",
              "      <td>5.0</td>\n",
              "      <td>1 Review , 2 Followers</td>\n",
              "      <td>0</td>\n",
              "    </tr>\n",
              "  </tbody>\n",
              "</table>\n",
              "</div>\n",
              "      <button class=\"colab-df-convert\" onclick=\"convertToInteractive('df-ce9a4310-347b-477f-b703-cfe7f46cb82f')\"\n",
              "              title=\"Convert this dataframe to an interactive table.\"\n",
              "              style=\"display:none;\">\n",
              "        \n",
              "  <svg xmlns=\"http://www.w3.org/2000/svg\" height=\"24px\"viewBox=\"0 0 24 24\"\n",
              "       width=\"24px\">\n",
              "    <path d=\"M0 0h24v24H0V0z\" fill=\"none\"/>\n",
              "    <path d=\"M18.56 5.44l.94 2.06.94-2.06 2.06-.94-2.06-.94-.94-2.06-.94 2.06-2.06.94zm-11 1L8.5 8.5l.94-2.06 2.06-.94-2.06-.94L8.5 2.5l-.94 2.06-2.06.94zm10 10l.94 2.06.94-2.06 2.06-.94-2.06-.94-.94-2.06-.94 2.06-2.06.94z\"/><path d=\"M17.41 7.96l-1.37-1.37c-.4-.4-.92-.59-1.43-.59-.52 0-1.04.2-1.43.59L10.3 9.45l-7.72 7.72c-.78.78-.78 2.05 0 2.83L4 21.41c.39.39.9.59 1.41.59.51 0 1.02-.2 1.41-.59l7.78-7.78 2.81-2.81c.8-.78.8-2.07 0-2.86zM5.41 20L4 18.59l7.72-7.72 1.47 1.35L5.41 20z\"/>\n",
              "  </svg>\n",
              "      </button>\n",
              "      \n",
              "  <style>\n",
              "    .colab-df-container {\n",
              "      display:flex;\n",
              "      flex-wrap:wrap;\n",
              "      gap: 12px;\n",
              "    }\n",
              "\n",
              "    .colab-df-convert {\n",
              "      background-color: #E8F0FE;\n",
              "      border: none;\n",
              "      border-radius: 50%;\n",
              "      cursor: pointer;\n",
              "      display: none;\n",
              "      fill: #1967D2;\n",
              "      height: 32px;\n",
              "      padding: 0 0 0 0;\n",
              "      width: 32px;\n",
              "    }\n",
              "\n",
              "    .colab-df-convert:hover {\n",
              "      background-color: #E2EBFA;\n",
              "      box-shadow: 0px 1px 2px rgba(60, 64, 67, 0.3), 0px 1px 3px 1px rgba(60, 64, 67, 0.15);\n",
              "      fill: #174EA6;\n",
              "    }\n",
              "\n",
              "    [theme=dark] .colab-df-convert {\n",
              "      background-color: #3B4455;\n",
              "      fill: #D2E3FC;\n",
              "    }\n",
              "\n",
              "    [theme=dark] .colab-df-convert:hover {\n",
              "      background-color: #434B5C;\n",
              "      box-shadow: 0px 1px 3px 1px rgba(0, 0, 0, 0.15);\n",
              "      filter: drop-shadow(0px 1px 2px rgba(0, 0, 0, 0.3));\n",
              "      fill: #FFFFFF;\n",
              "    }\n",
              "  </style>\n",
              "\n",
              "      <script>\n",
              "        const buttonEl =\n",
              "          document.querySelector('#df-ce9a4310-347b-477f-b703-cfe7f46cb82f button.colab-df-convert');\n",
              "        buttonEl.style.display =\n",
              "          google.colab.kernel.accessAllowed ? 'block' : 'none';\n",
              "\n",
              "        async function convertToInteractive(key) {\n",
              "          const element = document.querySelector('#df-ce9a4310-347b-477f-b703-cfe7f46cb82f');\n",
              "          const dataTable =\n",
              "            await google.colab.kernel.invokeFunction('convertToInteractive',\n",
              "                                                     [key], {});\n",
              "          if (!dataTable) return;\n",
              "\n",
              "          const docLinkHtml = 'Like what you see? Visit the ' +\n",
              "            '<a target=\"_blank\" href=https://colab.research.google.com/notebooks/data_table.ipynb>data table notebook</a>'\n",
              "            + ' to learn more about interactive tables.';\n",
              "          element.innerHTML = '';\n",
              "          dataTable['output_type'] = 'display_data';\n",
              "          await google.colab.output.renderOutput(dataTable, element);\n",
              "          const docLink = document.createElement('div');\n",
              "          docLink.innerHTML = docLinkHtml;\n",
              "          element.appendChild(docLink);\n",
              "        }\n",
              "      </script>\n",
              "    </div>\n",
              "  </div>\n",
              "  "
            ]
          },
          "metadata": {},
          "execution_count": 60
        }
      ]
    },
    {
      "cell_type": "code",
      "source": [
        "#splitting meta data into reviews and followers seperately\n",
        "\n",
        "reviews_df['Reviews'], reviews_df['Followers'] = reviews_df['Metadata'].str.split(',').str\n",
        "reviews_df['Reviews'] = pd.to_numeric(reviews_df['Reviews'].str.split(' ').str[0])\n",
        "reviews_df['Followers'] = pd.to_numeric(reviews_df['Followers'].str.split(' ').str[1])\n"
      ],
      "metadata": {
        "id": "gpwmSpti9RE5"
      },
      "execution_count": 61,
      "outputs": []
    },
    {
      "cell_type": "code",
      "source": [
        "#drop Metadata\n",
        "reviews_df.drop(['Metadata'],axis=1,inplace=True)"
      ],
      "metadata": {
        "id": "-bWmIdQN9VVZ"
      },
      "execution_count": 62,
      "outputs": []
    },
    {
      "cell_type": "code",
      "source": [
        "#create a seperate detaframe for reviewers and their activity\n",
        "reviewers_df = reviews_df.groupby(['Reviewer','Reviews','Followers'])['Rating'].mean().reset_index()\n",
        "reviewers_df.sort_values(by=['Reviews','Followers','Rating'],ascending=[False,False,True],inplace=True,ignore_index=True)\n",
        "\n",
        "#sorting out the crtics of the industry, these are the people with most reviews written and most followers who have given low rating on an avg\n",
        "reviewers_df.head(3)"
      ],
      "metadata": {
        "colab": {
          "base_uri": "https://localhost:8080/",
          "height": 144
        },
        "id": "PwIotxuD9XzL",
        "outputId": "15a75e1f-4ee9-43b6-ffa0-8a4d3f1b8771"
      },
      "execution_count": 63,
      "outputs": [
        {
          "output_type": "execute_result",
          "data": {
            "text/plain": [
              "          Reviewer  Reviews  Followers    Rating\n",
              "0  Anvesh Chowdary     1031     1654.0  3.333333\n",
              "1     ᴀɴ.ᴏᴛʜᴇʀ.sᴇɴ      685      794.0  2.000000\n",
              "2           Abc098      665     2275.0  3.000000"
            ],
            "text/html": [
              "\n",
              "  <div id=\"df-49b15562-2b3d-4136-9673-425fafa89a71\">\n",
              "    <div class=\"colab-df-container\">\n",
              "      <div>\n",
              "<style scoped>\n",
              "    .dataframe tbody tr th:only-of-type {\n",
              "        vertical-align: middle;\n",
              "    }\n",
              "\n",
              "    .dataframe tbody tr th {\n",
              "        vertical-align: top;\n",
              "    }\n",
              "\n",
              "    .dataframe thead th {\n",
              "        text-align: right;\n",
              "    }\n",
              "</style>\n",
              "<table border=\"1\" class=\"dataframe\">\n",
              "  <thead>\n",
              "    <tr style=\"text-align: right;\">\n",
              "      <th></th>\n",
              "      <th>Reviewer</th>\n",
              "      <th>Reviews</th>\n",
              "      <th>Followers</th>\n",
              "      <th>Rating</th>\n",
              "    </tr>\n",
              "  </thead>\n",
              "  <tbody>\n",
              "    <tr>\n",
              "      <th>0</th>\n",
              "      <td>Anvesh Chowdary</td>\n",
              "      <td>1031</td>\n",
              "      <td>1654.0</td>\n",
              "      <td>3.333333</td>\n",
              "    </tr>\n",
              "    <tr>\n",
              "      <th>1</th>\n",
              "      <td>ᴀɴ.ᴏᴛʜᴇʀ.sᴇɴ</td>\n",
              "      <td>685</td>\n",
              "      <td>794.0</td>\n",
              "      <td>2.000000</td>\n",
              "    </tr>\n",
              "    <tr>\n",
              "      <th>2</th>\n",
              "      <td>Abc098</td>\n",
              "      <td>665</td>\n",
              "      <td>2275.0</td>\n",
              "      <td>3.000000</td>\n",
              "    </tr>\n",
              "  </tbody>\n",
              "</table>\n",
              "</div>\n",
              "      <button class=\"colab-df-convert\" onclick=\"convertToInteractive('df-49b15562-2b3d-4136-9673-425fafa89a71')\"\n",
              "              title=\"Convert this dataframe to an interactive table.\"\n",
              "              style=\"display:none;\">\n",
              "        \n",
              "  <svg xmlns=\"http://www.w3.org/2000/svg\" height=\"24px\"viewBox=\"0 0 24 24\"\n",
              "       width=\"24px\">\n",
              "    <path d=\"M0 0h24v24H0V0z\" fill=\"none\"/>\n",
              "    <path d=\"M18.56 5.44l.94 2.06.94-2.06 2.06-.94-2.06-.94-.94-2.06-.94 2.06-2.06.94zm-11 1L8.5 8.5l.94-2.06 2.06-.94-2.06-.94L8.5 2.5l-.94 2.06-2.06.94zm10 10l.94 2.06.94-2.06 2.06-.94-2.06-.94-.94-2.06-.94 2.06-2.06.94z\"/><path d=\"M17.41 7.96l-1.37-1.37c-.4-.4-.92-.59-1.43-.59-.52 0-1.04.2-1.43.59L10.3 9.45l-7.72 7.72c-.78.78-.78 2.05 0 2.83L4 21.41c.39.39.9.59 1.41.59.51 0 1.02-.2 1.41-.59l7.78-7.78 2.81-2.81c.8-.78.8-2.07 0-2.86zM5.41 20L4 18.59l7.72-7.72 1.47 1.35L5.41 20z\"/>\n",
              "  </svg>\n",
              "      </button>\n",
              "      \n",
              "  <style>\n",
              "    .colab-df-container {\n",
              "      display:flex;\n",
              "      flex-wrap:wrap;\n",
              "      gap: 12px;\n",
              "    }\n",
              "\n",
              "    .colab-df-convert {\n",
              "      background-color: #E8F0FE;\n",
              "      border: none;\n",
              "      border-radius: 50%;\n",
              "      cursor: pointer;\n",
              "      display: none;\n",
              "      fill: #1967D2;\n",
              "      height: 32px;\n",
              "      padding: 0 0 0 0;\n",
              "      width: 32px;\n",
              "    }\n",
              "\n",
              "    .colab-df-convert:hover {\n",
              "      background-color: #E2EBFA;\n",
              "      box-shadow: 0px 1px 2px rgba(60, 64, 67, 0.3), 0px 1px 3px 1px rgba(60, 64, 67, 0.15);\n",
              "      fill: #174EA6;\n",
              "    }\n",
              "\n",
              "    [theme=dark] .colab-df-convert {\n",
              "      background-color: #3B4455;\n",
              "      fill: #D2E3FC;\n",
              "    }\n",
              "\n",
              "    [theme=dark] .colab-df-convert:hover {\n",
              "      background-color: #434B5C;\n",
              "      box-shadow: 0px 1px 3px 1px rgba(0, 0, 0, 0.15);\n",
              "      filter: drop-shadow(0px 1px 2px rgba(0, 0, 0, 0.3));\n",
              "      fill: #FFFFFF;\n",
              "    }\n",
              "  </style>\n",
              "\n",
              "      <script>\n",
              "        const buttonEl =\n",
              "          document.querySelector('#df-49b15562-2b3d-4136-9673-425fafa89a71 button.colab-df-convert');\n",
              "        buttonEl.style.display =\n",
              "          google.colab.kernel.accessAllowed ? 'block' : 'none';\n",
              "\n",
              "        async function convertToInteractive(key) {\n",
              "          const element = document.querySelector('#df-49b15562-2b3d-4136-9673-425fafa89a71');\n",
              "          const dataTable =\n",
              "            await google.colab.kernel.invokeFunction('convertToInteractive',\n",
              "                                                     [key], {});\n",
              "          if (!dataTable) return;\n",
              "\n",
              "          const docLinkHtml = 'Like what you see? Visit the ' +\n",
              "            '<a target=\"_blank\" href=https://colab.research.google.com/notebooks/data_table.ipynb>data table notebook</a>'\n",
              "            + ' to learn more about interactive tables.';\n",
              "          element.innerHTML = '';\n",
              "          dataTable['output_type'] = 'display_data';\n",
              "          await google.colab.output.renderOutput(dataTable, element);\n",
              "          const docLink = document.createElement('div');\n",
              "          docLink.innerHTML = docLinkHtml;\n",
              "          element.appendChild(docLink);\n",
              "        }\n",
              "      </script>\n",
              "    </div>\n",
              "  </div>\n",
              "  "
            ]
          },
          "metadata": {},
          "execution_count": 63
        }
      ]
    },
    {
      "cell_type": "markdown",
      "source": [
        "## ***4. Data Vizualization, Storytelling & Experimenting with charts : Understand the relationships between variables***"
      ],
      "metadata": {
        "id": "GF8Ens_Soomf"
      }
    },
    {
      "cell_type": "markdown",
      "source": [
        "## **Exploratory Data Analysis**\n",
        "\n",
        "Exploratory data analysis is a crucial part of data analysis. It involves exploring and analyzing the dataset given to find patterns, trends and conclusions to make better decisions related to the data, often using statistical graphics and other data visualization tools to summarize the results. Python libraries like pandas are used to explore the data and matplotlib and seaborn to visualize it.\n",
        "\n",
        "Some important aspects to include in the project are as follows:\n",
        "\n",
        "Best restaurants in the city\n",
        "\n",
        "The Most Popular Cuisines in Hyderabad\n",
        "\n",
        "Restaurants and their Costs\n",
        "\n",
        "Cost-Benefit Analysis\n",
        "\n",
        "Hypotheses Generation on visualized data for Clustering\n",
        "\n"
      ],
      "metadata": {
        "id": "4l1cUhir9cCy"
      }
    },
    {
      "cell_type": "markdown",
      "source": [
        "#### Chart - 1"
      ],
      "metadata": {
        "id": "0wOQAZs5pc--"
      }
    },
    {
      "cell_type": "code",
      "source": [
        "# sorting out the best restaurants\n",
        "best_restaurants = names_df[['Name','Avg Rating','Total Cuisines','Cost']]\n",
        "best_restaurants.sort_values(by=['Avg Rating','Total Cuisines','Cost'],ascending=[False,False,True],inplace=True,ignore_index=True)\n",
        "#top10\n",
        "best_restaurants = best_restaurants.loc[0:9,:]\n",
        "best_restaurants"
      ],
      "metadata": {
        "id": "7v_ESjsspbW7",
        "colab": {
          "base_uri": "https://localhost:8080/",
          "height": 363
        },
        "outputId": "f6299565-ac96-4c46-a7a1-4d1ad4dda42e"
      },
      "execution_count": 64,
      "outputs": [
        {
          "output_type": "execute_result",
          "data": {
            "text/plain": [
              "                                      Name  Avg Rating  Total Cuisines    Cost\n",
              "0                AB's - Absolute Barbecues        4.88               3  1500.0\n",
              "1                                   B-Dubs        4.81               1  1600.0\n",
              "2           3B's - Buddies, Bar & Barbecue        4.76               3  1100.0\n",
              "3                                 Paradise        4.70               3   800.0\n",
              "4                                 Flechazo        4.66               4  1300.0\n",
              "5                           The Indi Grill        4.60               5  1500.0\n",
              "6          Zega - Sheraton Hyderabad Hotel        4.45               2  1750.0\n",
              "7               Over The Moon Brew Company        4.34               5  1200.0\n",
              "8                          Beyond Flavours        4.28               6   800.0\n",
              "9  Cascade - Radisson Hyderabad Hitec City        4.26               4  1800.0"
            ],
            "text/html": [
              "\n",
              "  <div id=\"df-c7e392ee-8691-4693-80d0-6a19506fe462\">\n",
              "    <div class=\"colab-df-container\">\n",
              "      <div>\n",
              "<style scoped>\n",
              "    .dataframe tbody tr th:only-of-type {\n",
              "        vertical-align: middle;\n",
              "    }\n",
              "\n",
              "    .dataframe tbody tr th {\n",
              "        vertical-align: top;\n",
              "    }\n",
              "\n",
              "    .dataframe thead th {\n",
              "        text-align: right;\n",
              "    }\n",
              "</style>\n",
              "<table border=\"1\" class=\"dataframe\">\n",
              "  <thead>\n",
              "    <tr style=\"text-align: right;\">\n",
              "      <th></th>\n",
              "      <th>Name</th>\n",
              "      <th>Avg Rating</th>\n",
              "      <th>Total Cuisines</th>\n",
              "      <th>Cost</th>\n",
              "    </tr>\n",
              "  </thead>\n",
              "  <tbody>\n",
              "    <tr>\n",
              "      <th>0</th>\n",
              "      <td>AB's - Absolute Barbecues</td>\n",
              "      <td>4.88</td>\n",
              "      <td>3</td>\n",
              "      <td>1500.0</td>\n",
              "    </tr>\n",
              "    <tr>\n",
              "      <th>1</th>\n",
              "      <td>B-Dubs</td>\n",
              "      <td>4.81</td>\n",
              "      <td>1</td>\n",
              "      <td>1600.0</td>\n",
              "    </tr>\n",
              "    <tr>\n",
              "      <th>2</th>\n",
              "      <td>3B's - Buddies, Bar &amp; Barbecue</td>\n",
              "      <td>4.76</td>\n",
              "      <td>3</td>\n",
              "      <td>1100.0</td>\n",
              "    </tr>\n",
              "    <tr>\n",
              "      <th>3</th>\n",
              "      <td>Paradise</td>\n",
              "      <td>4.70</td>\n",
              "      <td>3</td>\n",
              "      <td>800.0</td>\n",
              "    </tr>\n",
              "    <tr>\n",
              "      <th>4</th>\n",
              "      <td>Flechazo</td>\n",
              "      <td>4.66</td>\n",
              "      <td>4</td>\n",
              "      <td>1300.0</td>\n",
              "    </tr>\n",
              "    <tr>\n",
              "      <th>5</th>\n",
              "      <td>The Indi Grill</td>\n",
              "      <td>4.60</td>\n",
              "      <td>5</td>\n",
              "      <td>1500.0</td>\n",
              "    </tr>\n",
              "    <tr>\n",
              "      <th>6</th>\n",
              "      <td>Zega - Sheraton Hyderabad Hotel</td>\n",
              "      <td>4.45</td>\n",
              "      <td>2</td>\n",
              "      <td>1750.0</td>\n",
              "    </tr>\n",
              "    <tr>\n",
              "      <th>7</th>\n",
              "      <td>Over The Moon Brew Company</td>\n",
              "      <td>4.34</td>\n",
              "      <td>5</td>\n",
              "      <td>1200.0</td>\n",
              "    </tr>\n",
              "    <tr>\n",
              "      <th>8</th>\n",
              "      <td>Beyond Flavours</td>\n",
              "      <td>4.28</td>\n",
              "      <td>6</td>\n",
              "      <td>800.0</td>\n",
              "    </tr>\n",
              "    <tr>\n",
              "      <th>9</th>\n",
              "      <td>Cascade - Radisson Hyderabad Hitec City</td>\n",
              "      <td>4.26</td>\n",
              "      <td>4</td>\n",
              "      <td>1800.0</td>\n",
              "    </tr>\n",
              "  </tbody>\n",
              "</table>\n",
              "</div>\n",
              "      <button class=\"colab-df-convert\" onclick=\"convertToInteractive('df-c7e392ee-8691-4693-80d0-6a19506fe462')\"\n",
              "              title=\"Convert this dataframe to an interactive table.\"\n",
              "              style=\"display:none;\">\n",
              "        \n",
              "  <svg xmlns=\"http://www.w3.org/2000/svg\" height=\"24px\"viewBox=\"0 0 24 24\"\n",
              "       width=\"24px\">\n",
              "    <path d=\"M0 0h24v24H0V0z\" fill=\"none\"/>\n",
              "    <path d=\"M18.56 5.44l.94 2.06.94-2.06 2.06-.94-2.06-.94-.94-2.06-.94 2.06-2.06.94zm-11 1L8.5 8.5l.94-2.06 2.06-.94-2.06-.94L8.5 2.5l-.94 2.06-2.06.94zm10 10l.94 2.06.94-2.06 2.06-.94-2.06-.94-.94-2.06-.94 2.06-2.06.94z\"/><path d=\"M17.41 7.96l-1.37-1.37c-.4-.4-.92-.59-1.43-.59-.52 0-1.04.2-1.43.59L10.3 9.45l-7.72 7.72c-.78.78-.78 2.05 0 2.83L4 21.41c.39.39.9.59 1.41.59.51 0 1.02-.2 1.41-.59l7.78-7.78 2.81-2.81c.8-.78.8-2.07 0-2.86zM5.41 20L4 18.59l7.72-7.72 1.47 1.35L5.41 20z\"/>\n",
              "  </svg>\n",
              "      </button>\n",
              "      \n",
              "  <style>\n",
              "    .colab-df-container {\n",
              "      display:flex;\n",
              "      flex-wrap:wrap;\n",
              "      gap: 12px;\n",
              "    }\n",
              "\n",
              "    .colab-df-convert {\n",
              "      background-color: #E8F0FE;\n",
              "      border: none;\n",
              "      border-radius: 50%;\n",
              "      cursor: pointer;\n",
              "      display: none;\n",
              "      fill: #1967D2;\n",
              "      height: 32px;\n",
              "      padding: 0 0 0 0;\n",
              "      width: 32px;\n",
              "    }\n",
              "\n",
              "    .colab-df-convert:hover {\n",
              "      background-color: #E2EBFA;\n",
              "      box-shadow: 0px 1px 2px rgba(60, 64, 67, 0.3), 0px 1px 3px 1px rgba(60, 64, 67, 0.15);\n",
              "      fill: #174EA6;\n",
              "    }\n",
              "\n",
              "    [theme=dark] .colab-df-convert {\n",
              "      background-color: #3B4455;\n",
              "      fill: #D2E3FC;\n",
              "    }\n",
              "\n",
              "    [theme=dark] .colab-df-convert:hover {\n",
              "      background-color: #434B5C;\n",
              "      box-shadow: 0px 1px 3px 1px rgba(0, 0, 0, 0.15);\n",
              "      filter: drop-shadow(0px 1px 2px rgba(0, 0, 0, 0.3));\n",
              "      fill: #FFFFFF;\n",
              "    }\n",
              "  </style>\n",
              "\n",
              "      <script>\n",
              "        const buttonEl =\n",
              "          document.querySelector('#df-c7e392ee-8691-4693-80d0-6a19506fe462 button.colab-df-convert');\n",
              "        buttonEl.style.display =\n",
              "          google.colab.kernel.accessAllowed ? 'block' : 'none';\n",
              "\n",
              "        async function convertToInteractive(key) {\n",
              "          const element = document.querySelector('#df-c7e392ee-8691-4693-80d0-6a19506fe462');\n",
              "          const dataTable =\n",
              "            await google.colab.kernel.invokeFunction('convertToInteractive',\n",
              "                                                     [key], {});\n",
              "          if (!dataTable) return;\n",
              "\n",
              "          const docLinkHtml = 'Like what you see? Visit the ' +\n",
              "            '<a target=\"_blank\" href=https://colab.research.google.com/notebooks/data_table.ipynb>data table notebook</a>'\n",
              "            + ' to learn more about interactive tables.';\n",
              "          element.innerHTML = '';\n",
              "          dataTable['output_type'] = 'display_data';\n",
              "          await google.colab.output.renderOutput(dataTable, element);\n",
              "          const docLink = document.createElement('div');\n",
              "          docLink.innerHTML = docLinkHtml;\n",
              "          element.appendChild(docLink);\n",
              "        }\n",
              "      </script>\n",
              "    </div>\n",
              "  </div>\n",
              "  "
            ]
          },
          "metadata": {},
          "execution_count": 64
        }
      ]
    },
    {
      "cell_type": "markdown",
      "source": [
        "##### 1. Why did you pick the specific chart?"
      ],
      "metadata": {
        "id": "K5QZ13OEpz2H"
      }
    },
    {
      "cell_type": "markdown",
      "source": [
        "Answer Here."
      ],
      "metadata": {
        "id": "XESiWehPqBRc"
      }
    },
    {
      "cell_type": "markdown",
      "source": [
        "##### 2. What is/are the insight(s) found from the chart?"
      ],
      "metadata": {
        "id": "lQ7QKXXCp7Bj"
      }
    },
    {
      "cell_type": "markdown",
      "source": [
        "Answer Here"
      ],
      "metadata": {
        "id": "C_j1G7yiqdRP"
      }
    },
    {
      "cell_type": "markdown",
      "source": [
        "##### 3. Will the gained insights help creating a positive business impact? \n",
        "Are there any insights that lead to negative growth? Justify with specific reason."
      ],
      "metadata": {
        "id": "448CDAPjqfQr"
      }
    },
    {
      "cell_type": "markdown",
      "source": [
        "Answer Here"
      ],
      "metadata": {
        "id": "3cspy4FjqxJW"
      }
    },
    {
      "cell_type": "markdown",
      "source": [
        "#### Chart - 2"
      ],
      "metadata": {
        "id": "KSlN3yHqYklG"
      }
    },
    {
      "cell_type": "code",
      "source": [
        "# Chart - 2 visualization code\n",
        "#visualizing the best restaurants \n",
        "sns.barplot(x='Avg Rating', y='Name',data=best_restaurants)\n",
        "plt.title('Best Restaurants in Hyderabad',size=10)"
      ],
      "metadata": {
        "id": "R4YgtaqtYklH",
        "colab": {
          "base_uri": "https://localhost:8080/",
          "height": 496
        },
        "outputId": "21dca47c-d5b5-4685-830f-7963ace42aab"
      },
      "execution_count": 65,
      "outputs": [
        {
          "output_type": "execute_result",
          "data": {
            "text/plain": [
              "Text(0.5, 1.0, 'Best Restaurants in Hyderabad')"
            ]
          },
          "metadata": {},
          "execution_count": 65
        },
        {
          "output_type": "display_data",
          "data": {
            "text/plain": [
              "<Figure size 800x500 with 1 Axes>"
            ],
            "image/png": "[encoded data removed]"
          },
          "metadata": {
            "needs_background": "light"
          }
        }
      ]
    },
    {
      "cell_type": "markdown",
      "source": [
        "##### 1. Why did you pick the specific chart?"
      ],
      "metadata": {
        "id": "t6dVpIINYklI"
      }
    },
    {
      "cell_type": "markdown",
      "source": [
        "Answer Here."
      ],
      "metadata": {
        "id": "5aaW0BYyYklI"
      }
    },
    {
      "cell_type": "markdown",
      "source": [
        "##### 2. What is/are the insight(s) found from the chart?"
      ],
      "metadata": {
        "id": "ijmpgYnKYklI"
      }
    },
    {
      "cell_type": "markdown",
      "source": [
        "Answer Here"
      ],
      "metadata": {
        "id": "PSx9atu2YklI"
      }
    },
    {
      "cell_type": "markdown",
      "source": [
        "##### 3. Will the gained insights help creating a positive business impact? \n",
        "Are there any insights that lead to negative growth? Justify with specific reason."
      ],
      "metadata": {
        "id": "-JiQyfWJYklI"
      }
    },
    {
      "cell_type": "markdown",
      "source": [
        "Answer Here"
      ],
      "metadata": {
        "id": "BcBbebzrYklV"
      }
    },
    {
      "cell_type": "markdown",
      "source": [
        "#### Chart - 3"
      ],
      "metadata": {
        "id": "EM7whBJCYoAo"
      }
    },
    {
      "cell_type": "code",
      "source": [
        "# Chart - 3 visualization code\n",
        "#distribution of Average Ratings in Hyderabad\n",
        "sns.distplot(x=names_df['Avg Rating'])\n",
        "plt.xlabel('Average Rating',size=8)\n",
        "plt.title('Distribution of Average Restaurant Ratings in Hyderabad',size=10)"
      ],
      "metadata": {
        "id": "t6GMdE67YoAp",
        "colab": {
          "base_uri": "https://localhost:8080/",
          "height": 492
        },
        "outputId": "aac9b4a7-5713-4564-dfa4-5fbda21bacdc"
      },
      "execution_count": 66,
      "outputs": [
        {
          "output_type": "execute_result",
          "data": {
            "text/plain": [
              "Text(0.5, 1.0, 'Distribution of Average Restaurant Ratings in Hyderabad')"
            ]
          },
          "metadata": {},
          "execution_count": 66
        },
        {
          "output_type": "display_data",
          "data": {
            "text/plain": [
              "<Figure size 800x500 with 1 Axes>"
            ],
            "image/png": "[encoded data removed]"
          },
          "metadata": {
            "needs_background": "light"
          }
        }
      ]
    },
    {
      "cell_type": "markdown",
      "source": [
        "Few restaurants in the original restaurant dataset have not been rated by the people yet, most restaurants have ratings between 3.5 and 4. Efforts should be made by the company to improve the existing restaurants by pushing them to act on the reviews and to include restaurants with better services in the future to improve overall rating distribution."
      ],
      "metadata": {
        "id": "74TzSxya-jTR"
      }
    },
    {
      "cell_type": "markdown",
      "source": [
        "##### 1. Why did you pick the specific chart?"
      ],
      "metadata": {
        "id": "fge-S5ZAYoAp"
      }
    },
    {
      "cell_type": "markdown",
      "source": [
        "Answer Here."
      ],
      "metadata": {
        "id": "5dBItgRVYoAp"
      }
    },
    {
      "cell_type": "markdown",
      "source": [
        "##### 2. What is/are the insight(s) found from the chart?"
      ],
      "metadata": {
        "id": "85gYPyotYoAp"
      }
    },
    {
      "cell_type": "markdown",
      "source": [
        "Answer Here"
      ],
      "metadata": {
        "id": "4jstXR6OYoAp"
      }
    },
    {
      "cell_type": "markdown",
      "source": [
        "##### 3. Will the gained insights help creating a positive business impact? \n",
        "Are there any insights that lead to negative growth? Justify with specific reason."
      ],
      "metadata": {
        "id": "RoGjAbkUYoAp"
      }
    },
    {
      "cell_type": "markdown",
      "source": [
        "Answer Here"
      ],
      "metadata": {
        "id": "zfJ8IqMcYoAp"
      }
    },
    {
      "cell_type": "markdown",
      "source": [
        "#### The Most Popular Cuisines in Hyderabad**"
      ],
      "metadata": {
        "id": "4Of9eVA-YrdM"
      }
    },
    {
      "cell_type": "code",
      "source": [
        "\n",
        "#creating a new dataframe for the cuisines and number of restaurants providing them\n",
        "#list of cuisines\n",
        "cuisines1 = list(cuisine_dict.keys())\n",
        "#creating a new dataframe\n",
        "popular_cuisines = pd.DataFrame()\n",
        "#creating a feature called cuisines and assigning unique cuisines as values\n",
        "popular_cuisines['Cuisines'] = cuisines1\n",
        "#creating a feature of sum of cuisines in the whole dataset\n",
        "popular_cuisines['Total Restaurants'] = [names_df[i].sum() for i in cuisines1]\n",
        "#sort values\n",
        "popular_cuisines.sort_values('Total Restaurants',ascending=False,inplace=True,ignore_index=True)\n",
        "popular_cuisines"
      ],
      "metadata": {
        "id": "irlUoxc8YrdO",
        "colab": {
          "base_uri": "https://localhost:8080/",
          "height": 958
        },
        "outputId": "d4289f46-b4d3-480a-ed66-5b27deb26e7f"
      },
      "execution_count": 113,
      "outputs": [
        {
          "output_type": "execute_result",
          "data": {
            "text/plain": [
              "         Cuisines  Total Restaurants\n",
              "0    North Indian                 64\n",
              "1         Chinese                 45\n",
              "2     Continental                 39\n",
              "3      Hyderabadi                 18\n",
              "4       Fast Food                 17\n",
              "5         Italian                 15\n",
              "6           Asian                 15\n",
              "7        Desserts                 14\n",
              "8         Mughlai                 13\n",
              "9    South Indian                  9\n",
              "10  Modern Indian                  7\n",
              "11         Bakery                  7\n",
              "12           Cafe                  6\n",
              "13         Andhra                  6\n",
              "14      Beverages                  5\n",
              "15  Mediterranean                  5\n",
              "16       Japanese                  4\n",
              "17        Seafood                  4\n",
              "18       European                  4\n",
              "19           Thai                  3\n",
              "20    Street Food                  2\n",
              "21        Arabian                  2\n",
              "22      Malaysian                  1\n",
              "23           Goan                  1\n",
              "24   Healthy Food                  1\n",
              "25       Lebanese                  1\n",
              "26        Mexican                  1\n",
              "27  North Eastern                  1\n",
              "28     Indonesian                  1"
            ],
            "text/html": [
              "\n",
              "  <div id=\"df-231dc6f3-3265-45d6-97ec-a01c1b483c44\">\n",
              "    <div class=\"colab-df-container\">\n",
              "      <div>\n",
              "<style scoped>\n",
              "    .dataframe tbody tr th:only-of-type {\n",
              "        vertical-align: middle;\n",
              "    }\n",
              "\n",
              "    .dataframe tbody tr th {\n",
              "        vertical-align: top;\n",
              "    }\n",
              "\n",
              "    .dataframe thead th {\n",
              "        text-align: right;\n",
              "    }\n",
              "</style>\n",
              "<table border=\"1\" class=\"dataframe\">\n",
              "  <thead>\n",
              "    <tr style=\"text-align: right;\">\n",
              "      <th></th>\n",
              "      <th>Cuisines</th>\n",
              "      <th>Total Restaurants</th>\n",
              "    </tr>\n",
              "  </thead>\n",
              "  <tbody>\n",
              "    <tr>\n",
              "      <th>0</th>\n",
              "      <td>North Indian</td>\n",
              "      <td>64</td>\n",
              "    </tr>\n",
              "    <tr>\n",
              "      <th>1</th>\n",
              "      <td>Chinese</td>\n",
              "      <td>45</td>\n",
              "    </tr>\n",
              "    <tr>\n",
              "      <th>2</th>\n",
              "      <td>Continental</td>\n",
              "      <td>39</td>\n",
              "    </tr>\n",
              "    <tr>\n",
              "      <th>3</th>\n",
              "      <td>Hyderabadi</td>\n",
              "      <td>18</td>\n",
              "    </tr>\n",
              "    <tr>\n",
              "      <th>4</th>\n",
              "      <td>Fast Food</td>\n",
              "      <td>17</td>\n",
              "    </tr>\n",
              "    <tr>\n",
              "      <th>5</th>\n",
              "      <td>Italian</td>\n",
              "      <td>15</td>\n",
              "    </tr>\n",
              "    <tr>\n",
              "      <th>6</th>\n",
              "      <td>Asian</td>\n",
              "      <td>15</td>\n",
              "    </tr>\n",
              "    <tr>\n",
              "      <th>7</th>\n",
              "      <td>Desserts</td>\n",
              "      <td>14</td>\n",
              "    </tr>\n",
              "    <tr>\n",
              "      <th>8</th>\n",
              "      <td>Mughlai</td>\n",
              "      <td>13</td>\n",
              "    </tr>\n",
              "    <tr>\n",
              "      <th>9</th>\n",
              "      <td>South Indian</td>\n",
              "      <td>9</td>\n",
              "    </tr>\n",
              "    <tr>\n",
              "      <th>10</th>\n",
              "      <td>Modern Indian</td>\n",
              "      <td>7</td>\n",
              "    </tr>\n",
              "    <tr>\n",
              "      <th>11</th>\n",
              "      <td>Bakery</td>\n",
              "      <td>7</td>\n",
              "    </tr>\n",
              "    <tr>\n",
              "      <th>12</th>\n",
              "      <td>Cafe</td>\n",
              "      <td>6</td>\n",
              "    </tr>\n",
              "    <tr>\n",
              "      <th>13</th>\n",
              "      <td>Andhra</td>\n",
              "      <td>6</td>\n",
              "    </tr>\n",
              "    <tr>\n",
              "      <th>14</th>\n",
              "      <td>Beverages</td>\n",
              "      <td>5</td>\n",
              "    </tr>\n",
              "    <tr>\n",
              "      <th>15</th>\n",
              "      <td>Mediterranean</td>\n",
              "      <td>5</td>\n",
              "    </tr>\n",
              "    <tr>\n",
              "      <th>16</th>\n",
              "      <td>Japanese</td>\n",
              "      <td>4</td>\n",
              "    </tr>\n",
              "    <tr>\n",
              "      <th>17</th>\n",
              "      <td>Seafood</td>\n",
              "      <td>4</td>\n",
              "    </tr>\n",
              "    <tr>\n",
              "      <th>18</th>\n",
              "      <td>European</td>\n",
              "      <td>4</td>\n",
              "    </tr>\n",
              "    <tr>\n",
              "      <th>19</th>\n",
              "      <td>Thai</td>\n",
              "      <td>3</td>\n",
              "    </tr>\n",
              "    <tr>\n",
              "      <th>20</th>\n",
              "      <td>Street Food</td>\n",
              "      <td>2</td>\n",
              "    </tr>\n",
              "    <tr>\n",
              "      <th>21</th>\n",
              "      <td>Arabian</td>\n",
              "      <td>2</td>\n",
              "    </tr>\n",
              "    <tr>\n",
              "      <th>22</th>\n",
              "      <td>Malaysian</td>\n",
              "      <td>1</td>\n",
              "    </tr>\n",
              "    <tr>\n",
              "      <th>23</th>\n",
              "      <td>Goan</td>\n",
              "      <td>1</td>\n",
              "    </tr>\n",
              "    <tr>\n",
              "      <th>24</th>\n",
              "      <td>Healthy Food</td>\n",
              "      <td>1</td>\n",
              "    </tr>\n",
              "    <tr>\n",
              "      <th>25</th>\n",
              "      <td>Lebanese</td>\n",
              "      <td>1</td>\n",
              "    </tr>\n",
              "    <tr>\n",
              "      <th>26</th>\n",
              "      <td>Mexican</td>\n",
              "      <td>1</td>\n",
              "    </tr>\n",
              "    <tr>\n",
              "      <th>27</th>\n",
              "      <td>North Eastern</td>\n",
              "      <td>1</td>\n",
              "    </tr>\n",
              "    <tr>\n",
              "      <th>28</th>\n",
              "      <td>Indonesian</td>\n",
              "      <td>1</td>\n",
              "    </tr>\n",
              "  </tbody>\n",
              "</table>\n",
              "</div>\n",
              "      <button class=\"colab-df-convert\" onclick=\"convertToInteractive('df-231dc6f3-3265-45d6-97ec-a01c1b483c44')\"\n",
              "              title=\"Convert this dataframe to an interactive table.\"\n",
              "              style=\"display:none;\">\n",
              "        \n",
              "  <svg xmlns=\"http://www.w3.org/2000/svg\" height=\"24px\"viewBox=\"0 0 24 24\"\n",
              "       width=\"24px\">\n",
              "    <path d=\"M0 0h24v24H0V0z\" fill=\"none\"/>\n",
              "    <path d=\"M18.56 5.44l.94 2.06.94-2.06 2.06-.94-2.06-.94-.94-2.06-.94 2.06-2.06.94zm-11 1L8.5 8.5l.94-2.06 2.06-.94-2.06-.94L8.5 2.5l-.94 2.06-2.06.94zm10 10l.94 2.06.94-2.06 2.06-.94-2.06-.94-.94-2.06-.94 2.06-2.06.94z\"/><path d=\"M17.41 7.96l-1.37-1.37c-.4-.4-.92-.59-1.43-.59-.52 0-1.04.2-1.43.59L10.3 9.45l-7.72 7.72c-.78.78-.78 2.05 0 2.83L4 21.41c.39.39.9.59 1.41.59.51 0 1.02-.2 1.41-.59l7.78-7.78 2.81-2.81c.8-.78.8-2.07 0-2.86zM5.41 20L4 18.59l7.72-7.72 1.47 1.35L5.41 20z\"/>\n",
              "  </svg>\n",
              "      </button>\n",
              "      \n",
              "  <style>\n",
              "    .colab-df-container {\n",
              "      display:flex;\n",
              "      flex-wrap:wrap;\n",
              "      gap: 12px;\n",
              "    }\n",
              "\n",
              "    .colab-df-convert {\n",
              "      background-color: #E8F0FE;\n",
              "      border: none;\n",
              "      border-radius: 50%;\n",
              "      cursor: pointer;\n",
              "      display: none;\n",
              "      fill: #1967D2;\n",
              "      height: 32px;\n",
              "      padding: 0 0 0 0;\n",
              "      width: 32px;\n",
              "    }\n",
              "\n",
              "    .colab-df-convert:hover {\n",
              "      background-color: #E2EBFA;\n",
              "      box-shadow: 0px 1px 2px rgba(60, 64, 67, 0.3), 0px 1px 3px 1px rgba(60, 64, 67, 0.15);\n",
              "      fill: #174EA6;\n",
              "    }\n",
              "\n",
              "    [theme=dark] .colab-df-convert {\n",
              "      background-color: #3B4455;\n",
              "      fill: #D2E3FC;\n",
              "    }\n",
              "\n",
              "    [theme=dark] .colab-df-convert:hover {\n",
              "      background-color: #434B5C;\n",
              "      box-shadow: 0px 1px 3px 1px rgba(0, 0, 0, 0.15);\n",
              "      filter: drop-shadow(0px 1px 2px rgba(0, 0, 0, 0.3));\n",
              "      fill: #FFFFFF;\n",
              "    }\n",
              "  </style>\n",
              "\n",
              "      <script>\n",
              "        const buttonEl =\n",
              "          document.querySelector('#df-231dc6f3-3265-45d6-97ec-a01c1b483c44 button.colab-df-convert');\n",
              "        buttonEl.style.display =\n",
              "          google.colab.kernel.accessAllowed ? 'block' : 'none';\n",
              "\n",
              "        async function convertToInteractive(key) {\n",
              "          const element = document.querySelector('#df-231dc6f3-3265-45d6-97ec-a01c1b483c44');\n",
              "          const dataTable =\n",
              "            await google.colab.kernel.invokeFunction('convertToInteractive',\n",
              "                                                     [key], {});\n",
              "          if (!dataTable) return;\n",
              "\n",
              "          const docLinkHtml = 'Like what you see? Visit the ' +\n",
              "            '<a target=\"_blank\" href=https://colab.research.google.com/notebooks/data_table.ipynb>data table notebook</a>'\n",
              "            + ' to learn more about interactive tables.';\n",
              "          element.innerHTML = '';\n",
              "          dataTable['output_type'] = 'display_data';\n",
              "          await google.colab.output.renderOutput(dataTable, element);\n",
              "          const docLink = document.createElement('div');\n",
              "          docLink.innerHTML = docLinkHtml;\n",
              "          element.appendChild(docLink);\n",
              "        }\n",
              "      </script>\n",
              "    </div>\n",
              "  </div>\n",
              "  "
            ]
          },
          "metadata": {},
          "execution_count": 113
        }
      ]
    },
    {
      "cell_type": "code",
      "source": [
        "#visualizing cuisines\n",
        "sns.barplot(x='Total Restaurants', y='Cuisines',data=popular_cuisines)\n",
        "plt.title('The Most Popular Cuisines in Hyderabad',size=10)"
      ],
      "metadata": {
        "colab": {
          "base_uri": "https://localhost:8080/",
          "height": 496
        },
        "id": "jSULSNAi--up",
        "outputId": "583fda86-54ca-45a5-d8c7-c8c4876618c1"
      },
      "execution_count": 114,
      "outputs": [
        {
          "output_type": "execute_result",
          "data": {
            "text/plain": [
              "Text(0.5, 1.0, 'The Most Popular Cuisines in Hyderabad')"
            ]
          },
          "metadata": {},
          "execution_count": 114
        },
        {
          "output_type": "display_data",
          "data": {
            "text/plain": [
              "<Figure size 800x500 with 1 Axes>"
            ],
            "image/png": "[encoded data removed]"
          },
          "metadata": {
            "needs_background": "light"
          }
        }
      ]
    },
    {
      "cell_type": "markdown",
      "source": [
        "Although located in South India, North Indian food is dominating in the restaurants followed by Chinese, and Continental. The number of cuisines shows the diverse food options available in Hyderabad."
      ],
      "metadata": {
        "id": "LBJP8mvd_BQE"
      }
    },
    {
      "cell_type": "markdown",
      "source": [
        "#### Restaurants and their Costs"
      ],
      "metadata": {
        "id": "bamQiAODYuh1"
      }
    },
    {
      "cell_type": "code",
      "source": [
        "# visualizing Restaurant Costs\n",
        "names_df.sort_values(['Cost']).plot(x=\"Name\", y=[\"Cost\"], kind=\"bar\", figsize=(20, 8))\n",
        "plt.xlabel('Restaurants',size=10)\n",
        "plt.ylabel('Cost',size=10)\n",
        "plt.title('Costs of Restaurants in Hyderabad',size=15)\n",
        "plt.legend(['Average Cost at Restaurant'])"
      ],
      "metadata": {
        "id": "TIJwrbroYuh3",
        "colab": {
          "base_uri": "https://localhost:8080/",
          "height": 1000
        },
        "outputId": "2deb4c9b-3b0f-42af-db9d-53bf70d7cf77"
      },
      "execution_count": 115,
      "outputs": [
        {
          "output_type": "execute_result",
          "data": {
            "text/plain": [
              "<matplotlib.legend.Legend at 0x7f512f2e29a0>"
            ]
          },
          "metadata": {},
          "execution_count": 115
        },
        {
          "output_type": "display_data",
          "data": {
            "text/plain": [
              "<Figure size 2000x800 with 1 Axes>"
            ],
            "image/png": "[encoded data removed]"
          },
          "metadata": {
            "needs_background": "light"
          }
        }
      ]
    },
    {
      "cell_type": "markdown",
      "source": [
        "##### 1. Why did you pick the specific chart?"
      ],
      "metadata": {
        "id": "QHF8YVU7Yuh3"
      }
    },
    {
      "cell_type": "markdown",
      "source": [
        "Answer Here."
      ],
      "metadata": {
        "id": "dcxuIMRPYuh3"
      }
    },
    {
      "cell_type": "markdown",
      "source": [
        "##### 2. What is/are the insight(s) found from the chart?"
      ],
      "metadata": {
        "id": "GwzvFGzlYuh3"
      }
    },
    {
      "cell_type": "markdown",
      "source": [
        "Answer Here"
      ],
      "metadata": {
        "id": "uyqkiB8YYuh3"
      }
    },
    {
      "cell_type": "markdown",
      "source": [
        "##### 3. Will the gained insights help creating a positive business impact? \n",
        "Are there any insights that lead to negative growth? Justify with specific reason."
      ],
      "metadata": {
        "id": "qYpmQ266Yuh3"
      }
    },
    {
      "cell_type": "markdown",
      "source": [
        "Answer Here"
      ],
      "metadata": {
        "id": "_WtzZ_hCYuh4"
      }
    },
    {
      "cell_type": "markdown",
      "source": [
        "#### Chart - 6"
      ],
      "metadata": {
        "id": "OH-pJp9IphqM"
      }
    },
    {
      "cell_type": "code",
      "source": [
        "# Chart - 6 visualization code"
      ],
      "metadata": {
        "id": "kuRf4wtuphqN"
      },
      "execution_count": 69,
      "outputs": []
    },
    {
      "cell_type": "markdown",
      "source": [
        "##### 1. Why did you pick the specific chart?"
      ],
      "metadata": {
        "id": "bbFf2-_FphqN"
      }
    },
    {
      "cell_type": "markdown",
      "source": [
        "Answer Here."
      ],
      "metadata": {
        "id": "loh7H2nzphqN"
      }
    },
    {
      "cell_type": "markdown",
      "source": [
        "##### 2. What is/are the insight(s) found from the chart?"
      ],
      "metadata": {
        "id": "_ouA3fa0phqN"
      }
    },
    {
      "cell_type": "markdown",
      "source": [
        "Answer Here"
      ],
      "metadata": {
        "id": "VECbqPI7phqN"
      }
    },
    {
      "cell_type": "markdown",
      "source": [
        "##### 3. Will the gained insights help creating a positive business impact? \n",
        "Are there any insights that lead to negative growth? Justify with specific reason."
      ],
      "metadata": {
        "id": "Seke61FWphqN"
      }
    },
    {
      "cell_type": "markdown",
      "source": [
        "Answer Here"
      ],
      "metadata": {
        "id": "DW4_bGpfphqN"
      }
    },
    {
      "cell_type": "markdown",
      "source": [
        "#### Chart - 7"
      ],
      "metadata": {
        "id": "PIIx-8_IphqN"
      }
    },
    {
      "cell_type": "code",
      "source": [
        "# Chart - 7 visualization code"
      ],
      "metadata": {
        "id": "lqAIGUfyphqO"
      },
      "execution_count": 70,
      "outputs": []
    },
    {
      "cell_type": "markdown",
      "source": [
        "##### 1. Why did you pick the specific chart?"
      ],
      "metadata": {
        "id": "t27r6nlMphqO"
      }
    },
    {
      "cell_type": "markdown",
      "source": [
        "Answer Here."
      ],
      "metadata": {
        "id": "iv6ro40sphqO"
      }
    },
    {
      "cell_type": "markdown",
      "source": [
        "##### 2. What is/are the insight(s) found from the chart?"
      ],
      "metadata": {
        "id": "r2jJGEOYphqO"
      }
    },
    {
      "cell_type": "markdown",
      "source": [
        "Answer Here"
      ],
      "metadata": {
        "id": "Po6ZPi4hphqO"
      }
    },
    {
      "cell_type": "markdown",
      "source": [
        "##### 3. Will the gained insights help creating a positive business impact? \n",
        "Are there any insights that lead to negative growth? Justify with specific reason."
      ],
      "metadata": {
        "id": "b0JNsNcRphqO"
      }
    },
    {
      "cell_type": "markdown",
      "source": [
        "Answer Here"
      ],
      "metadata": {
        "id": "xvSq8iUTphqO"
      }
    },
    {
      "cell_type": "markdown",
      "source": [
        "#### Chart - 8"
      ],
      "metadata": {
        "id": "BZR9WyysphqO"
      }
    },
    {
      "cell_type": "code",
      "source": [
        "# Chart - 8 visualization code"
      ],
      "metadata": {
        "id": "TdPTWpAVphqO"
      },
      "execution_count": 71,
      "outputs": []
    },
    {
      "cell_type": "markdown",
      "source": [
        "##### 1. Why did you pick the specific chart?"
      ],
      "metadata": {
        "id": "jj7wYXLtphqO"
      }
    },
    {
      "cell_type": "markdown",
      "source": [
        "Answer Here."
      ],
      "metadata": {
        "id": "Ob8u6rCTphqO"
      }
    },
    {
      "cell_type": "markdown",
      "source": [
        "##### 2. What is/are the insight(s) found from the chart?"
      ],
      "metadata": {
        "id": "eZrbJ2SmphqO"
      }
    },
    {
      "cell_type": "markdown",
      "source": [
        "Answer Here"
      ],
      "metadata": {
        "id": "mZtgC_hjphqO"
      }
    },
    {
      "cell_type": "markdown",
      "source": [
        "##### 3. Will the gained insights help creating a positive business impact? \n",
        "Are there any insights that lead to negative growth? Justify with specific reason."
      ],
      "metadata": {
        "id": "rFu4xreNphqO"
      }
    },
    {
      "cell_type": "markdown",
      "source": [
        "Answer Here"
      ],
      "metadata": {
        "id": "ey_0qi68phqO"
      }
    },
    {
      "cell_type": "markdown",
      "source": [
        "#### Chart - 9"
      ],
      "metadata": {
        "id": "YJ55k-q6phqO"
      }
    },
    {
      "cell_type": "code",
      "source": [
        "# Chart - 9 visualization code"
      ],
      "metadata": {
        "id": "B2aS4O1ophqO"
      },
      "execution_count": 72,
      "outputs": []
    },
    {
      "cell_type": "markdown",
      "source": [
        "##### 1. Why did you pick the specific chart?"
      ],
      "metadata": {
        "id": "gCFgpxoyphqP"
      }
    },
    {
      "cell_type": "markdown",
      "source": [
        "Answer Here."
      ],
      "metadata": {
        "id": "TVxDimi2phqP"
      }
    },
    {
      "cell_type": "markdown",
      "source": [
        "##### 2. What is/are the insight(s) found from the chart?"
      ],
      "metadata": {
        "id": "OVtJsKN_phqQ"
      }
    },
    {
      "cell_type": "markdown",
      "source": [
        "Answer Here"
      ],
      "metadata": {
        "id": "ngGi97qjphqQ"
      }
    },
    {
      "cell_type": "markdown",
      "source": [
        "##### 3. Will the gained insights help creating a positive business impact? \n",
        "Are there any insights that lead to negative growth? Justify with specific reason."
      ],
      "metadata": {
        "id": "lssrdh5qphqQ"
      }
    },
    {
      "cell_type": "markdown",
      "source": [
        "Answer Here"
      ],
      "metadata": {
        "id": "tBpY5ekJphqQ"
      }
    },
    {
      "cell_type": "markdown",
      "source": [
        "#### Chart - 10"
      ],
      "metadata": {
        "id": "U2RJ9gkRphqQ"
      }
    },
    {
      "cell_type": "code",
      "source": [
        "# Chart - 10 visualization code"
      ],
      "metadata": {
        "id": "GM7a4YP4phqQ"
      },
      "execution_count": 73,
      "outputs": []
    },
    {
      "cell_type": "markdown",
      "source": [
        "##### 1. Why did you pick the specific chart?"
      ],
      "metadata": {
        "id": "1M8mcRywphqQ"
      }
    },
    {
      "cell_type": "markdown",
      "source": [
        "Answer Here."
      ],
      "metadata": {
        "id": "8agQvks0phqQ"
      }
    },
    {
      "cell_type": "markdown",
      "source": [
        "##### 2. What is/are the insight(s) found from the chart?"
      ],
      "metadata": {
        "id": "tgIPom80phqQ"
      }
    },
    {
      "cell_type": "markdown",
      "source": [
        "Answer Here"
      ],
      "metadata": {
        "id": "Qp13pnNzphqQ"
      }
    },
    {
      "cell_type": "markdown",
      "source": [
        "##### 3. Will the gained insights help creating a positive business impact? \n",
        "Are there any insights that lead to negative growth? Justify with specific reason."
      ],
      "metadata": {
        "id": "JMzcOPDDphqR"
      }
    },
    {
      "cell_type": "markdown",
      "source": [
        "Answer Here"
      ],
      "metadata": {
        "id": "R4Ka1PC2phqR"
      }
    },
    {
      "cell_type": "markdown",
      "source": [
        "#### Chart - 11"
      ],
      "metadata": {
        "id": "x-EpHcCOp1ci"
      }
    },
    {
      "cell_type": "code",
      "source": [
        "# Chart - 11 visualization code"
      ],
      "metadata": {
        "id": "mAQTIvtqp1cj"
      },
      "execution_count": 74,
      "outputs": []
    },
    {
      "cell_type": "markdown",
      "source": [
        "##### 1. Why did you pick the specific chart?"
      ],
      "metadata": {
        "id": "X_VqEhTip1ck"
      }
    },
    {
      "cell_type": "markdown",
      "source": [
        "Answer Here."
      ],
      "metadata": {
        "id": "-vsMzt_np1ck"
      }
    },
    {
      "cell_type": "markdown",
      "source": [
        "##### 2. What is/are the insight(s) found from the chart?"
      ],
      "metadata": {
        "id": "8zGJKyg5p1ck"
      }
    },
    {
      "cell_type": "markdown",
      "source": [
        "Answer Here"
      ],
      "metadata": {
        "id": "ZYdMsrqVp1ck"
      }
    },
    {
      "cell_type": "markdown",
      "source": [
        "##### 3. Will the gained insights help creating a positive business impact? \n",
        "Are there any insights that lead to negative growth? Justify with specific reason."
      ],
      "metadata": {
        "id": "PVzmfK_Ep1ck"
      }
    },
    {
      "cell_type": "markdown",
      "source": [
        "Answer Here"
      ],
      "metadata": {
        "id": "druuKYZpp1ck"
      }
    },
    {
      "cell_type": "markdown",
      "source": [
        "#### Chart - 12"
      ],
      "metadata": {
        "id": "n3dbpmDWp1ck"
      }
    },
    {
      "cell_type": "code",
      "source": [
        "# Chart - 12 visualization code"
      ],
      "metadata": {
        "id": "bwevp1tKp1ck"
      },
      "execution_count": 75,
      "outputs": []
    },
    {
      "cell_type": "markdown",
      "source": [
        "##### 1. Why did you pick the specific chart?"
      ],
      "metadata": {
        "id": "ylSl6qgtp1ck"
      }
    },
    {
      "cell_type": "markdown",
      "source": [
        "Answer Here."
      ],
      "metadata": {
        "id": "m2xqNkiQp1ck"
      }
    },
    {
      "cell_type": "markdown",
      "source": [
        "##### 2. What is/are the insight(s) found from the chart?"
      ],
      "metadata": {
        "id": "ZWILFDl5p1ck"
      }
    },
    {
      "cell_type": "markdown",
      "source": [
        "Answer Here"
      ],
      "metadata": {
        "id": "x-lUsV2mp1ck"
      }
    },
    {
      "cell_type": "markdown",
      "source": [
        "##### 3. Will the gained insights help creating a positive business impact? \n",
        "Are there any insights that lead to negative growth? Justify with specific reason."
      ],
      "metadata": {
        "id": "M7G43BXep1ck"
      }
    },
    {
      "cell_type": "markdown",
      "source": [
        "Answer Here"
      ],
      "metadata": {
        "id": "5wwDJXsLp1cl"
      }
    },
    {
      "cell_type": "markdown",
      "source": [
        "#### Chart - 13"
      ],
      "metadata": {
        "id": "Ag9LCva-p1cl"
      }
    },
    {
      "cell_type": "code",
      "source": [
        "# Chart - 13 visualization code"
      ],
      "metadata": {
        "id": "EUfxeq9-p1cl"
      },
      "execution_count": 76,
      "outputs": []
    },
    {
      "cell_type": "markdown",
      "source": [
        "##### 1. Why did you pick the specific chart?"
      ],
      "metadata": {
        "id": "E6MkPsBcp1cl"
      }
    },
    {
      "cell_type": "markdown",
      "source": [
        "Answer Here."
      ],
      "metadata": {
        "id": "V22bRsFWp1cl"
      }
    },
    {
      "cell_type": "markdown",
      "source": [
        "##### 2. What is/are the insight(s) found from the chart?"
      ],
      "metadata": {
        "id": "2cELzS2fp1cl"
      }
    },
    {
      "cell_type": "markdown",
      "source": [
        "Answer Here"
      ],
      "metadata": {
        "id": "ozQPc2_Ip1cl"
      }
    },
    {
      "cell_type": "markdown",
      "source": [
        "##### 3. Will the gained insights help creating a positive business impact? \n",
        "Are there any insights that lead to negative growth? Justify with specific reason."
      ],
      "metadata": {
        "id": "3MPXvC8up1cl"
      }
    },
    {
      "cell_type": "markdown",
      "source": [
        "Answer Here"
      ],
      "metadata": {
        "id": "GL8l1tdLp1cl"
      }
    },
    {
      "cell_type": "markdown",
      "source": [
        "#### Chart - 14 - Correlation Heatmap"
      ],
      "metadata": {
        "id": "NC_X3p0fY2L0"
      }
    },
    {
      "cell_type": "code",
      "source": [
        "# Correlation Heatmap visualization code"
      ],
      "metadata": {
        "id": "xyC9zolEZNRQ"
      },
      "execution_count": 77,
      "outputs": []
    },
    {
      "cell_type": "markdown",
      "source": [
        "##### 1. Why did you pick the specific chart?"
      ],
      "metadata": {
        "id": "UV0SzAkaZNRQ"
      }
    },
    {
      "cell_type": "markdown",
      "source": [
        "Answer Here."
      ],
      "metadata": {
        "id": "DVPuT8LYZNRQ"
      }
    },
    {
      "cell_type": "markdown",
      "source": [
        "##### 2. What is/are the insight(s) found from the chart?"
      ],
      "metadata": {
        "id": "YPEH6qLeZNRQ"
      }
    },
    {
      "cell_type": "markdown",
      "source": [
        "Answer Here"
      ],
      "metadata": {
        "id": "bfSqtnDqZNRR"
      }
    },
    {
      "cell_type": "markdown",
      "source": [
        "#### Chart - 15 - Pair Plot "
      ],
      "metadata": {
        "id": "q29F0dvdveiT"
      }
    },
    {
      "cell_type": "code",
      "source": [
        "# Pair Plot visualization code"
      ],
      "metadata": {
        "id": "o58-TEIhveiU"
      },
      "execution_count": 78,
      "outputs": []
    },
    {
      "cell_type": "markdown",
      "source": [
        "##### 1. Why did you pick the specific chart?"
      ],
      "metadata": {
        "id": "EXh0U9oCveiU"
      }
    },
    {
      "cell_type": "markdown",
      "source": [
        "Answer Here."
      ],
      "metadata": {
        "id": "eMmPjTByveiU"
      }
    },
    {
      "cell_type": "markdown",
      "source": [
        "##### 2. What is/are the insight(s) found from the chart?"
      ],
      "metadata": {
        "id": "22aHeOlLveiV"
      }
    },
    {
      "cell_type": "markdown",
      "source": [
        "Answer Here"
      ],
      "metadata": {
        "id": "uPQ8RGwHveiV"
      }
    },
    {
      "cell_type": "markdown",
      "source": [
        "## ***5. Hypothesis Testing***"
      ],
      "metadata": {
        "id": "g-ATYxFrGrvw"
      }
    },
    {
      "cell_type": "markdown",
      "source": [
        "### Based on your chart experiments, define three hypothetical statements from the dataset. In the next three questions, perform hypothesis testing to obtain final conclusion about the statements through your code and statistical testing."
      ],
      "metadata": {
        "id": "Yfr_Vlr8HBkt"
      }
    },
    {
      "cell_type": "markdown",
      "source": [
        "Answer Here."
      ],
      "metadata": {
        "id": "-7MS06SUHkB-"
      }
    },
    {
      "cell_type": "markdown",
      "source": [
        "### Hypothetical Statement - 1"
      ],
      "metadata": {
        "id": "8yEUt7NnHlrM"
      }
    },
    {
      "cell_type": "markdown",
      "source": [
        "#### 1. State Your research hypothesis as a null hypothesis and alternate hypothesis."
      ],
      "metadata": {
        "id": "tEA2Xm5dHt1r"
      }
    },
    {
      "cell_type": "markdown",
      "source": [
        "Answer Here."
      ],
      "metadata": {
        "id": "HI9ZP0laH0D-"
      }
    },
    {
      "cell_type": "markdown",
      "source": [
        "#### 2. Perform an appropriate statistical test."
      ],
      "metadata": {
        "id": "I79__PHVH19G"
      }
    },
    {
      "cell_type": "code",
      "source": [
        "# Perform Statistical Test to obtain P-Value"
      ],
      "metadata": {
        "id": "oZrfquKtyian"
      },
      "execution_count": 79,
      "outputs": []
    },
    {
      "cell_type": "markdown",
      "source": [
        "##### Which statistical test have you done to obtain P-Value?"
      ],
      "metadata": {
        "id": "Ou-I18pAyIpj"
      }
    },
    {
      "cell_type": "markdown",
      "source": [
        "Answer Here."
      ],
      "metadata": {
        "id": "s2U0kk00ygSB"
      }
    },
    {
      "cell_type": "markdown",
      "source": [
        "##### Why did you choose the specific statistical test?"
      ],
      "metadata": {
        "id": "fF3858GYyt-u"
      }
    },
    {
      "cell_type": "markdown",
      "source": [
        "Answer Here."
      ],
      "metadata": {
        "id": "HO4K0gP5y3B4"
      }
    },
    {
      "cell_type": "markdown",
      "source": [
        "### Hypothetical Statement - 2"
      ],
      "metadata": {
        "id": "4_0_7-oCpUZd"
      }
    },
    {
      "cell_type": "markdown",
      "source": [
        "#### 1. State Your research hypothesis as a null hypothesis and alternate hypothesis."
      ],
      "metadata": {
        "id": "hwyV_J3ipUZe"
      }
    },
    {
      "cell_type": "markdown",
      "source": [
        "Answer Here."
      ],
      "metadata": {
        "id": "FnpLGJ-4pUZe"
      }
    },
    {
      "cell_type": "markdown",
      "source": [
        "#### 2. Perform an appropriate statistical test."
      ],
      "metadata": {
        "id": "3yB-zSqbpUZe"
      }
    },
    {
      "cell_type": "code",
      "source": [
        "# Perform Statistical Test to obtain P-Value"
      ],
      "metadata": {
        "id": "sWxdNTXNpUZe"
      },
      "execution_count": 80,
      "outputs": []
    },
    {
      "cell_type": "markdown",
      "source": [
        "##### Which statistical test have you done to obtain P-Value?"
      ],
      "metadata": {
        "id": "dEUvejAfpUZe"
      }
    },
    {
      "cell_type": "markdown",
      "source": [
        "Answer Here."
      ],
      "metadata": {
        "id": "oLDrPz7HpUZf"
      }
    },
    {
      "cell_type": "markdown",
      "source": [
        "##### Why did you choose the specific statistical test?"
      ],
      "metadata": {
        "id": "Fd15vwWVpUZf"
      }
    },
    {
      "cell_type": "markdown",
      "source": [
        "Answer Here."
      ],
      "metadata": {
        "id": "4xOGYyiBpUZf"
      }
    },
    {
      "cell_type": "markdown",
      "source": [
        "### Hypothetical Statement - 3"
      ],
      "metadata": {
        "id": "bn_IUdTipZyH"
      }
    },
    {
      "cell_type": "markdown",
      "source": [
        "#### 1. State Your research hypothesis as a null hypothesis and alternate hypothesis."
      ],
      "metadata": {
        "id": "49K5P_iCpZyH"
      }
    },
    {
      "cell_type": "markdown",
      "source": [
        "Answer Here."
      ],
      "metadata": {
        "id": "7gWI5rT9pZyH"
      }
    },
    {
      "cell_type": "markdown",
      "source": [
        "#### 2. Perform an appropriate statistical test."
      ],
      "metadata": {
        "id": "Nff-vKELpZyI"
      }
    },
    {
      "cell_type": "code",
      "source": [
        "# Perform Statistical Test to obtain P-Value"
      ],
      "metadata": {
        "id": "s6AnJQjtpZyI"
      },
      "execution_count": 81,
      "outputs": []
    },
    {
      "cell_type": "markdown",
      "source": [
        "##### Which statistical test have you done to obtain P-Value?"
      ],
      "metadata": {
        "id": "kLW572S8pZyI"
      }
    },
    {
      "cell_type": "markdown",
      "source": [
        "Answer Here."
      ],
      "metadata": {
        "id": "ytWJ8v15pZyI"
      }
    },
    {
      "cell_type": "markdown",
      "source": [
        "##### Why did you choose the specific statistical test?"
      ],
      "metadata": {
        "id": "dWbDXHzopZyI"
      }
    },
    {
      "cell_type": "markdown",
      "source": [
        "Answer Here."
      ],
      "metadata": {
        "id": "M99G98V6pZyI"
      }
    },
    {
      "cell_type": "markdown",
      "source": [
        "## ***6. Feature Engineering & Data Pre-processing***"
      ],
      "metadata": {
        "id": "yLjJCtPM0KBk"
      }
    },
    {
      "cell_type": "markdown",
      "source": [
        "### 1. Handling Missing Values"
      ],
      "metadata": {
        "id": "xiyOF9F70UgQ"
      }
    },
    {
      "cell_type": "code",
      "source": [
        "# Handling Missing Values & Missing Value Imputation"
      ],
      "metadata": {
        "id": "iRsAHk1K0fpS"
      },
      "execution_count": 82,
      "outputs": []
    },
    {
      "cell_type": "markdown",
      "source": [
        "#### What all missing value imputation techniques have you used and why did you use those techniques?"
      ],
      "metadata": {
        "id": "7wuGOrhz0itI"
      }
    },
    {
      "cell_type": "markdown",
      "source": [
        "Answer Here."
      ],
      "metadata": {
        "id": "1ixusLtI0pqI"
      }
    },
    {
      "cell_type": "markdown",
      "source": [
        "### 2. Handling Outliers"
      ],
      "metadata": {
        "id": "id1riN9m0vUs"
      }
    },
    {
      "cell_type": "code",
      "source": [
        "# Handling Outliers & Outlier treatments"
      ],
      "metadata": {
        "id": "M6w2CzZf04JK"
      },
      "execution_count": 83,
      "outputs": []
    },
    {
      "cell_type": "markdown",
      "source": [
        "##### What all outlier treatment techniques have you used and why did you use those techniques?"
      ],
      "metadata": {
        "id": "578E2V7j08f6"
      }
    },
    {
      "cell_type": "markdown",
      "source": [
        "Answer Here."
      ],
      "metadata": {
        "id": "uGZz5OrT1HH-"
      }
    },
    {
      "cell_type": "markdown",
      "source": [
        "### 3. Categorical Encoding"
      ],
      "metadata": {
        "id": "89xtkJwZ18nB"
      }
    },
    {
      "cell_type": "code",
      "source": [
        "# Encode your categorical columns"
      ],
      "metadata": {
        "id": "21JmIYMG2hEo"
      },
      "execution_count": 84,
      "outputs": []
    },
    {
      "cell_type": "markdown",
      "source": [
        "#### What all categorical encoding techniques have you used & why did you use those techniques?"
      ],
      "metadata": {
        "id": "67NQN5KX2AMe"
      }
    },
    {
      "cell_type": "markdown",
      "source": [
        "Answer Here."
      ],
      "metadata": {
        "id": "UDaue5h32n_G"
      }
    },
    {
      "cell_type": "markdown",
      "source": [
        "### 4. Textual Data Preprocessing \n",
        "(It's mandatory for textual dataset i.e., NLP, Sentiment Analysis, Text Clustering etc.)"
      ],
      "metadata": {
        "id": "Iwf50b-R2tYG"
      }
    },
    {
      "cell_type": "markdown",
      "source": [
        "#### 1. Expand Contraction"
      ],
      "metadata": {
        "id": "GMQiZwjn3iu7"
      }
    },
    {
      "cell_type": "code",
      "source": [
        "# Expand Contraction"
      ],
      "metadata": {
        "id": "PTouz10C3oNN"
      },
      "execution_count": 85,
      "outputs": []
    },
    {
      "cell_type": "markdown",
      "source": [
        "#### 2. Lower Casing"
      ],
      "metadata": {
        "id": "WVIkgGqN3qsr"
      }
    },
    {
      "cell_type": "code",
      "source": [
        "# Lower Casing"
      ],
      "metadata": {
        "id": "88JnJ1jN3w7j"
      },
      "execution_count": 86,
      "outputs": []
    },
    {
      "cell_type": "markdown",
      "source": [
        "#### 3. Removing Punctuations"
      ],
      "metadata": {
        "id": "XkPnILGE3zoT"
      }
    },
    {
      "cell_type": "code",
      "source": [
        "# Remove Punctuations"
      ],
      "metadata": {
        "id": "vqbBqNaA33c0"
      },
      "execution_count": 87,
      "outputs": []
    },
    {
      "cell_type": "markdown",
      "source": [
        "#### 4. Removing URLs & Removing words and digits contain digits."
      ],
      "metadata": {
        "id": "Hlsf0x5436Go"
      }
    },
    {
      "cell_type": "code",
      "source": [
        "# Remove URLs & Remove words and digits contain digits"
      ],
      "metadata": {
        "id": "2sxKgKxu4Ip3"
      },
      "execution_count": 88,
      "outputs": []
    },
    {
      "cell_type": "markdown",
      "source": [
        "#### 5. Removing Stopwords & Removing White spaces"
      ],
      "metadata": {
        "id": "mT9DMSJo4nBL"
      }
    },
    {
      "cell_type": "code",
      "source": [
        "# Remove Stopwords"
      ],
      "metadata": {
        "id": "T2LSJh154s8W"
      },
      "execution_count": 89,
      "outputs": []
    },
    {
      "cell_type": "code",
      "source": [
        "# Remove White spaces"
      ],
      "metadata": {
        "id": "EgLJGffy4vm0"
      },
      "execution_count": 90,
      "outputs": []
    },
    {
      "cell_type": "markdown",
      "source": [
        "#### 6. Rephrase Text"
      ],
      "metadata": {
        "id": "c49ITxTc407N"
      }
    },
    {
      "cell_type": "code",
      "source": [
        "# Rephrase Text"
      ],
      "metadata": {
        "id": "foqY80Qu48N2"
      },
      "execution_count": 91,
      "outputs": []
    },
    {
      "cell_type": "markdown",
      "source": [
        "#### 7. Tokenization"
      ],
      "metadata": {
        "id": "OeJFEK0N496M"
      }
    },
    {
      "cell_type": "code",
      "source": [
        "# Tokenization"
      ],
      "metadata": {
        "id": "ijx1rUOS5CUU"
      },
      "execution_count": 92,
      "outputs": []
    },
    {
      "cell_type": "markdown",
      "source": [
        "#### 8. Text Normalization"
      ],
      "metadata": {
        "id": "9ExmJH0g5HBk"
      }
    },
    {
      "cell_type": "code",
      "source": [
        "# Normalizing Text (i.e., Stemming, Lemmatization etc.)"
      ],
      "metadata": {
        "id": "AIJ1a-Zc5PY8"
      },
      "execution_count": 93,
      "outputs": []
    },
    {
      "cell_type": "markdown",
      "source": [
        "##### Which text normalization technique have you used and why?"
      ],
      "metadata": {
        "id": "cJNqERVU536h"
      }
    },
    {
      "cell_type": "markdown",
      "source": [
        "Answer Here."
      ],
      "metadata": {
        "id": "Z9jKVxE06BC1"
      }
    },
    {
      "cell_type": "markdown",
      "source": [
        "#### 9. Part of speech tagging"
      ],
      "metadata": {
        "id": "k5UmGsbsOxih"
      }
    },
    {
      "cell_type": "code",
      "source": [
        "# POS Taging"
      ],
      "metadata": {
        "id": "btT3ZJBAO6Ik"
      },
      "execution_count": 94,
      "outputs": []
    },
    {
      "cell_type": "markdown",
      "source": [
        "#### 10. Text Vectorization"
      ],
      "metadata": {
        "id": "T0VqWOYE6DLQ"
      }
    },
    {
      "cell_type": "code",
      "source": [
        "# Vectorizing Text"
      ],
      "metadata": {
        "id": "yBRtdhth6JDE"
      },
      "execution_count": 95,
      "outputs": []
    },
    {
      "cell_type": "markdown",
      "source": [
        "##### Which text vectorization technique have you used and why?"
      ],
      "metadata": {
        "id": "qBMux9mC6MCf"
      }
    },
    {
      "cell_type": "markdown",
      "source": [
        "Answer Here."
      ],
      "metadata": {
        "id": "su2EnbCh6UKQ"
      }
    },
    {
      "cell_type": "markdown",
      "source": [
        "### 4. Feature Manipulation & Selection"
      ],
      "metadata": {
        "id": "-oLEiFgy-5Pf"
      }
    },
    {
      "cell_type": "markdown",
      "source": [
        "#### 1. Feature Manipulation"
      ],
      "metadata": {
        "id": "C74aWNz2AliB"
      }
    },
    {
      "cell_type": "code",
      "source": [
        "# Manipulate Features to minimize feature correlation and create new features"
      ],
      "metadata": {
        "id": "h1qC4yhBApWC"
      },
      "execution_count": 96,
      "outputs": []
    },
    {
      "cell_type": "markdown",
      "source": [
        "#### 2. Feature Selection"
      ],
      "metadata": {
        "id": "2DejudWSA-a0"
      }
    },
    {
      "cell_type": "code",
      "source": [
        "# Select your features wisely to avoid overfitting"
      ],
      "metadata": {
        "id": "YLhe8UmaBCEE"
      },
      "execution_count": 97,
      "outputs": []
    },
    {
      "cell_type": "markdown",
      "source": [
        "##### What all feature selection methods have you used  and why?"
      ],
      "metadata": {
        "id": "pEMng2IbBLp7"
      }
    },
    {
      "cell_type": "markdown",
      "source": [
        "Answer Here."
      ],
      "metadata": {
        "id": "rb2Lh6Z8BgGs"
      }
    },
    {
      "cell_type": "markdown",
      "source": [
        "##### Which all features you found important and why?"
      ],
      "metadata": {
        "id": "rAdphbQ9Bhjc"
      }
    },
    {
      "cell_type": "markdown",
      "source": [
        "Answer Here."
      ],
      "metadata": {
        "id": "fGgaEstsBnaf"
      }
    },
    {
      "cell_type": "markdown",
      "source": [
        "### 5. Data Transformation"
      ],
      "metadata": {
        "id": "TNVZ9zx19K6k"
      }
    },
    {
      "cell_type": "markdown",
      "source": [
        "#### Do you think that your data needs to be transformed? If yes, which transformation have you used. Explain Why?"
      ],
      "metadata": {
        "id": "nqoHp30x9hH9"
      }
    },
    {
      "cell_type": "code",
      "source": [
        "# Transform Your data"
      ],
      "metadata": {
        "id": "I6quWQ1T9rtH"
      },
      "execution_count": 98,
      "outputs": []
    },
    {
      "cell_type": "markdown",
      "source": [
        "### 6. Data Scaling"
      ],
      "metadata": {
        "id": "rMDnDkt2B6du"
      }
    },
    {
      "cell_type": "code",
      "source": [
        "# Scaling your data"
      ],
      "metadata": {
        "id": "dL9LWpySC6x_"
      },
      "execution_count": 99,
      "outputs": []
    },
    {
      "cell_type": "markdown",
      "source": [
        "##### Which method have you used to scale you data and why?"
      ],
      "metadata": {
        "id": "yiiVWRdJDDil"
      }
    },
    {
      "cell_type": "markdown",
      "source": [
        "### 7. Dimesionality Reduction"
      ],
      "metadata": {
        "id": "1UUpS68QDMuG"
      }
    },
    {
      "cell_type": "markdown",
      "source": [
        "##### Do you think that dimensionality reduction is needed? Explain Why?"
      ],
      "metadata": {
        "id": "kexQrXU-DjzY"
      }
    },
    {
      "cell_type": "markdown",
      "source": [
        "Answer Here."
      ],
      "metadata": {
        "id": "GGRlBsSGDtTQ"
      }
    },
    {
      "cell_type": "code",
      "source": [
        "# DImensionality Reduction (If needed)"
      ],
      "metadata": {
        "id": "kQfvxBBHDvCa"
      },
      "execution_count": 100,
      "outputs": []
    },
    {
      "cell_type": "markdown",
      "source": [
        "##### Which dimensionality reduction technique have you used and why? (If dimensionality reduction done on dataset.)"
      ],
      "metadata": {
        "id": "T5CmagL3EC8N"
      }
    },
    {
      "cell_type": "markdown",
      "source": [
        "Answer Here."
      ],
      "metadata": {
        "id": "ZKr75IDuEM7t"
      }
    },
    {
      "cell_type": "markdown",
      "source": [
        "### 8. Data Splitting"
      ],
      "metadata": {
        "id": "BhH2vgX9EjGr"
      }
    },
    {
      "cell_type": "code",
      "source": [
        "# Split your data to train and test. Choose Splitting ratio wisely."
      ],
      "metadata": {
        "id": "0CTyd2UwEyNM"
      },
      "execution_count": 101,
      "outputs": []
    },
    {
      "cell_type": "markdown",
      "source": [
        "##### What data splitting ratio have you used and why? "
      ],
      "metadata": {
        "id": "qjKvONjwE8ra"
      }
    },
    {
      "cell_type": "markdown",
      "source": [
        "Answer Here."
      ],
      "metadata": {
        "id": "Y2lJ8cobFDb_"
      }
    },
    {
      "cell_type": "markdown",
      "source": [
        "### 9. Handling Imbalanced Dataset"
      ],
      "metadata": {
        "id": "P1XJ9OREExlT"
      }
    },
    {
      "cell_type": "markdown",
      "source": [
        "##### Do you think the dataset is imbalanced? Explain Why."
      ],
      "metadata": {
        "id": "VFOzZv6IFROw"
      }
    },
    {
      "cell_type": "markdown",
      "source": [
        "Answer Here."
      ],
      "metadata": {
        "id": "GeKDIv7pFgcC"
      }
    },
    {
      "cell_type": "code",
      "source": [
        "# Handling Imbalanced Dataset (If needed)"
      ],
      "metadata": {
        "id": "nQsRhhZLFiDs"
      },
      "execution_count": 102,
      "outputs": []
    },
    {
      "cell_type": "markdown",
      "source": [
        "##### What technique did you use to handle the imbalance dataset and why? (If needed to be balanced)"
      ],
      "metadata": {
        "id": "TIqpNgepFxVj"
      }
    },
    {
      "cell_type": "markdown",
      "source": [
        "Answer Here."
      ],
      "metadata": {
        "id": "qbet1HwdGDTz"
      }
    },
    {
      "cell_type": "markdown",
      "source": [
        "## ***7. ML Model Implementation***"
      ],
      "metadata": {
        "id": "VfCC591jGiD4"
      }
    },
    {
      "cell_type": "markdown",
      "source": [
        "### ML Model - 1"
      ],
      "metadata": {
        "id": "OB4l2ZhMeS1U"
      }
    },
    {
      "cell_type": "code",
      "source": [
        "# ML Model - 1 Implementation\n",
        "\n",
        "# Fit the Algorithm\n",
        "\n",
        "# Predict on the model"
      ],
      "metadata": {
        "id": "7ebyywQieS1U"
      },
      "execution_count": 103,
      "outputs": []
    },
    {
      "cell_type": "markdown",
      "source": [
        "#### 1. Explain the ML Model used and it's performance using Evaluation metric Score Chart."
      ],
      "metadata": {
        "id": "ArJBuiUVfxKd"
      }
    },
    {
      "cell_type": "code",
      "source": [
        "# Visualizing evaluation Metric Score chart"
      ],
      "metadata": {
        "id": "rqD5ZohzfxKe"
      },
      "execution_count": 104,
      "outputs": []
    },
    {
      "cell_type": "markdown",
      "source": [
        "#### 2. Cross- Validation & Hyperparameter Tuning"
      ],
      "metadata": {
        "id": "4qY1EAkEfxKe"
      }
    },
    {
      "cell_type": "code",
      "source": [
        "# ML Model - 1 Implementation with hyperparameter optimization techniques (i.e., GridSearch CV, RandomSearch CV, Bayesian Optimization etc.)\n",
        "\n",
        "# Fit the Algorithm\n",
        "\n",
        "# Predict on the model"
      ],
      "metadata": {
        "id": "Dy61ujd6fxKe"
      },
      "execution_count": 105,
      "outputs": []
    },
    {
      "cell_type": "markdown",
      "source": [
        "##### Which hyperparameter optimization technique have you used and why?"
      ],
      "metadata": {
        "id": "PiV4Ypx8fxKe"
      }
    },
    {
      "cell_type": "markdown",
      "source": [
        "Answer Here."
      ],
      "metadata": {
        "id": "negyGRa7fxKf"
      }
    },
    {
      "cell_type": "markdown",
      "source": [
        "##### Have you seen any improvement? Note down the improvement with updates Evaluation metric Score Chart."
      ],
      "metadata": {
        "id": "TfvqoZmBfxKf"
      }
    },
    {
      "cell_type": "markdown",
      "source": [
        "Answer Here."
      ],
      "metadata": {
        "id": "OaLui8CcfxKf"
      }
    },
    {
      "cell_type": "markdown",
      "source": [
        "### ML Model - 2"
      ],
      "metadata": {
        "id": "dJ2tPlVmpsJ0"
      }
    },
    {
      "cell_type": "markdown",
      "source": [
        "#### 1. Explain the ML Model used and it's performance using Evaluation metric Score Chart."
      ],
      "metadata": {
        "id": "JWYfwnehpsJ1"
      }
    },
    {
      "cell_type": "code",
      "source": [
        "# Visualizing evaluation Metric Score chart"
      ],
      "metadata": {
        "id": "yEl-hgQWpsJ1"
      },
      "execution_count": 106,
      "outputs": []
    },
    {
      "cell_type": "markdown",
      "source": [
        "#### 2. Cross- Validation & Hyperparameter Tuning"
      ],
      "metadata": {
        "id": "-jK_YjpMpsJ2"
      }
    },
    {
      "cell_type": "code",
      "source": [
        "# ML Model - 1 Implementation with hyperparameter optimization techniques (i.e., GridSearch CV, RandomSearch CV, Bayesian Optimization etc.)\n",
        "\n",
        "# Fit the Algorithm\n",
        "\n",
        "# Predict on the model"
      ],
      "metadata": {
        "id": "Dn0EOfS6psJ2"
      },
      "execution_count": 107,
      "outputs": []
    },
    {
      "cell_type": "markdown",
      "source": [
        "##### Which hyperparameter optimization technique have you used and why?"
      ],
      "metadata": {
        "id": "HAih1iBOpsJ2"
      }
    },
    {
      "cell_type": "markdown",
      "source": [
        "Answer Here."
      ],
      "metadata": {
        "id": "9kBgjYcdpsJ2"
      }
    },
    {
      "cell_type": "markdown",
      "source": [
        "##### Have you seen any improvement? Note down the improvement with updates Evaluation metric Score Chart."
      ],
      "metadata": {
        "id": "zVGeBEFhpsJ2"
      }
    },
    {
      "cell_type": "markdown",
      "source": [
        "Answer Here."
      ],
      "metadata": {
        "id": "74yRdG6UpsJ3"
      }
    },
    {
      "cell_type": "markdown",
      "source": [
        "#### 3. Explain each evaluation metric's indication towards business and the business impact pf the ML model used."
      ],
      "metadata": {
        "id": "bmKjuQ-FpsJ3"
      }
    },
    {
      "cell_type": "markdown",
      "source": [
        "Answer Here."
      ],
      "metadata": {
        "id": "BDKtOrBQpsJ3"
      }
    },
    {
      "cell_type": "markdown",
      "source": [
        "### ML Model - 3"
      ],
      "metadata": {
        "id": "Fze-IPXLpx6K"
      }
    },
    {
      "cell_type": "code",
      "source": [
        "# ML Model - 3 Implementation\n",
        "\n",
        "# Fit the Algorithm\n",
        "\n",
        "# Predict on the model"
      ],
      "metadata": {
        "id": "FFrSXAtrpx6M"
      },
      "execution_count": 108,
      "outputs": []
    },
    {
      "cell_type": "markdown",
      "source": [
        "#### 1. Explain the ML Model used and it's performance using Evaluation metric Score Chart."
      ],
      "metadata": {
        "id": "7AN1z2sKpx6M"
      }
    },
    {
      "cell_type": "code",
      "source": [
        "# Visualizing evaluation Metric Score chart"
      ],
      "metadata": {
        "id": "xIY4lxxGpx6M"
      },
      "execution_count": 109,
      "outputs": []
    },
    {
      "cell_type": "markdown",
      "source": [
        "#### 2. Cross- Validation & Hyperparameter Tuning"
      ],
      "metadata": {
        "id": "9PIHJqyupx6M"
      }
    },
    {
      "cell_type": "code",
      "source": [
        "# ML Model - 3 Implementation with hyperparameter optimization techniques (i.e., GridSearch CV, RandomSearch CV, Bayesian Optimization etc.)\n",
        "\n",
        "# Fit the Algorithm\n",
        "\n",
        "# Predict on the model"
      ],
      "metadata": {
        "id": "eSVXuaSKpx6M"
      },
      "execution_count": 110,
      "outputs": []
    },
    {
      "cell_type": "markdown",
      "source": [
        "##### Which hyperparameter optimization technique have you used and why?"
      ],
      "metadata": {
        "id": "_-qAgymDpx6N"
      }
    },
    {
      "cell_type": "markdown",
      "source": [
        "Answer Here."
      ],
      "metadata": {
        "id": "lQMffxkwpx6N"
      }
    },
    {
      "cell_type": "markdown",
      "source": [
        "##### Have you seen any improvement? Note down the improvement with updates Evaluation metric Score Chart."
      ],
      "metadata": {
        "id": "Z-hykwinpx6N"
      }
    },
    {
      "cell_type": "markdown",
      "source": [
        "Answer Here."
      ],
      "metadata": {
        "id": "MzVzZC6opx6N"
      }
    },
    {
      "cell_type": "markdown",
      "source": [
        "### 1. Which Evaluation metrics did you consider for a positive business impact and why?"
      ],
      "metadata": {
        "id": "h_CCil-SKHpo"
      }
    },
    {
      "cell_type": "markdown",
      "source": [
        "Answer Here."
      ],
      "metadata": {
        "id": "jHVz9hHDKFms"
      }
    },
    {
      "cell_type": "markdown",
      "source": [
        "### 2. Which ML model did you choose from the above created models as your final prediction model and why?"
      ],
      "metadata": {
        "id": "cBFFvTBNJzUa"
      }
    },
    {
      "cell_type": "markdown",
      "source": [
        "Answer Here."
      ],
      "metadata": {
        "id": "6ksF5Q1LKTVm"
      }
    },
    {
      "cell_type": "markdown",
      "source": [
        "### 3. Explain the model which you have used and the feature importance using any model explainability tool?"
      ],
      "metadata": {
        "id": "HvGl1hHyA_VK"
      }
    },
    {
      "cell_type": "markdown",
      "source": [
        "Answer Here."
      ],
      "metadata": {
        "id": "YnvVTiIxBL-C"
      }
    },
    {
      "cell_type": "markdown",
      "source": [
        "## ***8.*** ***Future Work (Optional)***"
      ],
      "metadata": {
        "id": "EyNgTHvd2WFk"
      }
    },
    {
      "cell_type": "markdown",
      "source": [
        "### 1. Save the best performing ml model in a pickle file or joblib file format for deployment process.\n"
      ],
      "metadata": {
        "id": "KH5McJBi2d8v"
      }
    },
    {
      "cell_type": "code",
      "source": [
        "# Save the File"
      ],
      "metadata": {
        "id": "bQIANRl32f4J"
      },
      "execution_count": 111,
      "outputs": []
    },
    {
      "cell_type": "markdown",
      "source": [
        "### 2. Again Load the saved model file and try to predict unseen data for a sanity check.\n"
      ],
      "metadata": {
        "id": "iW_Lq9qf2h6X"
      }
    },
    {
      "cell_type": "code",
      "source": [
        "# Load the File and predict unseen data."
      ],
      "metadata": {
        "id": "oEXk9ydD2nVC"
      },
      "execution_count": 112,
      "outputs": []
    },
    {
      "cell_type": "markdown",
      "source": [
        "### ***Congrats! Your model is successfully created and ready for deployment on a live server for a real user interaction !!!***"
      ],
      "metadata": {
        "id": "-Kee-DAl2viO"
      }
    },
    {
      "cell_type": "markdown",
      "source": [
        "# **Conclusion**"
      ],
      "metadata": {
        "id": "gCX9965dhzqZ"
      }
    },
    {
      "cell_type": "markdown",
      "source": [
        "Write the conclusion here."
      ],
      "metadata": {
        "id": "Fjb1IsQkh3yE"
      }
    },
    {
      "cell_type": "markdown",
      "source": [
        "### ***Hurrah! You have successfully completed your Machine Learning Capstone Project !!!***"
      ],
      "metadata": {
        "id": "gIfDvo9L0UH2"
      }
    }
  ]
}